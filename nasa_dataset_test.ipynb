{
 "cells": [
  {
   "cell_type": "code",
   "execution_count": 16,
   "id": "9f9ead1e",
   "metadata": {},
   "outputs": [],
   "source": [
    "# Load relevant libraries\n",
    "import numpy as np\n",
    "import h5py"
   ]
  },
  {
   "cell_type": "code",
   "execution_count": 17,
   "id": "b0022ad0",
   "metadata": {},
   "outputs": [
    {
     "name": "stdout",
     "output_type": "stream",
     "text": [
      "['HDFEOS', 'HDFEOS INFORMATION']\n"
     ]
    }
   ],
   "source": [
    "# Create HDF5 File object to extract data from a sample atmospheric dataset pulled from NASA Earthdata\n",
    "filename = \"OMI.L2.TraceGasOMSO2Strip200kmAlongCloudSat.2011.05.26.183648Z.v003.he5\"\n",
    "fi = h5py.File(filename, 'r')\n",
    "\n",
    "# Display set of dataset dictionary-like keys\n",
    "set_list = list(fi.keys())\n",
    "print(set_list)"
   ]
  },
  {
   "cell_type": "code",
   "execution_count": 18,
   "id": "45a30023",
   "metadata": {},
   "outputs": [
    {
     "name": "stdout",
     "output_type": "stream",
     "text": [
      "<KeysViewHDF5 ['ADDITIONAL', 'SWATHS']>\n"
     ]
    }
   ],
   "source": [
    "# Find available table keys within HDFEOS dataset\n",
    "dataset1 = fi['HDFEOS']\n",
    "print(dataset1.keys())"
   ]
  },
  {
   "cell_type": "code",
   "execution_count": 19,
   "id": "b7e2875f",
   "metadata": {},
   "outputs": [
    {
     "name": "stdout",
     "output_type": "stream",
     "text": [
      "<KeysViewHDF5 ['OMI Total Column Amount SO2']>\n"
     ]
    }
   ],
   "source": [
    "# Find available table keys within HDFEOS\\SWATHS dataset\n",
    "print(dataset1['SWATHS'].keys())"
   ]
  },
  {
   "cell_type": "code",
   "execution_count": 20,
   "id": "6b632df3",
   "metadata": {},
   "outputs": [
    {
     "name": "stdout",
     "output_type": "stream",
     "text": [
      "<KeysViewHDF5 ['Data Fields', 'Geolocation Fields']>\n"
     ]
    }
   ],
   "source": [
    "# Find available table keys within HDFEOS\\SWATHS\\OMI Total Column Amount SO2 dataset on atmospheric sulfur\n",
    "print(dataset1['SWATHS']['OMI Total Column Amount SO2'].keys())"
   ]
  },
  {
   "cell_type": "code",
   "execution_count": 21,
   "id": "93f32b64",
   "metadata": {},
   "outputs": [
    {
     "name": "stdout",
     "output_type": "stream",
     "text": [
      "<KeysViewHDF5 ['AlgorithmFlag_PBL', 'AlgorithmFlag_STL', 'AlgorithmFlag_TRL', 'AlgorithmFlag_TRM', 'ChiSquareLfit', 'CloudPressure', 'ColumnAmountO3', 'ColumnAmountSO2_PBL', 'ColumnAmountSO2_PBLbrd', 'ColumnAmountSO2_STL', 'ColumnAmountSO2_STLbrd', 'ColumnAmountSO2_TRL', 'ColumnAmountSO2_TRM', 'ColumnAmountSO2_TRMbrd', 'LayerEfficiency', 'QualityFlags_PBL', 'QualityFlags_STL', 'QualityFlags_TRL', 'QualityFlags_TRM', 'RadiativeCloudFraction', 'Reflectivity331', 'Residual', 'ResidualAdjustment', 'Rlambda1st', 'Rlambda2nd', 'SO2indexP1', 'SO2indexP2', 'SO2indexP3', 'TerrainPressure', 'UVAerosolIndex', 'Wavelength', 'dN_dSO2_STL', 'dN_dSO2_TRL', 'dN_dSO2_TRM', 'deltaO3', 'deltaRefl', 'fc']>\n"
     ]
    }
   ],
   "source": [
    "# Display available Data Fields about atmospheric sulfur\n",
    "print(dataset1['SWATHS']['OMI Total Column Amount SO2']['Data Fields'].keys())"
   ]
  },
  {
   "cell_type": "code",
   "execution_count": 22,
   "id": "094f8c5b",
   "metadata": {},
   "outputs": [
    {
     "name": "stdout",
     "output_type": "stream",
     "text": [
      "<KeysViewHDF5 ['GroundPixelQualityFlags', 'Latitude', 'Longitude', 'RelativeAzimuthAngle', 'SecondsInDay', 'SolarAzimuthAngle', 'SolarZenithAngle', 'SpacecraftAltitude', 'SpacecraftLatitude', 'SpacecraftLongitude', 'SubsetStartFrameIndices', 'TerrainHeight', 'Time', 'ViewingAzimuthAngle', 'ViewingZenithAngle']>\n"
     ]
    }
   ],
   "source": [
    "# Display available Geolocation Fields about atmospheric sulfur\n",
    "print(dataset1['SWATHS']['OMI Total Column Amount SO2']['Geolocation Fields'].keys())"
   ]
  },
  {
   "cell_type": "code",
   "execution_count": 23,
   "id": "d00588bc",
   "metadata": {},
   "outputs": [
    {
     "name": "stdout",
     "output_type": "stream",
     "text": [
      "(1643, 9)\n"
     ]
    }
   ],
   "source": [
    "# Find the dimensions of sulfur dataset\n",
    "print(dataset1['SWATHS']['OMI Total Column Amount SO2']['Geolocation Fields']['Latitude'].shape)"
   ]
  },
  {
   "cell_type": "code",
   "execution_count": 24,
   "id": "0624ae2f",
   "metadata": {},
   "outputs": [
    {
     "name": "stdout",
     "output_type": "stream",
     "text": [
      "[249 250 251 252 253 254 255 256 257 258 259 260 261 262 263 264 265 266\n",
      " 267 268 269 270 271 272 273]\n"
     ]
    }
   ],
   "source": [
    "# Use index slicing to obtain data points on latitude/longitude coordinates in Numpy Array form\n",
    "lat1 = dataset1['SWATHS']['OMI Total Column Amount SO2']['Geolocation Fields']['Latitude'][:1643]\n",
    "long1 = dataset1['SWATHS']['OMI Total Column Amount SO2']['Geolocation Fields']['Longitude'][:1643]\n",
    "\n",
    "# Find the horizontal average coordinates in the sulfur observations Numpy Array\n",
    "lat2 = np.mean(lat1, axis=1)\n",
    "long2 = np.mean(long1, axis=1)\n",
    "\n",
    "# Find the indexes of coordinate Numpy Arrays that match the location of the Puyehue volcano in Chile (40 S, 72 W)\n",
    "# And confirm that there is a range of coinciding matching indexes for latitude and longtitude\n",
    "lat_matches = np.where(np.logical_and(lat2<=-39, lat2>=-42))\n",
    "long_matches = np.where(np.logical_and(long2<=-70, long2>=-74))\n",
    "print(np.intersect1d(lat_matches, long_matches))"
   ]
  },
  {
   "cell_type": "code",
   "execution_count": 25,
   "id": "3e69ef65",
   "metadata": {},
   "outputs": [
    {
     "name": "stdout",
     "output_type": "stream",
     "text": [
      "[-1.26765060e+30 -1.12680054e+30 -1.26765060e+30 -1.26765060e+30\n",
      " -1.26765060e+30 -1.26765060e+30 -1.26765060e+30 -1.26765060e+30\n",
      " -1.26765060e+30 -1.26765060e+30 -1.26765060e+30 -1.26765060e+30\n",
      " -1.26765060e+30 -1.26765060e+30 -1.26765060e+30 -1.26765060e+30\n",
      " -1.26765060e+30 -1.26765060e+30 -1.26765060e+30 -1.26765060e+30\n",
      " -1.26765060e+30 -1.26765060e+30 -1.26765060e+30 -1.26765060e+30]\n"
     ]
    }
   ],
   "source": [
    "# Create sample set of sulfur measurements using ColumnAmountSO2_TRL variable and the matching coordinate indexes\n",
    "sulfur1 = np.mean(dataset1['SWATHS']['OMI Total Column Amount SO2']['Data Fields']['ColumnAmountSO2_TRL'][:1643],\n",
    "                  axis=1)[249:273]\n",
    "print(sulfur1)"
   ]
  },
  {
   "cell_type": "code",
   "execution_count": null,
   "id": "0b09d487",
   "metadata": {},
   "outputs": [],
   "source": []
  }
 ],
 "metadata": {
  "kernelspec": {
   "display_name": "Python 3",
   "language": "python",
   "name": "python3"
  },
  "language_info": {
   "codemirror_mode": {
    "name": "ipython",
    "version": 3
   },
   "file_extension": ".py",
   "mimetype": "text/x-python",
   "name": "python",
   "nbconvert_exporter": "python",
   "pygments_lexer": "ipython3",
   "version": "3.8.8"
  }
 },
 "nbformat": 4,
 "nbformat_minor": 5
}
