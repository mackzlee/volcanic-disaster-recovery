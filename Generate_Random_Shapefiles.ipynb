{
  "nbformat": 4,
  "nbformat_minor": 0,
  "metadata": {
    "colab": {
      "name": "Generate Shapefiles.ipynb",
      "provenance": [],
      "collapsed_sections": []
    },
    "kernelspec": {
      "name": "python3",
      "display_name": "Python 3"
    },
    "language_info": {
      "name": "python"
    }
  },
  "cells": [
    {
      "cell_type": "code",
      "execution_count": null,
      "metadata": {
        "colab": {
          "base_uri": "https://localhost:8080/"
        },
        "id": "Qcqtkdebe3oE",
        "outputId": "9dece06d-4cc4-4f4f-d3f1-92265a996aa6"
      },
      "outputs": [
        {
          "output_type": "stream",
          "name": "stdout",
          "text": [
            "Looking in indexes: https://pypi.org/simple, https://us-python.pkg.dev/colab-wheels/public/simple/\n",
            "Collecting geopandas\n",
            "  Downloading geopandas-0.10.2-py2.py3-none-any.whl (1.0 MB)\n",
            "\u001b[K     |████████████████████████████████| 1.0 MB 4.7 MB/s \n",
            "\u001b[?25hRequirement already satisfied: pandas>=0.25.0 in /usr/local/lib/python3.7/dist-packages (from geopandas) (1.3.5)\n",
            "Collecting fiona>=1.8\n",
            "  Downloading Fiona-1.8.21-cp37-cp37m-manylinux2014_x86_64.whl (16.7 MB)\n",
            "\u001b[K     |████████████████████████████████| 16.7 MB 317 kB/s \n",
            "\u001b[?25hRequirement already satisfied: shapely>=1.6 in /usr/local/lib/python3.7/dist-packages (from geopandas) (1.8.2)\n",
            "Collecting pyproj>=2.2.0\n",
            "  Downloading pyproj-3.2.1-cp37-cp37m-manylinux2010_x86_64.whl (6.3 MB)\n",
            "\u001b[K     |████████████████████████████████| 6.3 MB 43.0 MB/s \n",
            "\u001b[?25hCollecting cligj>=0.5\n",
            "  Downloading cligj-0.7.2-py3-none-any.whl (7.1 kB)\n",
            "Requirement already satisfied: six>=1.7 in /usr/local/lib/python3.7/dist-packages (from fiona>=1.8->geopandas) (1.15.0)\n",
            "Collecting munch\n",
            "  Downloading munch-2.5.0-py2.py3-none-any.whl (10 kB)\n",
            "Requirement already satisfied: click>=4.0 in /usr/local/lib/python3.7/dist-packages (from fiona>=1.8->geopandas) (7.1.2)\n",
            "Collecting click-plugins>=1.0\n",
            "  Downloading click_plugins-1.1.1-py2.py3-none-any.whl (7.5 kB)\n",
            "Requirement already satisfied: setuptools in /usr/local/lib/python3.7/dist-packages (from fiona>=1.8->geopandas) (57.4.0)\n",
            "Requirement already satisfied: certifi in /usr/local/lib/python3.7/dist-packages (from fiona>=1.8->geopandas) (2022.6.15)\n",
            "Requirement already satisfied: attrs>=17 in /usr/local/lib/python3.7/dist-packages (from fiona>=1.8->geopandas) (21.4.0)\n",
            "Requirement already satisfied: numpy>=1.17.3 in /usr/local/lib/python3.7/dist-packages (from pandas>=0.25.0->geopandas) (1.21.6)\n",
            "Requirement already satisfied: python-dateutil>=2.7.3 in /usr/local/lib/python3.7/dist-packages (from pandas>=0.25.0->geopandas) (2.8.2)\n",
            "Requirement already satisfied: pytz>=2017.3 in /usr/local/lib/python3.7/dist-packages (from pandas>=0.25.0->geopandas) (2022.1)\n",
            "Installing collected packages: munch, cligj, click-plugins, pyproj, fiona, geopandas\n",
            "Successfully installed click-plugins-1.1.1 cligj-0.7.2 fiona-1.8.21 geopandas-0.10.2 munch-2.5.0 pyproj-3.2.1\n"
          ]
        }
      ],
      "source": [
        "import ee\n",
        "\n",
        "import pandas as pd\n",
        "import re\n",
        "import matplotlib.pyplot as plt\n",
        "%matplotlib inline\n",
        "\n",
        "from datetime import date\n",
        "from datetime import timedelta\n",
        "import zipfile\n",
        "import os\n",
        "import requests\n",
        "\n",
        "import numpy as np\n",
        "\n",
        "import geopy.distance\n",
        "!pip install geopandas\n",
        "import geopandas  as gpd\n",
        "from shapely.geometry import Point, LineString, Polygon\n",
        "\n",
        "\n",
        "# Import specific function 'from_epsg' from fiona module\n",
        "from fiona.crs import from_epsg"
      ]
    },
    {
      "cell_type": "code",
      "source": [
        "# connect to google drive\n",
        "from google.colab import drive  \n",
        "\n",
        "# drive roots\n",
        "DRIVE_MOUNT = '/content/drive'\n",
        "drive.mount(DRIVE_MOUNT, force_remount=True)\n",
        "\n",
        "# set up project directories\n",
        "PROJECT_DIR = DRIVE_MOUNT + \"/My Drive/Volcano_datasets/\"\n",
        "TMP_DIR = PROJECT_DIR + \"TempDIR/\"\n",
        "targets = pd.read_excel(PROJECT_DIR + \"Sample Eruptions.xlsx\")\n",
        "\n",
        "OUTPUT_SHAPE_DIR = PROJECT_DIR+\"output_damage_shapes/\""
      ],
      "metadata": {
        "colab": {
          "base_uri": "https://localhost:8080/"
        },
        "id": "EBILFuHUfKw9",
        "outputId": "c5d927f4-73bf-4536-c38f-aa995bf9ab0b"
      },
      "execution_count": null,
      "outputs": [
        {
          "output_type": "stream",
          "name": "stdout",
          "text": [
            "Mounted at /content/drive\n"
          ]
        }
      ]
    },
    {
      "cell_type": "code",
      "source": [
        "distances = [1,5,100,500,1000]\n",
        "newdata = gpd.GeoDataFrame()\n",
        "id = 0\n",
        "for ivol in range(targets.shape[0]):\n",
        "  volc = targets.iloc[ivol]\n",
        "  vloc = Point( volc[\"Longitude\"],volc[\"Latitude\"])\n",
        "  v_name = re.sub(r\"[,.]\",\"\",re.sub(r\"\\s+\", \"_\",volc[\"Volcano Name\"]))\n",
        "  erupt_start_date = date(volc[\"Start Year\"].astype(int),\n",
        "                            volc[\"Start Month\"].astype(int),\n",
        "                            volc[\"Start Day\"].astype(int))\n",
        "  \n",
        "  for dist in distances:\n",
        "    pts = []\n",
        "    for bearing in range(0,350,10):\n",
        "      pt =  geopy.distance.distance(kilometers=(dist - ((dist/2) * np.random.rand())))\\\n",
        "                   .destination((volc[\"Latitude\"], volc[\"Longitude\"]), bearing=bearing)[:2]\n",
        "      pts.append([pt[1],pt[0]])\n",
        "    poly = Polygon(pts)\n",
        "    newdata.loc[id,'geometry'] = poly\n",
        "    newdata.loc[id,\"Volc_Name\"] = v_name\n",
        "    newdata.loc[id,\"Volc_Num\"] = volc[\"Volcano Number\"]\n",
        "    newdata.loc[id,\"Erupt_Num\"] = volc[\"Eruption Number\"]\n",
        "    newdata.loc[id,\"Est_Date\"] = erupt_start_date.isoformat()\n",
        "    newdata.loc[id,\"layer\"] = dist\n",
        "    id = id +1\n",
        "    \n",
        "print(newdata)\n",
        "newdata.set_crs('EPSG:3857')\n",
        "output_file = f'{OUTPUT_SHAPE_DIR}/all_data.shp'\n",
        "newdata.to_file(output_file)"
      ],
      "metadata": {
        "colab": {
          "base_uri": "https://localhost:8080/"
        },
        "id": "tVNV1qOqhEHs",
        "outputId": "9854015f-20b6-4841-939f-14127bf8503a"
      },
      "execution_count": null,
      "outputs": [
        {
          "output_type": "stream",
          "name": "stdout",
          "text": [
            "                                              geometry         Volc_Name  \\\n",
            "0    POLYGON ((130.21700 30.44909, 130.21869 30.451...  Kuchinoerabujima   \n",
            "1    POLYGON ((130.21700 30.48262, 130.22451 30.479...  Kuchinoerabujima   \n",
            "2    POLYGON ((130.21700 31.00062, 130.32443 30.968...  Kuchinoerabujima   \n",
            "3    POLYGON ((130.21700 33.50320, 131.13979 34.764...  Kuchinoerabujima   \n",
            "4    POLYGON ((130.21700 36.38784, 131.28065 35.386...  Kuchinoerabujima   \n",
            "..                                                 ...               ...   \n",
            "130  POLYGON ((157.97900 -8.98520, 157.97982 -8.986...           Kavachi   \n",
            "131  POLYGON ((157.97900 -8.96580, 157.98307 -8.968...           Kavachi   \n",
            "132  POLYGON ((157.97900 -8.27949, 158.06318 -8.515...           Kavachi   \n",
            "133  POLYGON ((157.97900 -6.35922, 158.42619 -6.453...           Kavachi   \n",
            "134  POLYGON ((157.97900 -4.11519, 159.35471 -1.112...           Kavachi   \n",
            "\n",
            "     Volc_Num  Erupt_Num    Est_Date   layer  \n",
            "0    282050.0    22345.0  2020-01-11     1.0  \n",
            "1    282050.0    22345.0  2020-01-11     5.0  \n",
            "2    282050.0    22345.0  2020-01-11   100.0  \n",
            "3    282050.0    22345.0  2020-01-11   500.0  \n",
            "4    282050.0    22345.0  2020-01-11  1000.0  \n",
            "..        ...        ...         ...     ...  \n",
            "130  255060.0    22364.0  2020-09-02     1.0  \n",
            "131  255060.0    22364.0  2020-09-02     5.0  \n",
            "132  255060.0    22364.0  2020-09-02   100.0  \n",
            "133  255060.0    22364.0  2020-09-02   500.0  \n",
            "134  255060.0    22364.0  2020-09-02  1000.0  \n",
            "\n",
            "[135 rows x 6 columns]\n"
          ]
        }
      ]
    },
    {
      "cell_type": "code",
      "source": [
        ""
      ],
      "metadata": {
        "id": "EV1jN6lYkowv"
      },
      "execution_count": null,
      "outputs": []
    }
  ]
}