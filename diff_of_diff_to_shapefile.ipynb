{
 "cells": [
  {
   "cell_type": "code",
   "execution_count": 1,
   "metadata": {
    "colab": {
     "base_uri": "https://localhost:8080/"
    },
    "id": "Qcqtkdebe3oE",
    "outputId": "9dece06d-4cc4-4f4f-d3f1-92265a996aa6"
   },
   "outputs": [
    {
     "name": "stdout",
     "output_type": "stream",
     "text": [
      "Looking in indexes: https://pypi.org/simple, https://pip.repos.neuron.amazonaws.com\n",
      "Collecting geopy\n",
      "  Downloading geopy-2.2.0-py3-none-any.whl (118 kB)\n",
      "     |████████████████████████████████| 118 kB 6.1 MB/s            \n",
      "\u001b[?25hCollecting geographiclib<2,>=1.49\n",
      "  Downloading geographiclib-1.52-py3-none-any.whl (38 kB)\n",
      "Installing collected packages: geographiclib, geopy\n",
      "Successfully installed geographiclib-1.52 geopy-2.2.0\n",
      "Looking in indexes: https://pypi.org/simple, https://pip.repos.neuron.amazonaws.com\n",
      "Collecting geopandas\n",
      "  Downloading geopandas-0.9.0-py2.py3-none-any.whl (994 kB)\n",
      "     |████████████████████████████████| 994 kB 7.7 MB/s            \n",
      "\u001b[?25hRequirement already satisfied: pandas>=0.24.0 in /home/ec2-user/anaconda3/envs/amazonei_mxnet_p36/lib/python3.6/site-packages (from geopandas) (1.1.5)\n",
      "Collecting fiona>=1.8\n",
      "  Downloading Fiona-1.8.21-cp36-cp36m-manylinux_2_17_x86_64.manylinux2014_x86_64.whl (16.6 MB)\n",
      "     |████████████████████████████████| 16.6 MB 66.7 MB/s            \n",
      "\u001b[?25hCollecting shapely>=1.6\n",
      "  Downloading Shapely-1.8.2-cp36-cp36m-manylinux_2_12_x86_64.manylinux2010_x86_64.whl (2.0 MB)\n",
      "     |████████████████████████████████| 2.0 MB 65.4 MB/s            \n",
      "\u001b[?25hCollecting pyproj>=2.2.0\n",
      "  Downloading pyproj-3.0.1-cp36-cp36m-manylinux2010_x86_64.whl (6.5 MB)\n",
      "     |████████████████████████████████| 6.5 MB 40.5 MB/s            \n",
      "\u001b[?25hCollecting munch\n",
      "  Downloading munch-2.5.0-py2.py3-none-any.whl (10 kB)\n",
      "Requirement already satisfied: certifi in /home/ec2-user/anaconda3/envs/amazonei_mxnet_p36/lib/python3.6/site-packages (from fiona>=1.8->geopandas) (2021.5.30)\n",
      "Requirement already satisfied: click>=4.0 in /home/ec2-user/anaconda3/envs/amazonei_mxnet_p36/lib/python3.6/site-packages (from fiona>=1.8->geopandas) (7.1.2)\n",
      "Collecting click-plugins>=1.0\n",
      "  Downloading click_plugins-1.1.1-py2.py3-none-any.whl (7.5 kB)\n",
      "Requirement already satisfied: six>=1.7 in /home/ec2-user/anaconda3/envs/amazonei_mxnet_p36/lib/python3.6/site-packages (from fiona>=1.8->geopandas) (1.15.0)\n",
      "Requirement already satisfied: attrs>=17 in /home/ec2-user/anaconda3/envs/amazonei_mxnet_p36/lib/python3.6/site-packages (from fiona>=1.8->geopandas) (20.3.0)\n",
      "Collecting cligj>=0.5\n",
      "  Downloading cligj-0.7.2-py3-none-any.whl (7.1 kB)\n",
      "Requirement already satisfied: setuptools in /home/ec2-user/anaconda3/envs/amazonei_mxnet_p36/lib/python3.6/site-packages (from fiona>=1.8->geopandas) (49.6.0.post20210108)\n",
      "Requirement already satisfied: python-dateutil>=2.7.3 in /home/ec2-user/anaconda3/envs/amazonei_mxnet_p36/lib/python3.6/site-packages (from pandas>=0.24.0->geopandas) (2.8.1)\n",
      "Requirement already satisfied: pytz>=2017.2 in /home/ec2-user/anaconda3/envs/amazonei_mxnet_p36/lib/python3.6/site-packages (from pandas>=0.24.0->geopandas) (2021.1)\n",
      "Requirement already satisfied: numpy>=1.15.4 in /home/ec2-user/anaconda3/envs/amazonei_mxnet_p36/lib/python3.6/site-packages (from pandas>=0.24.0->geopandas) (1.19.5)\n",
      "Installing collected packages: munch, cligj, click-plugins, shapely, pyproj, fiona, geopandas\n",
      "Successfully installed click-plugins-1.1.1 cligj-0.7.2 fiona-1.8.21 geopandas-0.9.0 munch-2.5.0 pyproj-3.0.1 shapely-1.8.2\n"
     ]
    }
   ],
   "source": [
    "import pandas as pd\n",
    "import re\n",
    "import matplotlib.pyplot as plt\n",
    "import matplotlib.patches as patches\n",
    "from matplotlib import colors\n",
    "%matplotlib inline\n",
    "\n",
    "from datetime import date\n",
    "from datetime import timedelta\n",
    "import zipfile\n",
    "import os\n",
    "import requests\n",
    "\n",
    "import numpy as np\n",
    "import cv2\n",
    "\n",
    "!pip install geopy\n",
    "import geopy.distance\n",
    "!pip install geopandas\n",
    "import geopandas  as gpd\n",
    "from shapely.geometry import Point, LineString, Polygon\n",
    "\n",
    "\n",
    "# Import specific function 'from_epsg' from fiona module\n",
    "from fiona.crs import from_epsg"
   ]
  },
  {
   "cell_type": "code",
   "execution_count": 169,
   "metadata": {},
   "outputs": [],
   "source": [
    "import random"
   ]
  },
  {
   "cell_type": "code",
   "execution_count": 2,
   "metadata": {},
   "outputs": [],
   "source": [
    "import matplotlib.pyplot as plt\n",
    "import matplotlib.patches as patches\n",
    "from matplotlib import colors\n",
    "import math"
   ]
  },
  {
   "cell_type": "code",
   "execution_count": null,
   "metadata": {},
   "outputs": [],
   "source": [
    "# connect to google drive\n",
    "from google.colab import drive  \n",
    "\n",
    "# drive roots\n",
    "DRIVE_MOUNT = '/content/drive'\n",
    "drive.mount(DRIVE_MOUNT, force_remount=True)\n",
    "\n",
    "# set up project directories\n",
    "PROJECT_DIR = DRIVE_MOUNT + \"/My Drive/Volcano_datasets/\"\n",
    "TMP_DIR = PROJECT_DIR + \"TempDIR/\"\n",
    "targets = pd.read_excel(PROJECT_DIR + \"Sample Eruptions.xlsx\")\n",
    "\n",
    "OUTPUT_SHAPE_DIR = PROJECT_DIR+\"output_damage_shapes/\""
   ]
  },
  {
   "cell_type": "code",
   "execution_count": 16,
   "metadata": {},
   "outputs": [
    {
     "data": {
      "text/plain": [
       "(49.964930835073, 19.980213080821123)"
      ]
     },
     "execution_count": 16,
     "metadata": {},
     "output_type": "execute_result"
    }
   ],
   "source": [
    "dist=5\n",
    "geopy.distance.distance(kilometers=(dist - ((dist/2) * np.random.rand()))).destination((50, 20), bearing=200)[:2]"
   ]
  },
  {
   "cell_type": "code",
   "execution_count": 14,
   "metadata": {},
   "outputs": [
    {
     "data": {
      "text/plain": [
       "4.232114539828983"
      ]
     },
     "execution_count": 14,
     "metadata": {},
     "output_type": "execute_result"
    }
   ],
   "source": [
    "(dist - ((dist/2) * np.random.rand()))"
   ]
  },
  {
   "cell_type": "markdown",
   "metadata": {},
   "source": [
    "# Making Damage Shapefiles\n",
    "\n",
    "- The layer column can be encoded to be a damage layer value (e.g. could encode 999 to mean high damage, 99 as medium damange, and 9 as no damage or just have only high+med damage layers)\n",
    "- Given the input will be a blocky image with damage zones indicates by single values, the general approach can be:\n",
    "    1. We know the lat/long of each volcano so we can calculate where each block is located given that 1 pixel=30m (center = 375x375 pixel)\n",
    "        - Start from the top left block (center at 25x25)\n",
    "        - Check if the block is high, medium, or no damage\n",
    "        - If high or medium damage:\n",
    "            - Calculate how far the center of that block is from the center of the volcano image in meters \n",
    "            - Generate shapefiles in 360 degrees that extend up to 25px (750m)\n",
    "        - else if no damage:\n",
    "            - no need to generate a shapefile and will assume to use google earth engine's default layer\n",
    "        - Continue iterating for each block in the entire image \n",
    " "
   ]
  },
  {
   "cell_type": "code",
   "execution_count": 4,
   "metadata": {},
   "outputs": [],
   "source": [
    "image = cv2.imread('test_bucketized_damage.png', cv2.COLOR_BGR2GRAY )"
   ]
  },
  {
   "cell_type": "code",
   "execution_count": 283,
   "metadata": {},
   "outputs": [],
   "source": [
    "targets = pd.read_csv('Sample Eruptions.csv')"
   ]
  },
  {
   "cell_type": "code",
   "execution_count": 294,
   "metadata": {},
   "outputs": [],
   "source": [
    "def get_meter_distance(x1, y1, x2=375, y2=375):\n",
    "    '''Return hypotenuse distance in meters between two pixel centers of blocks assuming 1 pixel = 30 m'''\n",
    "    a = abs(x1-x2)\n",
    "    b = abs(y1-y2)\n",
    "    return math.sqrt(a**2 + b**2)*30\n",
    "\n",
    "def get_damage_type(pixel):\n",
    "    if pixel == 255:\n",
    "        return 'high'\n",
    "    elif pixel== 100:\n",
    "        return 'med'\n",
    "    else:\n",
    "        return 'low'\n",
    "    \n",
    "\n",
    "def get_quadrant_subtractor(x1, y1):\n",
    "    '''Selecting quadrant based on image coordinates'''\n",
    "    if x1>=375 and y1<=375: # first quadrant\n",
    "        return 90\n",
    "    elif x1>=375 and y1>=375: # second quadrant\n",
    "        return 180\n",
    "    elif x1<=375 and y1>=375: # third quadrant\n",
    "        return 270\n",
    "    else:\n",
    "        return 360\n",
    "    \n",
    "def get_bearing(x1, y1, x2=375, y2=375):\n",
    "    '''Tutorial here - https://mathsathome.com/calculating-bearings/\n",
    "    Geopy radians takes degrees, so will convert to degrees at the end\n",
    "    '''\n",
    "    a = abs(x1-x2)\n",
    "    b = abs(y1-y2)\n",
    "#     print(f\"x-val: {a}, y-val:{b}\")\n",
    "    if a==0:\n",
    "        return 0\n",
    "    angle = math.atan(b/a)\n",
    "\n",
    "    bearing = get_quadrant_subtractor(x1, y1) - math.degrees(angle)\n",
    "    return bearing\n",
    "\n",
    "def get_lat_long(distance, bearing, lat, lon):\n",
    "    '''get the latitude and longitude of the bucketed damage point center to be used as the new center to generate shapefiles\n",
    "    \n",
    "    distance -> distance in meters\n",
    "    bearing -> bearing in degrees\n",
    "    lat -> latitude of original point in degrees\n",
    "    lon -> longitude of original point in degrees\n",
    "    \n",
    "    '''\n",
    "    R = 6378.1 #Radius of the Earth\n",
    "    brng = math.radians(bearing) #Bearing is 90 degrees converted to radians.\n",
    "    d = distance/1000 #Distance in km\n",
    "\n",
    "    #lat2  52.20444 - the lat result I'm hoping for\n",
    "    #lon2  0.36056 - the long result I'm hoping for.\n",
    "\n",
    "    lat1 = math.radians(lat) #Current lat point converted to radians\n",
    "    lon1 = math.radians(lon) #Current long point converted to radians\n",
    "\n",
    "    lat2 = math.asin( math.sin(lat1)*math.cos(d/R) +\n",
    "         math.cos(lat1)*math.sin(d/R)*math.cos(brng))\n",
    "\n",
    "    lon2 = lon1 + math.atan2(math.sin(brng)*math.sin(d/R)*math.cos(lat1),\n",
    "                 math.cos(d/R)-math.sin(lat1)*math.sin(lat2))\n",
    "\n",
    "    lat2 = math.degrees(lat2)\n",
    "    lon2 = math.degrees(lon2)\n",
    "\n",
    "    return lat2, lon2"
   ]
  },
  {
   "cell_type": "code",
   "execution_count": null,
   "metadata": {},
   "outputs": [],
   "source": [
    "# example image is Sinabung with lat/long = 3.17,98.392"
   ]
  },
  {
   "cell_type": "code",
   "execution_count": 288,
   "metadata": {},
   "outputs": [],
   "source": [
    "def get_polygon(lat, lon, point_bearing):\n",
    "    pts = []\n",
    "    # base the bearing on the direction the block point is from the center point\n",
    "    # 50% chance for values in the same bearing area and 50% for bearings in other quadrants \n",
    "    bearings = []\n",
    "    num_bearings = 20\n",
    "    if point_bearing <= 90: # first quadrant\n",
    "        # higher probability for a bearing in the 0-180 range\n",
    "        bearings = random.choices(range(0, 360, 10), weights= [.06]*9 + [0.017037037037037035]*27, k=num_bearings)\n",
    "    elif point_bearing <=180:\n",
    "        bearings = random.choices(range(0, 360, 10), weights= [0.017037037037037035]*9 + [.06]*9 + [0.017037037037037035]*18, k=num_bearings)\n",
    "    elif point_bearing <= 270:\n",
    "        bearings = random.choices(range(0, 360, 10), weights= [0.017037037037037035]*18 + [.06]*9 + [0.017037037037037035]*9, k=num_bearings)\n",
    "    else:\n",
    "        bearings = random.choices(range(0, 360, 10), weights= [0.017037037037037035]*27 + [.06]*9, k=num_bearings)\n",
    "        \n",
    "#     for bearing in range(0,360,10):\n",
    "    for bearing in sorted(bearings):\n",
    "         #calculate random meter distance to head to based on 1 to 25 pixels (block size)\n",
    "        rand_dist = np.random.choice(range(100, 751, 1))\n",
    "        pt =  geopy.distance.distance(meters=rand_dist)\\\n",
    "                    .destination((lat, lon), bearing=bearing)[:2] # go the calculated distance based on the volcano distance and bearing (angle)\n",
    "        pts.append([pt[1],pt[0]])\n",
    "        \n",
    "    return Polygon(pts)"
   ]
  },
  {
   "cell_type": "code",
   "execution_count": 289,
   "metadata": {},
   "outputs": [
    {
     "data": {
      "image/svg+xml": [
       "<svg xmlns=\"http://www.w3.org/2000/svg\" xmlns:xlink=\"http://www.w3.org/1999/xlink\" width=\"100.0\" height=\"100.0\" viewBox=\"98.38535351136154 3.1635678474308397 0.01213745086691631 0.01118135872491699\" preserveAspectRatio=\"xMinYMin meet\"><g transform=\"matrix(1,0,0,-1,0,6.3383170535865965)\"><path fill-rule=\"evenodd\" fill=\"#ff3333\" stroke=\"#555555\" stroke-width=\"0.0002427490173383262\" opacity=\"0.6\" d=\"M 98.39244056477631,3.1725114995278814 L 98.39259828961657,3.1710416330622566 L 98.39446963930523,3.174299670938464 L 98.39320865895097,3.1714478800843136 L 98.39704142701116,3.170893529839378 L 98.39495929002635,3.1705245002958162 L 98.39531916478116,3.1680737467851263 L 98.39416626327224,3.1640173826481326 L 98.39072916356017,3.166490311762723 L 98.38920101322387,3.1666470089457097 L 98.38904487192993,3.166459961694023 L 98.38882511761113,3.1661967099652957 L 98.39027087174516,3.167928628349714 L 98.39098688130147,3.16914548901807 L 98.38809647649266,3.1677346165845788 L 98.38702045412639,3.168178192799599 L 98.38580304657884,3.167732789748452 L 98.39000646797993,3.1696466641699046 L 98.39005552065142,3.1707113952455366 L 98.39051182588906,3.170863645248679 L 98.39244056477631,3.1725114995278814 z\" /></g></svg>"
      ],
      "text/plain": [
       "<shapely.geometry.polygon.Polygon at 0x7f35d412bd30>"
      ]
     },
     "execution_count": 289,
     "metadata": {},
     "output_type": "execute_result"
    }
   ],
   "source": [
    "get_polygon(3.17, 98.392, 270)"
   ]
  },
  {
   "cell_type": "code",
   "execution_count": 56,
   "metadata": {},
   "outputs": [
    {
     "data": {
      "text/plain": [
       "(3.17004521708239, 98.39192208518631)"
      ]
     },
     "execution_count": 56,
     "metadata": {},
     "output_type": "execute_result"
    }
   ],
   "source": [
    "def generate(image, start_lat, start_lon):\n",
    "    '''Generate the Shapefile Polygon for the difference of difference damage file'''\n",
    "    \n",
    "    "
   ]
  },
  {
   "cell_type": "code",
   "execution_count": 295,
   "metadata": {},
   "outputs": [],
   "source": [
    "kernel=50\n",
    "iterations = image.shape[1] / kernel\n",
    "image_len = image.shape[1]\n",
    "copy = image.copy()\n",
    "sinabung_lat = 3.17\n",
    "sinabung_lon = 98.392\n",
    "polygons = []\n",
    "for row in range(25, image_len, kernel):\n",
    "    for col in range(25, image_len, kernel):\n",
    "#         block_center = copy[row:row+kernel, col:col+kernel]\n",
    "#         print(f\"{row}:{col}\")\n",
    "        if get_damage_type(image[row, col]) != 'low':\n",
    "            meters = get_meter_distance(row, col)\n",
    "            bearing = get_bearing(row, col)\n",
    "            lat, lon = get_lat_long(meters, bearing, sinabung_lat, sinabung_lon)\n",
    "            polygon = get_polygon(lat, lon, bearing)\n",
    "            polygons.append(polygon)"
   ]
  },
  {
   "cell_type": "code",
   "execution_count": 299,
   "metadata": {},
   "outputs": [
    {
     "data": {
      "text/plain": [
       "44"
      ]
     },
     "execution_count": 299,
     "metadata": {},
     "output_type": "execute_result"
    }
   ],
   "source": [
    "len(polygons)"
   ]
  },
  {
   "cell_type": "code",
   "execution_count": null,
   "metadata": {},
   "outputs": [],
   "source": [
    "# distances = [1,5,100,500,1000]\n",
    "newdata = gpd.GeoDataFrame()\n",
    "id = 0\n",
    "for ivol in range(targets.shape[0]):\n",
    "    volc = targets.iloc[ivol]\n",
    "    vloc = Point( volc[\"Longitude\"],volc[\"Latitude\"])\n",
    "    v_name = re.sub(r\"[,.]\",\"\",re.sub(r\"\\s+\", \"_\",volc[\"Volcano Name\"]))\n",
    "    erupt_start_date = date(volc[\"Start Year\"].astype(int),\n",
    "                            volc[\"Start Month\"].astype(int),\n",
    "                            volc[\"Start Day\"].astype(int))\n",
    "  \n",
    "\n",
    "    newdata.loc[id,'geometry'] = get_polygon(volc[\"Latitude\"], volc[\"Longitude\"])\n",
    "    newdata.loc[id,\"Volc_Name\"] = v_name\n",
    "    newdata.loc[id,\"Volc_Num\"] = volc[\"Volcano Number\"]\n",
    "    newdata.loc[id,\"Erupt_Num\"] = volc[\"Eruption Number\"]\n",
    "    newdata.loc[id,\"Est_Date\"] = erupt_start_date.isoformat()\n",
    "    newdata.loc[id,\"layer\"] = dist\n",
    "    id = id +1\n",
    "    \n",
    "print(newdata)\n",
    "newdata.set_crs('EPSG:3857')\n",
    "output_file = f'{OUTPUT_SHAPE_DIR}/all_data.shp'\n",
    "newdata.to_file(output_file)"
   ]
  },
  {
   "cell_type": "code",
   "execution_count": 9,
   "metadata": {},
   "outputs": [
    {
     "data": {
      "text/plain": [
       "<matplotlib.image.AxesImage at 0x7f38e73df668>"
      ]
     },
     "execution_count": 9,
     "metadata": {},
     "output_type": "execute_result"
    },
    {
     "data": {
      "image/png": "[encoded data removed]",
      "text/plain": [
       "<Figure size 1440x720 with 1 Axes>"
      ]
     },
     "metadata": {
      "needs_background": "light"
     },
     "output_type": "display_data"
    }
   ],
   "source": [
    "cmap = colors.ListedColormap(['green','orange', 'red'])\n",
    "bounds=[0,100,255]\n",
    "plt.figure(figsize=(20, 10))\n",
    "plt.imshow(image, cmap=cmap)"
   ]
  },
  {
   "cell_type": "markdown",
   "metadata": {},
   "source": [
    "(0,0) = (375, 375)    left = normal, right = image\n",
    "subtract 375 from every x and add 375 to every y"
   ]
  },
  {
   "cell_type": "code",
   "execution_count": null,
   "metadata": {
    "colab": {
     "base_uri": "https://localhost:8080/"
    },
    "id": "tVNV1qOqhEHs",
    "outputId": "9854015f-20b6-4841-939f-14127bf8503a"
   },
   "outputs": [
    {
     "name": "stdout",
     "output_type": "stream",
     "text": [
      "                                              geometry         Volc_Name  \\\n",
      "0    POLYGON ((130.21700 30.44909, 130.21869 30.451...  Kuchinoerabujima   \n",
      "1    POLYGON ((130.21700 30.48262, 130.22451 30.479...  Kuchinoerabujima   \n",
      "2    POLYGON ((130.21700 31.00062, 130.32443 30.968...  Kuchinoerabujima   \n",
      "3    POLYGON ((130.21700 33.50320, 131.13979 34.764...  Kuchinoerabujima   \n",
      "4    POLYGON ((130.21700 36.38784, 131.28065 35.386...  Kuchinoerabujima   \n",
      "..                                                 ...               ...   \n",
      "130  POLYGON ((157.97900 -8.98520, 157.97982 -8.986...           Kavachi   \n",
      "131  POLYGON ((157.97900 -8.96580, 157.98307 -8.968...           Kavachi   \n",
      "132  POLYGON ((157.97900 -8.27949, 158.06318 -8.515...           Kavachi   \n",
      "133  POLYGON ((157.97900 -6.35922, 158.42619 -6.453...           Kavachi   \n",
      "134  POLYGON ((157.97900 -4.11519, 159.35471 -1.112...           Kavachi   \n",
      "\n",
      "     Volc_Num  Erupt_Num    Est_Date   layer  \n",
      "0    282050.0    22345.0  2020-01-11     1.0  \n",
      "1    282050.0    22345.0  2020-01-11     5.0  \n",
      "2    282050.0    22345.0  2020-01-11   100.0  \n",
      "3    282050.0    22345.0  2020-01-11   500.0  \n",
      "4    282050.0    22345.0  2020-01-11  1000.0  \n",
      "..        ...        ...         ...     ...  \n",
      "130  255060.0    22364.0  2020-09-02     1.0  \n",
      "131  255060.0    22364.0  2020-09-02     5.0  \n",
      "132  255060.0    22364.0  2020-09-02   100.0  \n",
      "133  255060.0    22364.0  2020-09-02   500.0  \n",
      "134  255060.0    22364.0  2020-09-02  1000.0  \n",
      "\n",
      "[135 rows x 6 columns]\n"
     ]
    }
   ],
   "source": [
    "distances = [1,5,100,500,1000]\n",
    "newdata = gpd.GeoDataFrame()\n",
    "id = 0\n",
    "for ivol in range(targets.shape[0]):\n",
    "    volc = targets.iloc[ivol]\n",
    "    vloc = Point( volc[\"Longitude\"],volc[\"Latitude\"])\n",
    "    v_name = re.sub(r\"[,.]\",\"\",re.sub(r\"\\s+\", \"_\",volc[\"Volcano Name\"]))\n",
    "    erupt_start_date = date(volc[\"Start Year\"].astype(int),\n",
    "                            volc[\"Start Month\"].astype(int),\n",
    "                            volc[\"Start Day\"].astype(int))\n",
    "  \n",
    "  for dist in distances:\n",
    "    pts = []\n",
    "    for bearing in range(0,350,10):\n",
    "        pt =  geopy.distance.distance(kilometers=(dist - ((dist/2) * np.random.rand())))\\ #calculate random KM distance to head to\n",
    "                   .destination((volc[\"Latitude\"], volc[\"Longitude\"]), bearing=bearing)[:2] # go the calculated distance based on the volcano distance and bearing (angle)\n",
    "        pts.append([pt[1],pt[0]])\n",
    "    poly = Polygon(pts)\n",
    "    newdata.loc[id,'geometry'] = poly\n",
    "    newdata.loc[id,\"Volc_Name\"] = v_name\n",
    "    newdata.loc[id,\"Volc_Num\"] = volc[\"Volcano Number\"]\n",
    "    newdata.loc[id,\"Erupt_Num\"] = volc[\"Eruption Number\"]\n",
    "    newdata.loc[id,\"Est_Date\"] = erupt_start_date.isoformat()\n",
    "    newdata.loc[id,\"layer\"] = dist\n",
    "    id = id +1\n",
    "    \n",
    "print(newdata)\n",
    "newdata.set_crs('EPSG:3857')\n",
    "output_file = f'{OUTPUT_SHAPE_DIR}/all_data.shp'\n",
    "newdata.to_file(output_file)"
   ]
  },
  {
   "cell_type": "code",
   "execution_count": null,
   "metadata": {
    "id": "EV1jN6lYkowv"
   },
   "outputs": [],
   "source": []
  }
 ],
 "metadata": {
  "colab": {
   "collapsed_sections": [],
   "name": "Generate Shapefiles.ipynb",
   "provenance": []
  },
  "kernelspec": {
   "display_name": "conda_amazonei_mxnet_p36",
   "language": "python",
   "name": "conda_amazonei_mxnet_p36"
  },
  "language_info": {
   "codemirror_mode": {
    "name": "ipython",
    "version": 3
   },
   "file_extension": ".py",
   "mimetype": "text/x-python",
   "name": "python",
   "nbconvert_exporter": "python",
   "pygments_lexer": "ipython3",
   "version": "3.6.13"
  }
 },
 "nbformat": 4,
 "nbformat_minor": 4
}
