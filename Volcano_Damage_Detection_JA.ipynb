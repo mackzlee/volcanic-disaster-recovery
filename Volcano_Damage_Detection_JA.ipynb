{
  "cells": [
    {
      "cell_type": "markdown",
      "metadata": {
        "id": "view-in-github",
        "colab_type": "text"
      },
      "source": [
        "<a href=\"https://colab.research.google.com/github/mackzlee/volcanic-disaster-recovery/blob/main/Volcano_Damage_Detection_JA.ipynb\" target=\"_parent\"><img src=\"https://colab.research.google.com/assets/colab-badge.svg\" alt=\"Open In Colab\"/></a>"
      ]
    },
    {
      "cell_type": "markdown",
      "id": "665380b9",
      "metadata": {
        "id": "665380b9"
      },
      "source": [
        "# Download representative images of volcanos\n"
      ]
    },
    {
      "cell_type": "markdown",
      "id": "dcfacdb8",
      "metadata": {
        "id": "dcfacdb8"
      },
      "source": [
        "Credit: this script derived from [Aaron Geller's blog post.](https://sites.northwestern.edu/researchcomputing/2021/11/19/downloading-satellite-images-made-easy/), including the use of functions based on his [EarthEngineToGeoTIFF repository.](https://github.com/ageller/EarthEngineToGeoTIFF)"
      ]
    },
    {
      "cell_type": "code",
      "execution_count": 1,
      "id": "74c88e1d",
      "metadata": {
        "colab": {
          "base_uri": "https://localhost:8080/"
        },
        "id": "74c88e1d",
        "outputId": "061dcc1d-b1ac-4533-d852-b47d807ab9d6"
      },
      "outputs": [
        {
          "output_type": "stream",
          "name": "stdout",
          "text": [
            "Looking in indexes: https://pypi.org/simple, https://us-python.pkg.dev/colab-wheels/public/simple/\n",
            "Collecting rasterio\n",
            "  Downloading rasterio-1.2.10-cp37-cp37m-manylinux1_x86_64.whl (19.3 MB)\n",
            "\u001b[K     |████████████████████████████████| 19.3 MB 1.9 MB/s \n",
            "\u001b[?25hRequirement already satisfied: click>=4.0 in /usr/local/lib/python3.7/dist-packages (from rasterio) (7.1.2)\n",
            "Collecting cligj>=0.5\n",
            "  Downloading cligj-0.7.2-py3-none-any.whl (7.1 kB)\n",
            "Collecting affine\n",
            "  Downloading affine-2.3.1-py2.py3-none-any.whl (16 kB)\n",
            "Requirement already satisfied: certifi in /usr/local/lib/python3.7/dist-packages (from rasterio) (2022.5.18.1)\n",
            "Requirement already satisfied: attrs in /usr/local/lib/python3.7/dist-packages (from rasterio) (21.4.0)\n",
            "Requirement already satisfied: setuptools in /usr/local/lib/python3.7/dist-packages (from rasterio) (57.4.0)\n",
            "Requirement already satisfied: numpy in /usr/local/lib/python3.7/dist-packages (from rasterio) (1.21.6)\n",
            "Collecting click-plugins\n",
            "  Downloading click_plugins-1.1.1-py2.py3-none-any.whl (7.5 kB)\n",
            "Collecting snuggs>=1.4.1\n",
            "  Downloading snuggs-1.4.7-py3-none-any.whl (5.4 kB)\n",
            "Requirement already satisfied: pyparsing>=2.1.6 in /usr/local/lib/python3.7/dist-packages (from snuggs>=1.4.1->rasterio) (3.0.9)\n",
            "Installing collected packages: snuggs, cligj, click-plugins, affine, rasterio\n",
            "Successfully installed affine-2.3.1 click-plugins-1.1.1 cligj-0.7.2 rasterio-1.2.10 snuggs-1.4.7\n"
          ]
        }
      ],
      "source": [
        "import ee\n",
        "%pip install rasterio\n",
        "\n",
        "import rasterio\n",
        "from rasterio.plot import show as showRasterio\n",
        "\n",
        "import pandas as pd\n",
        "import re\n",
        "import matplotlib.pyplot as plt\n",
        "%matplotlib inline\n",
        "\n",
        "from datetime import date\n",
        "from datetime import timedelta"
      ]
    },
    {
      "cell_type": "code",
      "source": [
        "# connect to google drive\n",
        "from google.colab import drive  \n",
        "\n",
        "# drive roots\n",
        "DRIVE_MOUNT = '/content/drive'\n",
        "drive.mount(DRIVE_MOUNT, force_remount=True)\n",
        "\n",
        "# set up project directories\n",
        "PROJECT_DIR = DRIVE_MOUNT + \"/My Drive/Volcano_datasets/\"\n",
        "TMP_DIR = PROJECT_DIR + \"TempDIR/\"\n",
        "OUTPUT_IMAGE_DIR = PROJECT_DIR +\"Satellite_images/\"\n",
        "\n",
        "\n",
        "\n",
        "targets = pd.read_excel(PROJECT_DIR + \"Sample Eruptions.xlsx\")\n",
        "\n"
      ],
      "metadata": {
        "colab": {
          "base_uri": "https://localhost:8080/"
        },
        "id": "A1iJapXtdlHe",
        "outputId": "1a25a877-5990-4803-cfd6-b1701906afee"
      },
      "id": "A1iJapXtdlHe",
      "execution_count": 2,
      "outputs": [
        {
          "output_type": "stream",
          "name": "stdout",
          "text": [
            "Mounted at /content/drive\n"
          ]
        }
      ]
    },
    {
      "cell_type": "code",
      "source": [
        "import cv2\n",
        "\n",
        "# load images\n",
        "image1 = cv2.imread(\"leftImage.jpg\")\n",
        "image2 = cv2.imread(\"rightImage.jpg\")\n",
        "\n",
        "# compute difference\n",
        "difference = cv2.subtract(image1, image2)\n",
        "\n",
        "# color the mask red\n",
        "Conv_hsv_Gray = cv2.cvtColor(difference, cv2.COLOR_BGR2GRAY)\n",
        "ret, mask = cv2.threshold(Conv_hsv_Gray, 0, 255,cv2.THRESH_BINARY_INV |cv2.THRESH_OTSU)\n",
        "difference[mask != 255] = [0, 0, 255]\n",
        "\n",
        "# add the red mask to the images to make the differences obvious\n",
        "image1[mask != 255] = [0, 0, 255]\n",
        "image2[mask != 255] = [0, 0, 255]\n",
        "\n",
        "# store images\n",
        "cv2.imwrite('diffOverImage1.png', image1)\n",
        "cv2.imwrite('diffOverImage2.png', image1)\n",
        "cv2.imwrite('diff.png', difference)"
      ],
      "metadata": {
        "id": "7wmi4iWZOj1D"
      },
      "id": "7wmi4iWZOj1D",
      "execution_count": null,
      "outputs": []
    }
  ],
  "metadata": {
    "kernelspec": {
      "display_name": "Python 3 (ipykernel)",
      "language": "python",
      "name": "python3"
    },
    "language_info": {
      "codemirror_mode": {
        "name": "ipython",
        "version": 3
      },
      "file_extension": ".py",
      "mimetype": "text/x-python",
      "name": "python",
      "nbconvert_exporter": "python",
      "pygments_lexer": "ipython3",
      "version": "3.9.7"
    },
    "colab": {
      "name": "Volcano Damage Detection JA",
      "provenance": [],
      "collapsed_sections": [],
      "include_colab_link": true
    }
  },
  "nbformat": 4,
  "nbformat_minor": 5
}