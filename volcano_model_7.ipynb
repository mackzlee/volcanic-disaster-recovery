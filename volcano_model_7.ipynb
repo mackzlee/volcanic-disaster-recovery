{
 "cells": [
  {
   "cell_type": "code",
   "execution_count": 1,
   "id": "f3868f5c",
   "metadata": {},
   "outputs": [
    {
     "name": "stderr",
     "output_type": "stream",
     "text": [
      "Matplotlib is building the font cache; this may take a moment.\n"
     ]
    }
   ],
   "source": [
    "# Import relevant libraries\n",
    "import numpy as np\n",
    "import pandas as pd\n",
    "import os\n",
    "import matplotlib.pyplot as plt\n",
    "import matplotlib.patches as patches\n",
    "from skimage.metrics import structural_similarity as compare_ssim\n",
    "import cv2\n",
    "import copy\n",
    "from skimage.feature import hog\n",
    "from sklearn.decomposition import PCA\n",
    "from sklearn.svm import SVC\n",
    "from sklearn.preprocessing import StandardScaler\n",
    "from sklearn.metrics import classification_report\n",
    "from sklearn.ensemble import RandomForestClassifier"
   ]
  },
  {
   "cell_type": "markdown",
   "id": "5a6dcf0d",
   "metadata": {},
   "source": [
    "# Set up functions for modeling pipeline"
   ]
  },
  {
   "cell_type": "code",
   "execution_count": 27,
   "id": "7f13f788",
   "metadata": {},
   "outputs": [],
   "source": [
    "# Function for producing differenced image\n",
    "\n",
    "def img_diff(orig_image, new_image):\n",
    "    # Convert images to grayscale\n",
    "    imageA = copy.deepcopy(orig_image)\n",
    "    imageB = copy.deepcopy(new_image)\n",
    "    grayA = cv2.cvtColor(imageA, cv2.COLOR_RGB2GRAY)\n",
    "    grayB = cv2.cvtColor(imageB, cv2.COLOR_RGB2GRAY)\n",
    "\n",
    "    # compute the Structural Similarity Index (SSIM) between the two\n",
    "    # images, ensuring that the difference image is returned\n",
    "    (score, diff) = compare_ssim(grayA, grayB, full=True)\n",
    "    diff = (diff * 255).astype(\"uint8\")\n",
    "\n",
    "    # threshold the difference image, followed by finding contours to\n",
    "    # obtain the regions of the two input images that differ\n",
    "    thresh = cv2.threshold(diff, 0, 255, cv2.THRESH_BINARY_INV | cv2.THRESH_OTSU)[1]\n",
    "\n",
    "    # Return the differenced threshold image\n",
    "    return thresh"
   ]
  },
  {
   "cell_type": "code",
   "execution_count": 28,
   "id": "36680cf9",
   "metadata": {},
   "outputs": [],
   "source": [
    "# Create function to crop center of image \n",
    "def crop_image_center(img, rows, cols):\n",
    "    \n",
    "    # Find starting coordinates of top left corner of center crop\n",
    "    start_row = (img.shape[0] - rows) // 2\n",
    "    start_col = (img.shape[1] - cols) // 2\n",
    "    \n",
    "    new_image = copy.deepcopy(img[start_row:start_row+rows, start_col:start_col+cols, :])\n",
    "    \n",
    "    return new_image"
   ]
  },
  {
   "cell_type": "code",
   "execution_count": 29,
   "id": "315c5b49",
   "metadata": {},
   "outputs": [],
   "source": [
    "# Create function for HOG features\n",
    "def get_hog(image_set, orient_count, pix_per_cell):\n",
    "    \n",
    "    # Initialize list for features and sample images\n",
    "    feat_list = []\n",
    "    total_img_count = len(image_set)\n",
    "  \n",
    "    # Iterate over images, get HOG features, then stack feature values together\n",
    "    for z in range(total_img_count):\n",
    "        orig_im = copy.deepcopy(image_set[z])\n",
    "        fd, hog_image = hog(orig_im, orientations=orient_count,\n",
    "                            pixels_per_cell=(pix_per_cell, pix_per_cell), \n",
    "                            cells_per_block=(2, 2), visualize=True, multichannel=False)\n",
    "        feat_list.append(fd[np.newaxis, :])\n",
    "        \n",
    "    total_hog = np.vstack(feat_list)\n",
    "        \n",
    "    return total_hog\n",
    "\n",
    "# Create function to calculate classification accuracy\n",
    "def get_accuracy(predicted, actual):\n",
    "    correct_count = 0\n",
    "    for i in range(len(predicted)):\n",
    "        if predicted[i]==actual[i]:\n",
    "            correct_count += 1\n",
    "    return float(correct_count) / len(predicted)"
   ]
  },
  {
   "cell_type": "code",
   "execution_count": 30,
   "id": "5d441102",
   "metadata": {},
   "outputs": [],
   "source": [
    "# Function to process a set of pre and post eruption images for a volcano, returns differenced images and labels\n",
    "def process_imgs(pre_list, post_list, row_crop, col_crop):\n",
    "\n",
    "    # Load images\n",
    "    pre1a = []\n",
    "    for image in pre_list:\n",
    "        new_img_string = 'ML/' + image\n",
    "        new_img = plt.imread(new_img_string)\n",
    "        pre1a.append(new_img)\n",
    "\n",
    "    post1a = []\n",
    "    for image in post_list:\n",
    "        new_img_string = 'ML/' + image\n",
    "        new_img = plt.imread(new_img_string)\n",
    "        post1a.append(new_img)   \n",
    "    \n",
    "    # Crop images to get exact same dimensions across dataset\n",
    "    pre1b = []\n",
    "    for i in range(len(pre1a)):\n",
    "        new_im = crop_image_center(pre1a[i], row_crop, col_crop)\n",
    "        pre1b.append(new_im)\n",
    "\n",
    "    post1b = []\n",
    "    for i in range(len(post1a)):\n",
    "        new_im = crop_image_center(post1a[i], row_crop, col_crop)\n",
    "        post1b.append(new_im)\n",
    "    \n",
    "    # Image differencing\n",
    "    pre2 = []\n",
    "    for i in range(len(pre1b) - 1):\n",
    "        new_im = img_diff(pre1b[0], pre1b[i+1])\n",
    "        pre2.append(new_im)\n",
    "\n",
    "    post2 = []\n",
    "    for i in range(len(post1b)):\n",
    "        new_im = img_diff(pre1b[0], post1b[i])\n",
    "        post2.append(new_im)\n",
    "\n",
    "    # Return differenced images in one list and labels in another list\n",
    "    full_img_list = pre2 + post2\n",
    "    full_labels = [0]*len(pre2) + [1]*len(post2)\n",
    "\n",
    "    return full_img_list, full_labels"
   ]
  },
  {
   "cell_type": "code",
   "execution_count": 31,
   "id": "b172e02e",
   "metadata": {},
   "outputs": [],
   "source": [
    "# Function to arrange train/test split, using processed images and labels from process_img function and a training set percentage\n",
    "def img_split(img_list_processed, img_labels, pre_img_names, post_img_names, train_pct):\n",
    "    \n",
    "    # Calculate count of pre and post eruption images\n",
    "    post_count = sum(img_labels)\n",
    "    pre_count = len(img_labels) - post_count\n",
    "    \n",
    "    # Split pre and post images and labels into pre-only and post-only lists\n",
    "    pre3 = copy.deepcopy(img_list_processed[:pre_count])\n",
    "    post3 = copy.deepcopy(img_list_processed[pre_count:])\n",
    "    pre_labels = copy.deepcopy(img_labels[:pre_count])\n",
    "    post_labels = copy.deepcopy(img_labels[pre_count:])\n",
    "\n",
    "    # Calculate number of training images from pre-only and post-only lists\n",
    "    train_pre = int(train_pct*pre_count)\n",
    "    train_post = int(train_pct*post_count)\n",
    "\n",
    "    # Split train and test sets among pre-only and post-only lists, then combine into full lists of images and labels\n",
    "    tr_imgs = pre3[:train_pre] + post3[:train_post]\n",
    "    te_imgs = pre3[train_pre:] + post3[train_post:]\n",
    "    tr_labels = pre_labels[:train_pre] + post_labels[:train_post]\n",
    "    te_labels = pre_labels[train_pre:] + post_labels[train_post:]\n",
    "    tr_imgnames = pre_img_names[1:train_pre+1] + post_img_names[:train_post]\n",
    "    te_imgnames = pre_img_names[train_pre+1:] + post_img_names[train_post:]\n",
    "\n",
    "    return tr_imgs, te_imgs, tr_labels, te_labels, tr_imgnames, te_imgnames"
   ]
  },
  {
   "cell_type": "code",
   "execution_count": 32,
   "id": "cdcf8492",
   "metadata": {},
   "outputs": [],
   "source": [
    "# Function to process a set of pre and post eruption images for a volcano, returns a dictionary of original image names as keys and diff-diff images as values\n",
    "def get_diff_diff(pre_imgs, post_imgs, row_crop, col_crop):\n",
    "\n",
    "    # Load images\n",
    "    pre5a = []\n",
    "    for image in pre_imgs:\n",
    "        new_img_string = 'ML/' + image\n",
    "        new_img = plt.imread(new_img_string)\n",
    "        pre5a.append(new_img)\n",
    "\n",
    "    post5a = []\n",
    "    for image in post_imgs:\n",
    "        new_img_string = 'ML/' + image\n",
    "        new_img = plt.imread(new_img_string)\n",
    "        post5a.append(new_img)   \n",
    "    \n",
    "    # Crop images to get exact same dimensions across dataset\n",
    "    pre5b = []\n",
    "    for i in range(len(pre5a)):\n",
    "        new_im = crop_image_center(pre5a[i], row_crop, col_crop)\n",
    "        pre5b.append(new_im)\n",
    "\n",
    "    post5b = []\n",
    "    for i in range(len(post5a)):\n",
    "        new_im = crop_image_center(post5a[i], row_crop, col_crop)\n",
    "        post5b.append(new_im)\n",
    "        \n",
    "    # Add difference of difference images for pre-eruption to output dictionary. Diff-diff for pre images will only have one difference: current minus baseline\n",
    "    diff_diff_dict1 = {}\n",
    "    for i in range(len(pre5b) - 1):\n",
    "        new_im = img_diff(pre5b[0], pre5b[i+1])\n",
    "        diff_diff_dict1.update({pre_imgs[i+1]: new_im})\n",
    "        \n",
    "    # Add difference of difference images for post-eruption to output dictionary. Diff-diff of first post image will only have one difference: current minus baseline\n",
    "    # Diff-diff of non-first post images will be equal to (i-th post image minus i-th pre image) minus (baseline post image minus baseline pre image)\n",
    "    for i in range(len(post5b)):\n",
    "        if i==0:\n",
    "            new_im = img_diff(pre5b[0], post5b[0])\n",
    "        else:\n",
    "            diff1 = img_diff(pre5b[0], post5b[0])\n",
    "            diff2 = img_diff(pre5b[i], post5b[i])\n",
    "            new_im = copy.deepcopy(diff2 - diff1)\n",
    "        diff_diff_dict1.update({post_imgs[i]: new_im})\n",
    "        \n",
    "    # Return final output dictionary\n",
    "    return diff_diff_dict1"
   ]
  },
  {
   "cell_type": "markdown",
   "id": "2483e593",
   "metadata": {},
   "source": [
    "# Process Volcano Images for AVH and DVV channels"
   ]
  },
  {
   "cell_type": "code",
   "execution_count": 33,
   "id": "b5ca7a35",
   "metadata": {},
   "outputs": [],
   "source": [
    "# Initial image names list for Fournaise\n",
    "pre_fournaise = ['Fournaise_Piton_de_la_2019-02-11_233020_22343_aVH.png','Fournaise_Piton_de_la_2019-02-25_233020_22343_aVH.png',\n",
    "                 'Fournaise_Piton_de_la_2019-03-11_233020_22343_aVH.png','Fournaise_Piton_de_la_2019-03-18_233020_22343_aVH.png',\n",
    "                 'Fournaise_Piton_de_la_2019-04-01_233020_22343_aVH.png']\n",
    "\n",
    "post_fournaise = ['Fournaise_Piton_de_la_2020-02-10_233020_22343_aVH.png','Fournaise_Piton_de_la_2020-02-17_233020_22343_aVH.png',\n",
    "                  'Fournaise_Piton_de_la_2020-03-02_233020_22343_aVH.png','Fournaise_Piton_de_la_2020-03-16_233020_22343_aVH.png',\n",
    "                  'Fournaise_Piton_de_la_2020-04-06_233020_22343_aVH.png']\n",
    "\n",
    "\n",
    "# Process Fournaise images using process_img function\n",
    "imgs_fournaise, labels_fournaise = process_imgs(pre_fournaise, post_fournaise, 750, 750)\n",
    "\n",
    "# Get train and test images and labels for Fournaise using img_split function\n",
    "tr_imgs_fournaise, te_imgs_fournaise, tr_labels_fournaise, te_labels_fournaise, tr_imgnames_fournaise, te_imgnames_fournaise = img_split(imgs_fournaise, labels_fournaise, pre_fournaise, post_fournaise, 0.7)\n"
   ]
  },
  {
   "cell_type": "code",
   "execution_count": 34,
   "id": "8d61985e",
   "metadata": {},
   "outputs": [],
   "source": [
    "# Initial image names list for Fournaise_dvv\n",
    "pre_fournaise_dvv = ['Fournaise_Piton_de_la_2019-02-11_233020_22343_dVV.png','Fournaise_Piton_de_la_2019-02-25_233020_22343_dVV.png',\n",
    "                 'Fournaise_Piton_de_la_2019-03-11_233020_22343_dVV.png','Fournaise_Piton_de_la_2019-03-18_233020_22343_dVV.png',\n",
    "                 'Fournaise_Piton_de_la_2019-04-01_233020_22343_dVV.png']\n",
    "\n",
    "post_fournaise_dvv = ['Fournaise_Piton_de_la_2020-02-10_233020_22343_dVV.png','Fournaise_Piton_de_la_2020-02-17_233020_22343_dVV.png',\n",
    "                  'Fournaise_Piton_de_la_2020-03-02_233020_22343_dVV.png','Fournaise_Piton_de_la_2020-03-16_233020_22343_dVV.png',\n",
    "                  'Fournaise_Piton_de_la_2020-04-06_233020_22343_dVV.png']\n",
    "\n",
    "\n",
    "# Process Fournaise_dvv images using process_img function\n",
    "imgs_fournaise_dvv, labels_fournaise_dvv = process_imgs(pre_fournaise_dvv, post_fournaise_dvv, 750, 750)\n",
    "\n",
    "# Get train and test images and labels for Fournaise_dvv using img_split function\n",
    "tr_imgs_fournaise_dvv, te_imgs_fournaise_dvv, tr_labels_fournaise_dvv, te_labels_fournaise_dvv, tr_imgnames_fournaise_dvv, te_imgnames_fournaise_dvv = img_split(imgs_fournaise_dvv, labels_fournaise_dvv, pre_fournaise_dvv, post_fournaise_dvv, 0.7)\n"
   ]
  },
  {
   "cell_type": "code",
   "execution_count": 35,
   "id": "053e4302",
   "metadata": {},
   "outputs": [],
   "source": [
    "# Initial image names list for sinabung\n",
    "pre_sinabung = ['Sinabung_2018-08-08_261080_22365_aVH.png','Sinabung_2018-08-15_261080_22365_aVH.png',\n",
    "                'Sinabung_2018-08-29_261080_22365_aVH.png','Sinabung_2018-09-12_261080_22365_aVH.png',\n",
    "                'Sinabung_2018-09-19_261080_22365_aVH.png','Sinabung_2018-10-03_261080_22365_aVH.png',\n",
    "                'Sinabung_2018-10-24_261080_22365_aVH.png']\n",
    "\n",
    "post_sinabung = ['Sinabung_2020-08-08_261080_22365_aVH.png','Sinabung_2020-08-15_261080_22365_aVH.png',\n",
    "                 'Sinabung_2020-08-29_261080_22365_aVH.png','Sinabung_2020-09-12_261080_22365_aVH.png',\n",
    "                 'Sinabung_2020-09-19_261080_22365_aVH.png','Sinabung_2020-10-03_261080_22365_aVH.png',\n",
    "                 'Sinabung_2020-10-17_261080_22365_aVH.png']\n",
    "\n",
    "# Process sinabung images using process_img function\n",
    "imgs_sinabung, labels_sinabung = process_imgs(pre_sinabung, post_sinabung, 750, 750)\n",
    "\n",
    "# Get train and test images and labels for sinabung using img_split function\n",
    "tr_imgs_sinabung, te_imgs_sinabung, tr_labels_sinabung, te_labels_sinabung, tr_imgnames_sinabung, te_imgnames_sinabung = img_split(imgs_sinabung, labels_sinabung, pre_sinabung, post_sinabung, 0.7)\n"
   ]
  },
  {
   "cell_type": "code",
   "execution_count": 36,
   "id": "86142bf3",
   "metadata": {},
   "outputs": [],
   "source": [
    "# Initial image names list for sinabung_dvv\n",
    "pre_sinabung_dvv = ['Sinabung_2018-08-08_261080_22365_dVV.png','Sinabung_2018-08-15_261080_22365_dVV.png',\n",
    "                'Sinabung_2018-08-29_261080_22365_dVV.png','Sinabung_2018-09-12_261080_22365_dVV.png',\n",
    "                'Sinabung_2018-09-19_261080_22365_dVV.png','Sinabung_2018-10-03_261080_22365_dVV.png',\n",
    "                'Sinabung_2018-10-24_261080_22365_dVV.png']\n",
    "\n",
    "post_sinabung_dvv = ['Sinabung_2020-08-08_261080_22365_dVV.png','Sinabung_2020-08-15_261080_22365_dVV.png',\n",
    "                 'Sinabung_2020-08-29_261080_22365_dVV.png','Sinabung_2020-09-12_261080_22365_dVV.png',\n",
    "                 'Sinabung_2020-09-19_261080_22365_dVV.png','Sinabung_2020-10-03_261080_22365_dVV.png',\n",
    "                 'Sinabung_2020-10-17_261080_22365_dVV.png']\n",
    "\n",
    "# Process sinabung_dvv images using process_img function\n",
    "imgs_sinabung_dvv, labels_sinabung_dvv = process_imgs(pre_sinabung_dvv, post_sinabung_dvv, 750, 750)\n",
    "\n",
    "# Get train and test images and labels for sinabung_dvv using img_split function\n",
    "tr_imgs_sinabung_dvv, te_imgs_sinabung_dvv, tr_labels_sinabung_dvv, te_labels_sinabung_dvv, tr_imgnames_sinabung_dvv, te_imgnames_sinabung_dvv = img_split(imgs_sinabung_dvv, labels_sinabung_dvv, pre_sinabung_dvv, post_sinabung_dvv, 0.7)\n"
   ]
  },
  {
   "cell_type": "code",
   "execution_count": 37,
   "id": "42ec2956",
   "metadata": {},
   "outputs": [],
   "source": [
    "# Initial image names list for kilauea\n",
    "pre_kilauea = ['Kilauea_2019-12-22_332010_22380_aVH.png','Kilauea_2019-12-29_332010_22380_aVH.png',\n",
    "               'Kilauea_2020-01-05_332010_22380_aVH.png','Kilauea_2020-01-12_332010_22380_aVH.png',\n",
    "               'Kilauea_2020-01-19_332010_22380_aVH.png','Kilauea_2020-01-26_332010_22380_aVH.png',\n",
    "               'Kilauea_2020-02-02_332010_22380_aVH.png','Kilauea_2020-02-09_332010_22380_aVH.png',\n",
    "               'Kilauea_2020-02-16_332010_22380_aVH.png','Kilauea_2020-02-23_332010_22380_aVH.png',\n",
    "               'Kilauea_2020-03-01_332010_22380_aVH.png','Kilauea_2020-03-08_332010_22380_aVH.png',\n",
    "               'Kilauea_2020-03-15_332010_22380_aVH.png']\n",
    "\n",
    "post_kilauea = ['Kilauea_2020-12-20_332010_22380_aVH.png','Kilauea_2020-12-27_332010_22380_aVH.png',\n",
    "                'Kilauea_2021-01-03_332010_22380_aVH.png','Kilauea_2021-01-10_332010_22380_aVH.png',\n",
    "                'Kilauea_2021-01-17_332010_22380_aVH.png','Kilauea_2021-01-24_332010_22380_aVH.png',\n",
    "                'Kilauea_2021-01-31_332010_22380_aVH.png','Kilauea_2021-02-07_332010_22380_aVH.png',\n",
    "                'Kilauea_2021-02-14_332010_22380_aVH.png','Kilauea_2021-02-21_332010_22380_aVH.png',\n",
    "                'Kilauea_2021-02-28_332010_22380_aVH.png','Kilauea_2021-03-07_332010_22380_aVH.png',\n",
    "                'Kilauea_2021-03-14_332010_22380_aVH.png']\n",
    "\n",
    "# Process kilauea images using process_img function\n",
    "imgs_kilauea, labels_kilauea = process_imgs(pre_kilauea, post_kilauea, 750, 750)\n",
    "\n",
    "# Get train and test images and labels for kilauea using img_split function\n",
    "tr_imgs_kilauea, te_imgs_kilauea, tr_labels_kilauea, te_labels_kilauea, tr_imgnames_kilauea, te_imgnames_kilauea = img_split(imgs_kilauea, labels_kilauea, pre_kilauea, post_kilauea, 0.7)\n"
   ]
  },
  {
   "cell_type": "code",
   "execution_count": 38,
   "id": "5271e43d",
   "metadata": {},
   "outputs": [],
   "source": [
    "# Initial image names list for kilauea_dvv\n",
    "pre_kilauea_dvv = ['Kilauea_2019-12-22_332010_22380_dVV.png','Kilauea_2019-12-29_332010_22380_dVV.png',\n",
    "               'Kilauea_2020-01-05_332010_22380_dVV.png','Kilauea_2020-01-12_332010_22380_dVV.png',\n",
    "               'Kilauea_2020-01-19_332010_22380_dVV.png','Kilauea_2020-01-26_332010_22380_dVV.png',\n",
    "               'Kilauea_2020-02-02_332010_22380_dVV.png','Kilauea_2020-02-09_332010_22380_dVV.png',\n",
    "               'Kilauea_2020-02-16_332010_22380_dVV.png','Kilauea_2020-02-23_332010_22380_dVV.png',\n",
    "               'Kilauea_2020-03-01_332010_22380_dVV.png','Kilauea_2020-03-08_332010_22380_dVV.png',\n",
    "               'Kilauea_2020-03-15_332010_22380_dVV.png']\n",
    "\n",
    "post_kilauea_dvv = ['Kilauea_2020-12-20_332010_22380_dVV.png','Kilauea_2020-12-27_332010_22380_dVV.png',\n",
    "                'Kilauea_2021-01-03_332010_22380_dVV.png','Kilauea_2021-01-10_332010_22380_dVV.png',\n",
    "                'Kilauea_2021-01-17_332010_22380_dVV.png','Kilauea_2021-01-24_332010_22380_dVV.png',\n",
    "                'Kilauea_2021-01-31_332010_22380_dVV.png','Kilauea_2021-02-07_332010_22380_dVV.png',\n",
    "                'Kilauea_2021-02-14_332010_22380_dVV.png','Kilauea_2021-02-21_332010_22380_dVV.png',\n",
    "                'Kilauea_2021-02-28_332010_22380_dVV.png','Kilauea_2021-03-07_332010_22380_dVV.png',\n",
    "                'Kilauea_2021-03-14_332010_22380_dVV.png']\n",
    "\n",
    "# Process kilauea_dvv images using process_img function\n",
    "imgs_kilauea_dvv, labels_kilauea_dvv = process_imgs(pre_kilauea_dvv, post_kilauea_dvv, 750, 750)\n",
    "\n",
    "# Get train and test images and labels for kilauea_dvv using img_split function\n",
    "tr_imgs_kilauea_dvv, te_imgs_kilauea_dvv, tr_labels_kilauea_dvv, te_labels_kilauea_dvv, tr_imgnames_kilauea_dvv, te_imgnames_kilauea_dvv = img_split(imgs_kilauea_dvv, labels_kilauea_dvv, pre_kilauea_dvv, post_kilauea_dvv, 0.7)\n"
   ]
  },
  {
   "cell_type": "code",
   "execution_count": 39,
   "id": "56efe557",
   "metadata": {},
   "outputs": [],
   "source": [
    "# Initial image names list for soufriere\n",
    "pre_soufriere = ['Soufriere_St_Vincent_2020-01-05_360150_22385_aVH.png','Soufriere_St_Vincent_2020-01-12_360150_22385_aVH.png',\n",
    "                'Soufriere_St_Vincent_2020-01-26_360150_22385_aVH.png','Soufriere_St_Vincent_2020-02-09_360150_22385_aVH.png',\n",
    "                'Soufriere_St_Vincent_2020-02-23_360150_22385_aVH.png','Soufriere_St_Vincent_2020-03-01_360150_22385_aVH.png',\n",
    "                'Soufriere_St_Vincent_2020-03-15_360150_22385_aVH.png','Soufriere_St_Vincent_2020-03-29_360150_22385_aVH.png',\n",
    "                'Soufriere_St_Vincent_2020-04-05_360150_22385_aVH.png','Soufriere_St_Vincent_2020-04-19_360150_22385_aVH.png']\n",
    "\n",
    "post_soufriere = ['Soufriere_St_Vincent_2021-01-10_360150_22385_aVH.png','Soufriere_St_Vincent_2021-01-24_360150_22385_aVH.png',\n",
    "                 'Soufriere_St_Vincent_2021-01-31_360150_22385_aVH.png','Soufriere_St_Vincent_2021-02-07_360150_22385_aVH.png',\n",
    "                 'Soufriere_St_Vincent_2021-02-21_360150_22385_aVH.png','Soufriere_St_Vincent_2021-02-28_360150_22385_aVH.png',\n",
    "                 'Soufriere_St_Vincent_2021-03-14_360150_22385_aVH.png','Soufriere_St_Vincent_2021-03-28_360150_22385_aVH.png',\n",
    "                 'Soufriere_St_Vincent_2021-04-04_360150_22385_aVH.png','Soufriere_St_Vincent_2021-04-18_360150_22385_aVH.png']\n",
    "\n",
    "# Process soufriere images using process_img function\n",
    "imgs_soufriere, labels_soufriere = process_imgs(pre_soufriere, post_soufriere, 750, 750)\n",
    "\n",
    "# Get train and test images and labels for soufriere using img_split function\n",
    "tr_imgs_soufriere, te_imgs_soufriere, tr_labels_soufriere, te_labels_soufriere, tr_imgnames_soufriere, te_imgnames_soufriere = img_split(imgs_soufriere, labels_soufriere, pre_soufriere, post_soufriere, 0.7)\n"
   ]
  },
  {
   "cell_type": "code",
   "execution_count": 40,
   "id": "5a9d7540",
   "metadata": {},
   "outputs": [],
   "source": [
    "# Initial image names list for soufriere_dvv\n",
    "pre_soufriere_dvv = ['Soufriere_St_Vincent_2020-01-05_360150_22385_dVV.png','Soufriere_St_Vincent_2020-01-12_360150_22385_dVV.png',\n",
    "                'Soufriere_St_Vincent_2020-01-26_360150_22385_dVV.png','Soufriere_St_Vincent_2020-02-09_360150_22385_dVV.png',\n",
    "                'Soufriere_St_Vincent_2020-02-23_360150_22385_dVV.png','Soufriere_St_Vincent_2020-03-01_360150_22385_dVV.png',\n",
    "                'Soufriere_St_Vincent_2020-03-15_360150_22385_dVV.png','Soufriere_St_Vincent_2020-03-29_360150_22385_dVV.png',\n",
    "                'Soufriere_St_Vincent_2020-04-05_360150_22385_dVV.png','Soufriere_St_Vincent_2020-04-19_360150_22385_dVV.png']\n",
    "\n",
    "post_soufriere_dvv = ['Soufriere_St_Vincent_2021-01-10_360150_22385_dVV.png','Soufriere_St_Vincent_2021-01-24_360150_22385_dVV.png',\n",
    "                 'Soufriere_St_Vincent_2021-01-31_360150_22385_dVV.png','Soufriere_St_Vincent_2021-02-07_360150_22385_dVV.png',\n",
    "                 'Soufriere_St_Vincent_2021-02-21_360150_22385_dVV.png','Soufriere_St_Vincent_2021-02-28_360150_22385_dVV.png',\n",
    "                 'Soufriere_St_Vincent_2021-03-14_360150_22385_dVV.png','Soufriere_St_Vincent_2021-03-28_360150_22385_dVV.png',\n",
    "                 'Soufriere_St_Vincent_2021-04-04_360150_22385_dVV.png','Soufriere_St_Vincent_2021-04-18_360150_22385_dVV.png']\n",
    "\n",
    "# Process soufriere_dvv images using process_img function\n",
    "imgs_soufriere_dvv, labels_soufriere_dvv = process_imgs(pre_soufriere_dvv, post_soufriere_dvv, 750, 750)\n",
    "\n",
    "# Get train and test images and labels for soufriere_dvv using img_split function\n",
    "tr_imgs_soufriere_dvv, te_imgs_soufriere_dvv, tr_labels_soufriere_dvv, te_labels_soufriere_dvv, tr_imgnames_soufriere_dvv, te_imgnames_soufriere_dvv = img_split(imgs_soufriere_dvv, labels_soufriere_dvv, pre_soufriere_dvv, post_soufriere_dvv, 0.7)\n"
   ]
  },
  {
   "cell_type": "code",
   "execution_count": 41,
   "id": "a01afa4b",
   "metadata": {},
   "outputs": [],
   "source": [
    "# Initial image names list for rincon\n",
    "pre_rincon = ['Rincon_de_la_Vieja_2019-01-31_345020_22346_aVH.png','Rincon_de_la_Vieja_2019-02-14_345020_22346_aVH.png',\n",
    "              'Rincon_de_la_Vieja_2019-02-28_345020_22346_aVH.png','Rincon_de_la_Vieja_2019-03-07_345020_22346_aVH.png',\n",
    "              'Rincon_de_la_Vieja_2019-03-21_345020_22346_aVH.png','Rincon_de_la_Vieja_2019-04-04_345020_22346_aVH.png']\n",
    "\n",
    "post_rincon = ['Rincon_de_la_Vieja_2020-01-30_345020_22346_aVH.png','Rincon_de_la_Vieja_2020-02-06_345020_22346_aVH.png',\n",
    "               'Rincon_de_la_Vieja_2020-02-20_345020_22346_aVH.png','Rincon_de_la_Vieja_2020-03-05_345020_22346_aVH.png',\n",
    "               'Rincon_de_la_Vieja_2020-03-12_345020_22346_aVH.png','Rincon_de_la_Vieja_2020-03-26_345020_22346_aVH.png']\n",
    "\n",
    "# Process rincon images using process_img function\n",
    "imgs_rincon, labels_rincon = process_imgs(pre_rincon, post_rincon, 750, 750)\n",
    "\n",
    "# Get train and test images and labels for rincon using img_split function\n",
    "tr_imgs_rincon, te_imgs_rincon, tr_labels_rincon, te_labels_rincon, tr_imgnames_rincon, te_imgnames_rincon = img_split(imgs_rincon, labels_rincon, pre_rincon, post_rincon, 0.7)"
   ]
  },
  {
   "cell_type": "code",
   "execution_count": 42,
   "id": "6d9eb760",
   "metadata": {},
   "outputs": [],
   "source": [
    "# Initial image names list for rincon_dvv\n",
    "pre_rincon_dvv = ['Rincon_de_la_Vieja_2019-01-31_345020_22346_dVV.png','Rincon_de_la_Vieja_2019-02-14_345020_22346_dVV.png',\n",
    "              'Rincon_de_la_Vieja_2019-02-28_345020_22346_dVV.png','Rincon_de_la_Vieja_2019-03-07_345020_22346_dVV.png',\n",
    "              'Rincon_de_la_Vieja_2019-03-21_345020_22346_dVV.png','Rincon_de_la_Vieja_2019-04-04_345020_22346_dVV.png']\n",
    "\n",
    "post_rincon_dvv = ['Rincon_de_la_Vieja_2020-01-30_345020_22346_dVV.png','Rincon_de_la_Vieja_2020-02-06_345020_22346_dVV.png',\n",
    "               'Rincon_de_la_Vieja_2020-02-20_345020_22346_dVV.png','Rincon_de_la_Vieja_2020-03-05_345020_22346_dVV.png',\n",
    "               'Rincon_de_la_Vieja_2020-03-12_345020_22346_dVV.png','Rincon_de_la_Vieja_2020-03-26_345020_22346_dVV.png']\n",
    "\n",
    "# Process rincon_dvv images using process_img function\n",
    "imgs_rincon_dvv, labels_rincon_dvv = process_imgs(pre_rincon_dvv, post_rincon_dvv, 750, 750)\n",
    "\n",
    "# Get train and test images and labels for rincon_dvv using img_split function\n",
    "tr_imgs_rincon_dvv, te_imgs_rincon_dvv, tr_labels_rincon_dvv, te_labels_rincon_dvv, tr_imgnames_rincon_dvv, te_imgnames_rincon_dvv = img_split(imgs_rincon_dvv, labels_rincon_dvv, pre_rincon_dvv, post_rincon_dvv, 0.7)\n"
   ]
  },
  {
   "cell_type": "code",
   "execution_count": 43,
   "id": "5818b4a1",
   "metadata": {},
   "outputs": [],
   "source": [
    "# Initial image names list for turrialba\n",
    "pre_turrialba = ['Turrialba_2019-07-04_345070_22369_aVH.png','Turrialba_2019-07-11_345070_22369_aVH.png',\n",
    "                 'Turrialba_2019-07-25_345070_22369_aVH.png','Turrialba_2019-08-08_345070_22369_aVH.png',\n",
    "                 'Turrialba_2019-08-22_345070_22369_aVH.png']\n",
    "\n",
    "post_turrialba = ['Turrialba_2020-06-25_345070_22369_aVH.png','Turrialba_2020-07-09_345070_22369_aVH.png',\n",
    "                  'Turrialba_2020-07-23_345070_22369_aVH.png','Turrialba_2020-07-30_345070_22369_aVH.png',\n",
    "                  'Turrialba_2020-08-13_345070_22369_aVH.png']\n",
    "\n",
    "# Process turrialba images using process_img function\n",
    "imgs_turrialba, labels_turrialba = process_imgs(pre_turrialba, post_turrialba, 750, 750)\n",
    "\n",
    "# Get train and test images and labels for turrialba using img_split function\n",
    "tr_imgs_turrialba, te_imgs_turrialba, tr_labels_turrialba, te_labels_turrialba, tr_imgnames_turrialba, te_imgnames_turrialba = img_split(imgs_turrialba, labels_turrialba, pre_turrialba, post_turrialba, 0.7)\n"
   ]
  },
  {
   "cell_type": "code",
   "execution_count": 44,
   "id": "dd230c60",
   "metadata": {},
   "outputs": [],
   "source": [
    "# Initial image names list for turrialba_dvv\n",
    "pre_turrialba_dvv = ['Turrialba_2019-07-04_345070_22369_dVV.png','Turrialba_2019-07-11_345070_22369_dVV.png',\n",
    "                 'Turrialba_2019-07-25_345070_22369_dVV.png','Turrialba_2019-08-08_345070_22369_dVV.png',\n",
    "                 'Turrialba_2019-08-22_345070_22369_dVV.png']\n",
    "\n",
    "post_turrialba_dvv = ['Turrialba_2020-06-25_345070_22369_dVV.png','Turrialba_2020-07-09_345070_22369_dVV.png',\n",
    "                  'Turrialba_2020-07-23_345070_22369_dVV.png','Turrialba_2020-07-30_345070_22369_dVV.png',\n",
    "                  'Turrialba_2020-08-13_345070_22369_dVV.png']\n",
    "\n",
    "# Process turrialba_dvv images using process_img function\n",
    "imgs_turrialba_dvv, labels_turrialba_dvv = process_imgs(pre_turrialba_dvv, post_turrialba_dvv, 750, 750)\n",
    "\n",
    "# Get train and test images and labels for turrialba_dvv using img_split function\n",
    "tr_imgs_turrialba_dvv, te_imgs_turrialba_dvv, tr_labels_turrialba_dvv, te_labels_turrialba_dvv, tr_imgnames_turrialba_dvv, te_imgnames_turrialba_dvv = img_split(imgs_turrialba_dvv, labels_turrialba_dvv, pre_turrialba_dvv, post_turrialba_dvv, 0.7)\n"
   ]
  },
  {
   "cell_type": "markdown",
   "id": "cd50a603",
   "metadata": {},
   "source": [
    "# Create Difference of Difference Images to be used in final results"
   ]
  },
  {
   "cell_type": "code",
   "execution_count": 45,
   "id": "ca69a5ae",
   "metadata": {},
   "outputs": [],
   "source": [
    "# Create dictionary of diff-diff images across AVH channel images\n",
    "dd_fournaise_avh = get_diff_diff(pre_fournaise, post_fournaise, 750, 750)\n",
    "dd_sinabung_avh = get_diff_diff(pre_sinabung, post_sinabung, 750, 750)\n",
    "dd_kilauea_avh = get_diff_diff(pre_kilauea, post_kilauea, 750, 750)\n",
    "dd_soufriere_avh = get_diff_diff(pre_soufriere, post_soufriere, 750, 750)\n",
    "dd_rincon_avh = get_diff_diff(pre_rincon, post_rincon, 750, 750)\n",
    "dd_turrialba_avh = get_diff_diff(pre_turrialba, post_turrialba, 750, 750)\n",
    "\n",
    "dd_all_avh = {}\n",
    "dd_all_avh.update(dd_fournaise_avh)\n",
    "dd_all_avh.update(dd_sinabung_avh)\n",
    "dd_all_avh.update(dd_kilauea_avh)\n",
    "dd_all_avh.update(dd_soufriere_avh)\n",
    "dd_all_avh.update(dd_rincon_avh)\n",
    "dd_all_avh.update(dd_turrialba_avh)"
   ]
  },
  {
   "cell_type": "code",
   "execution_count": 53,
   "id": "cb277ef6",
   "metadata": {},
   "outputs": [],
   "source": [
    "# Create dictionary of diff-diff images across DVV channel images\n",
    "dd_fournaise_dvv = get_diff_diff(pre_fournaise_dvv, post_fournaise_dvv, 750, 750)\n",
    "dd_sinabung_dvv = get_diff_diff(pre_sinabung_dvv, post_sinabung_dvv, 750, 750)\n",
    "dd_kilauea_dvv = get_diff_diff(pre_kilauea_dvv, post_kilauea_dvv, 750, 750)\n",
    "dd_soufriere_dvv = get_diff_diff(pre_soufriere_dvv, post_soufriere_dvv, 750, 750)\n",
    "dd_rincon_dvv = get_diff_diff(pre_rincon_dvv, post_rincon_dvv, 750, 750)\n",
    "dd_turrialba_dvv = get_diff_diff(pre_turrialba_dvv, post_turrialba_dvv, 750, 750)\n",
    "\n",
    "dd_all_dvv = {}\n",
    "dd_all_dvv.update(dd_fournaise_dvv)\n",
    "dd_all_dvv.update(dd_sinabung_dvv)\n",
    "dd_all_dvv.update(dd_kilauea_dvv)\n",
    "dd_all_dvv.update(dd_soufriere_dvv)\n",
    "dd_all_dvv.update(dd_rincon_dvv)\n",
    "dd_all_dvv.update(dd_turrialba_dvv)"
   ]
  },
  {
   "cell_type": "markdown",
   "id": "8b953cef",
   "metadata": {},
   "source": [
    "# Create model features using HOG for AVH and DVV images"
   ]
  },
  {
   "cell_type": "code",
   "execution_count": 54,
   "id": "fc7b50b2",
   "metadata": {},
   "outputs": [
    {
     "name": "stdout",
     "output_type": "stream",
     "text": [
      "(86, 10)\n",
      " \n"
     ]
    }
   ],
   "source": [
    "# Process HOG features for AVH images\n",
    "\n",
    "# Create combined image labels and list of differenced images\n",
    "img_labels4 = tr_labels_fournaise + tr_labels_sinabung + tr_labels_kilauea + tr_labels_soufriere + tr_labels_rincon + tr_labels_turrialba + te_labels_fournaise + te_labels_sinabung + te_labels_kilauea + te_labels_soufriere + te_labels_rincon + te_labels_turrialba\n",
    "diff_img_list4 = tr_imgs_fournaise + tr_imgs_sinabung + tr_imgs_kilauea + tr_imgs_soufriere + tr_imgs_rincon + tr_imgs_turrialba + te_imgs_fournaise + te_imgs_sinabung + te_imgs_kilauea + te_imgs_soufriere + te_imgs_rincon + te_imgs_turrialba\n",
    "total_train_size = len(tr_labels_fournaise + tr_labels_sinabung + tr_labels_kilauea + tr_labels_soufriere + tr_labels_rincon + tr_labels_turrialba)\n",
    "\n",
    "# Get HOG features using the best parameters previously found: 4 for orientations and 10 for pixels per cell\n",
    "hog_feat4 = get_hog(diff_img_list4, 4, 10)\n",
    "\n",
    "# Get top features for HOG using PCA\n",
    "pca_hog4 = PCA(n_components=10, svd_solver=\"randomized\", random_state=7).fit(hog_feat4)\n",
    "X_pca_hog4 = pca_hog4.transform(hog_feat4)\n",
    "\n",
    "# Check dimensions of top features for HOG after PCA\n",
    "print(X_pca_hog4.shape)\n",
    "print(\" \")\n",
    "\n",
    "# Convert training set and test set labels and features to numpy arrays\n",
    "y_train = np.array(img_labels4[:total_train_size])\n",
    "y_test = np.array(img_labels4[total_train_size:])\n",
    "\n",
    "X_train = X_pca_hog4[:total_train_size, :]\n",
    "X_test = X_pca_hog4[total_train_size:, :]\n",
    "\n",
    "# Normalize feature values using standard scaler\n",
    "scaler = StandardScaler()\n",
    "X_train = scaler.fit_transform(X_train)\n",
    "X_test = scaler.transform(X_test)"
   ]
  },
  {
   "cell_type": "code",
   "execution_count": 55,
   "id": "69722b43",
   "metadata": {},
   "outputs": [
    {
     "name": "stdout",
     "output_type": "stream",
     "text": [
      "(86, 10)\n",
      " \n"
     ]
    }
   ],
   "source": [
    "# Process HOG features for DVV images\n",
    "\n",
    "# Create combined image labels and list of differenced images\n",
    "img_labels_dvv = tr_labels_fournaise_dvv + tr_labels_sinabung_dvv + tr_labels_kilauea_dvv + tr_labels_soufriere_dvv + tr_labels_rincon_dvv + tr_labels_turrialba_dvv + te_labels_fournaise_dvv + te_labels_sinabung_dvv + te_labels_kilauea_dvv + te_labels_soufriere_dvv + te_labels_rincon_dvv + te_labels_turrialba_dvv\n",
    "diff_img_list_dvv = tr_imgs_fournaise_dvv + tr_imgs_sinabung_dvv + tr_imgs_kilauea_dvv + tr_imgs_soufriere_dvv + tr_imgs_rincon_dvv + tr_imgs_turrialba_dvv + te_imgs_fournaise_dvv + te_imgs_sinabung_dvv + te_imgs_kilauea_dvv + te_imgs_soufriere_dvv + te_imgs_rincon_dvv + te_imgs_turrialba_dvv\n",
    "total_train_size_dvv = len(tr_labels_fournaise_dvv + tr_labels_sinabung_dvv + tr_labels_kilauea_dvv + tr_labels_soufriere_dvv + tr_labels_rincon_dvv + tr_labels_turrialba_dvv)\n",
    "\n",
    "# Get HOG features using the best parameters previously found: 4 for orientations and 10 for pixels per cell\n",
    "hog_feat_dvv = get_hog(diff_img_list_dvv, 4, 10)\n",
    "\n",
    "# Get top features for HOG using PCA\n",
    "pca_hog_dvv = PCA(n_components=10, svd_solver=\"randomized\", random_state=7).fit(hog_feat_dvv)\n",
    "X_pca_hog_dvv = pca_hog_dvv.transform(hog_feat_dvv)\n",
    "\n",
    "# Check dimensions of top features for HOG after PCA\n",
    "print(X_pca_hog_dvv.shape)\n",
    "print(\" \")\n",
    "\n",
    "# Convert training set and test set labels and features to numpy arrays\n",
    "X_train_dvv = X_pca_hog_dvv[:total_train_size_dvv, :]\n",
    "X_test_dvv = X_pca_hog_dvv[total_train_size_dvv:, :]\n",
    "\n",
    "# Normalize feature values using standard scaler\n",
    "scaler = StandardScaler()\n",
    "X_train_dvv = scaler.fit_transform(X_train_dvv)\n",
    "X_test_dvv = scaler.transform(X_test_dvv)\n"
   ]
  },
  {
   "cell_type": "code",
   "execution_count": 56,
   "id": "64a5633d",
   "metadata": {},
   "outputs": [
    {
     "name": "stdout",
     "output_type": "stream",
     "text": [
      "(55, 20)\n",
      "(31, 20)\n"
     ]
    }
   ],
   "source": [
    "# Combine AVH and DVV features\n",
    "X_train_comb = np.hstack((X_train, X_train_dvv))\n",
    "X_test_comb = np.hstack((X_test, X_test_dvv))\n",
    "\n",
    "# Check dimensions\n",
    "print(X_train_comb.shape)\n",
    "print(X_test_comb.shape)"
   ]
  },
  {
   "cell_type": "markdown",
   "id": "652f3ef2",
   "metadata": {},
   "source": [
    "# Models Using Random Forest and SVM - SVM is Best"
   ]
  },
  {
   "cell_type": "code",
   "execution_count": 57,
   "id": "f0019be4",
   "metadata": {},
   "outputs": [
    {
     "name": "stdout",
     "output_type": "stream",
     "text": [
      "RF model training set accuracy is: \n",
      "1.0\n",
      "RF model test set accuracy is: \n",
      "0.8064516129032258\n",
      " \n",
      "RF Model Classification Report\n",
      "              precision    recall  f1-score   support\n",
      "\n",
      "           0       1.00      0.60      0.75        15\n",
      "           1       0.73      1.00      0.84        16\n",
      "\n",
      "    accuracy                           0.81        31\n",
      "   macro avg       0.86      0.80      0.80        31\n",
      "weighted avg       0.86      0.81      0.80        31\n",
      "\n"
     ]
    }
   ],
   "source": [
    "# For combined AVH and DVV image features\n",
    "\n",
    "# Fit RF model\n",
    "rf1 = RandomForestClassifier(max_depth=4, min_samples_leaf=1, max_features=6, random_state=7).fit(X_train_comb, y_train)\n",
    "\n",
    "# Get predictions on training set and calculate classification accuracy\n",
    "y_predict1 = rf1.predict(X_train_comb)\n",
    "print(\"RF model training set accuracy is: \")\n",
    "print(get_accuracy(y_predict1, y_train))\n",
    "\n",
    "# Get predictions on test set and calculate classification accuracy\n",
    "y_predict_rf = rf1.predict(X_test_comb)\n",
    "print(\"RF model test set accuracy is: \")\n",
    "print(get_accuracy(y_predict_rf, y_test))\n",
    "\n",
    "# Print classification report\n",
    "print(\" \")\n",
    "print(\"RF Model Classification Report\")\n",
    "print(classification_report(y_test, y_predict_rf))"
   ]
  },
  {
   "cell_type": "code",
   "execution_count": 59,
   "id": "b3402fa2",
   "metadata": {},
   "outputs": [
    {
     "name": "stdout",
     "output_type": "stream",
     "text": [
      "SVM model training set accuracy is: \n",
      "0.9272727272727272\n",
      "SVM model test set accuracy is: \n",
      "0.8709677419354839\n",
      " \n",
      "SVM Model Classification Report\n",
      "              precision    recall  f1-score   support\n",
      "\n",
      "           0       0.92      0.80      0.86        15\n",
      "           1       0.83      0.94      0.88        16\n",
      "\n",
      "    accuracy                           0.87        31\n",
      "   macro avg       0.88      0.87      0.87        31\n",
      "weighted avg       0.88      0.87      0.87        31\n",
      "\n"
     ]
    }
   ],
   "source": [
    "# For combined AVH and DVV image features\n",
    "\n",
    "# Fit SVM model\n",
    "svm1 = SVC(C=15, kernel='rbf').fit(X_train_comb, y_train)\n",
    "\n",
    "# Get predictions on training set and calculate classification accuracy\n",
    "y_predict2 = svm1.predict(X_train_comb)\n",
    "print(\"SVM model training set accuracy is: \")\n",
    "print(get_accuracy(y_predict2, y_train))\n",
    "\n",
    "# Get predictions on test set and calculate classification accuracy\n",
    "y_predict_svm = svm1.predict(X_test_comb)\n",
    "print(\"SVM model test set accuracy is: \")\n",
    "print(get_accuracy(y_predict_svm, y_test))\n",
    "\n",
    "# Print classification report\n",
    "print(\" \")\n",
    "print(\"SVM Model Classification Report\")\n",
    "print(classification_report(y_test, y_predict_svm))"
   ]
  },
  {
   "cell_type": "markdown",
   "id": "858da29c",
   "metadata": {},
   "source": [
    "# Model Output for Pipeline"
   ]
  },
  {
   "cell_type": "code",
   "execution_count": 71,
   "id": "87df0085",
   "metadata": {},
   "outputs": [
    {
     "name": "stdout",
     "output_type": "stream",
     "text": [
      "Test Set: Image File Names - AVH Channel\n",
      "['Fournaise_Piton_de_la_2019-03-18_233020_22343_aVH.png', 'Fournaise_Piton_de_la_2019-04-01_233020_22343_aVH.png', 'Fournaise_Piton_de_la_2020-03-16_233020_22343_aVH.png', 'Fournaise_Piton_de_la_2020-04-06_233020_22343_aVH.png', 'Sinabung_2018-10-03_261080_22365_aVH.png', 'Sinabung_2018-10-24_261080_22365_aVH.png', 'Sinabung_2020-09-19_261080_22365_aVH.png', 'Sinabung_2020-10-03_261080_22365_aVH.png', 'Sinabung_2020-10-17_261080_22365_aVH.png', 'Kilauea_2020-02-23_332010_22380_aVH.png', 'Kilauea_2020-03-01_332010_22380_aVH.png', 'Kilauea_2020-03-08_332010_22380_aVH.png', 'Kilauea_2020-03-15_332010_22380_aVH.png', 'Kilauea_2021-02-21_332010_22380_aVH.png', 'Kilauea_2021-02-28_332010_22380_aVH.png', 'Kilauea_2021-03-07_332010_22380_aVH.png', 'Kilauea_2021-03-14_332010_22380_aVH.png', 'Soufriere_St_Vincent_2020-03-29_360150_22385_aVH.png', 'Soufriere_St_Vincent_2020-04-05_360150_22385_aVH.png', 'Soufriere_St_Vincent_2020-04-19_360150_22385_aVH.png', 'Soufriere_St_Vincent_2021-03-28_360150_22385_aVH.png', 'Soufriere_St_Vincent_2021-04-04_360150_22385_aVH.png', 'Soufriere_St_Vincent_2021-04-18_360150_22385_aVH.png', 'Rincon_de_la_Vieja_2019-03-21_345020_22346_aVH.png', 'Rincon_de_la_Vieja_2019-04-04_345020_22346_aVH.png', 'Rincon_de_la_Vieja_2020-03-12_345020_22346_aVH.png', 'Rincon_de_la_Vieja_2020-03-26_345020_22346_aVH.png', 'Turrialba_2019-08-08_345070_22369_aVH.png', 'Turrialba_2019-08-22_345070_22369_aVH.png', 'Turrialba_2020-07-30_345070_22369_aVH.png', 'Turrialba_2020-08-13_345070_22369_aVH.png']\n",
      " \n",
      "Test Set: Actual Indicator\n",
      "[0 0 1 1 0 0 1 1 1 0 0 0 0 1 1 1 1 0 0 0 1 1 1 0 0 1 1 0 0 1 1]\n",
      " \n",
      "Test Set: Predicted Indicator\n",
      "[0 0 1 1 0 0 1 1 1 1 1 1 0 1 1 1 1 0 0 0 1 1 0 0 0 1 1 0 0 1 1]\n",
      " \n",
      "Test Set: Sample Difference of Difference Image\n"
     ]
    },
    {
     "data": {
      "text/plain": [
       "<matplotlib.image.AxesImage at 0x7fad3a667358>"
      ]
     },
     "execution_count": 71,
     "metadata": {},
     "output_type": "execute_result"
    },
    {
     "data": {
      "image/png": "[encoded data removed]",
      "text/plain": [
       "<Figure size 432x288 with 1 Axes>"
      ]
     },
     "metadata": {
      "needs_background": "light"
     },
     "output_type": "display_data"
    }
   ],
   "source": [
    "# Final model output components\n",
    "\n",
    "# Image names of test set\n",
    "test_img_names_avh = te_imgnames_fournaise + te_imgnames_sinabung + te_imgnames_kilauea + te_imgnames_soufriere + te_imgnames_rincon + te_imgnames_turrialba\n",
    "test_img_names_dvv = te_imgnames_fournaise_dvv + te_imgnames_sinabung_dvv + te_imgnames_kilauea_dvv + te_imgnames_soufriere_dvv + te_imgnames_rincon_dvv + te_imgnames_turrialba_dvv\n",
    "print(\"Test Set: Image File Names - AVH Channel\")\n",
    "print(test_img_names_avh)\n",
    "print(\" \")\n",
    "\n",
    "# Actual pre/post eruption indicator for test set, 0 is pre, 1 is post\n",
    "print(\"Test Set: Actual Indicator\")\n",
    "print(y_test)\n",
    "print(\" \")\n",
    "\n",
    "# Predicted pre/post eruption indicator for test set, 0 is pre, 1 is post\n",
    "print(\"Test Set: Predicted Indicator\")\n",
    "print(y_predict_svm)\n",
    "print(\" \")\n",
    "\n",
    "# Create list of difference of difference images for test set from AVH channel\n",
    "diffdiff_imgs_avh = []\n",
    "for i in test_img_names_avh:\n",
    "    diffdiff_imgs_avh.append(copy.deepcopy(dd_all_avh[i]))\n",
    "\n",
    "# Create list of difference of difference images for test set from DVV channel\n",
    "diffdiff_imgs_dvv = []\n",
    "for i in test_img_names_dvv:\n",
    "    diffdiff_imgs_dvv.append(copy.deepcopy(dd_all_dvv[i]))\n",
    "\n",
    "# One sample diff-diff image printout\n",
    "print(\"Test Set: Sample Difference of Difference Image\")\n",
    "plt.imshow(diffdiff_imgs_dvv[29])"
   ]
  },
  {
   "cell_type": "code",
   "execution_count": null,
   "id": "a04b5563",
   "metadata": {},
   "outputs": [],
   "source": []
  }
 ],
 "metadata": {
  "kernelspec": {
   "display_name": "conda_amazonei_mxnet_p36",
   "language": "python",
   "name": "conda_amazonei_mxnet_p36"
  },
  "language_info": {
   "codemirror_mode": {
    "name": "ipython",
    "version": 3
   },
   "file_extension": ".py",
   "mimetype": "text/x-python",
   "name": "python",
   "nbconvert_exporter": "python",
   "pygments_lexer": "ipython3",
   "version": "3.6.13"
  }
 },
 "nbformat": 4,
 "nbformat_minor": 5
}
