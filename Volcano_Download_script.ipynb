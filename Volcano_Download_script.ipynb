{
  "cells": [
    {
      "cell_type": "markdown",
      "id": "665380b9",
      "metadata": {
        "id": "665380b9"
      },
      "source": [
        "# Download representative images of volcanos\n"
      ]
    },
    {
      "cell_type": "markdown",
      "id": "dcfacdb8",
      "metadata": {
        "id": "dcfacdb8"
      },
      "source": [
        "Credit: this script derived from [Aaron Geller's blog post.](https://sites.northwestern.edu/researchcomputing/2021/11/19/downloading-satellite-images-made-easy/), including the use of functions based on his [EarthEngineToGeoTIFF repository.](https://github.com/ageller/EarthEngineToGeoTIFF)"
      ]
    },
    {
      "cell_type": "code",
      "execution_count": 30,
      "id": "74c88e1d",
      "metadata": {
        "colab": {
          "base_uri": "https://localhost:8080/"
        },
        "id": "74c88e1d",
        "outputId": "9a644ad5-5519-40b7-bf39-7664b505210e"
      },
      "outputs": [
        {
          "output_type": "stream",
          "name": "stdout",
          "text": [
            "Looking in indexes: https://pypi.org/simple, https://us-python.pkg.dev/colab-wheels/public/simple/\n",
            "Requirement already satisfied: rasterio in /usr/local/lib/python3.7/dist-packages (1.2.10)\n",
            "Requirement already satisfied: attrs in /usr/local/lib/python3.7/dist-packages (from rasterio) (21.4.0)\n",
            "Requirement already satisfied: click>=4.0 in /usr/local/lib/python3.7/dist-packages (from rasterio) (7.1.2)\n",
            "Requirement already satisfied: cligj>=0.5 in /usr/local/lib/python3.7/dist-packages (from rasterio) (0.7.2)\n",
            "Requirement already satisfied: click-plugins in /usr/local/lib/python3.7/dist-packages (from rasterio) (1.1.1)\n",
            "Requirement already satisfied: snuggs>=1.4.1 in /usr/local/lib/python3.7/dist-packages (from rasterio) (1.4.7)\n",
            "Requirement already satisfied: numpy in /usr/local/lib/python3.7/dist-packages (from rasterio) (1.21.6)\n",
            "Requirement already satisfied: affine in /usr/local/lib/python3.7/dist-packages (from rasterio) (2.3.1)\n",
            "Requirement already satisfied: setuptools in /usr/local/lib/python3.7/dist-packages (from rasterio) (57.4.0)\n",
            "Requirement already satisfied: certifi in /usr/local/lib/python3.7/dist-packages (from rasterio) (2022.5.18.1)\n",
            "Requirement already satisfied: pyparsing>=2.1.6 in /usr/local/lib/python3.7/dist-packages (from snuggs>=1.4.1->rasterio) (3.0.9)\n"
          ]
        }
      ],
      "source": [
        "import ee\n",
        "%pip install rasterio\n",
        "\n",
        "import rasterio\n",
        "from rasterio.plot import show as showRasterio\n",
        "\n",
        "import pandas as pd\n",
        "import re\n",
        "import matplotlib.pyplot as plt\n",
        "%matplotlib inline\n",
        "\n",
        "from datetime import date\n",
        "from datetime import timedelta"
      ]
    },
    {
      "cell_type": "code",
      "source": [
        "# connect to google drive\n",
        "from google.colab import drive  \n",
        "\n",
        "# drive roots\n",
        "DRIVE_MOUNT = '/content/drive'\n",
        "drive.mount(DRIVE_MOUNT, force_remount=True)\n",
        "\n",
        "# set up project directories\n",
        "PROJECT_DIR = DRIVE_MOUNT + \"/My Drive/Volcano_datasets/\"\n",
        "TMP_DIR = PROJECT_DIR + \"TempDIR/\"\n",
        "OUTPUT_IMAGE_DIR = PROJECT_DIR +\"Satellite_images/\"\n",
        "\n",
        "\n",
        "\n",
        "targets = pd.read_excel(PROJECT_DIR + \"Sample Eruptions.xlsx\")\n",
        "\n"
      ],
      "metadata": {
        "colab": {
          "base_uri": "https://localhost:8080/"
        },
        "id": "A1iJapXtdlHe",
        "outputId": "96a9a2a4-0bb2-47a1-b850-3d148d9957ee"
      },
      "id": "A1iJapXtdlHe",
      "execution_count": 21,
      "outputs": [
        {
          "output_type": "stream",
          "name": "stdout",
          "text": [
            "Mounted at /content/drive\n"
          ]
        }
      ]
    },
    {
      "cell_type": "code",
      "source": [
        "import zipfile\n",
        "import os\n",
        "import requests\n",
        "\n",
        "import numpy as np\n",
        "\n",
        "# percent cloud filter allowable\n",
        "CLOUD_FILTER = 50\n",
        "\n",
        "def getSentinalS2SRImage(lon, lat, sze_km, rgb_filename, nir_filename,\n",
        "                         dateMin = '2020-04-01', dateMax = '2020-04-30', \n",
        "                         min = 0, vmax = 3500,\n",
        "                         temp_dir = TMP_DIR):\n",
        "    '''    \n",
        "    download an RGB image from the Sentinal S2 Surface Reflectance satellite, at the given coordinates\n",
        "    \n",
        "    lon : central longitude in degrees\n",
        "    lat : central latitude in degrees\n",
        "    sze_km : size of the edge of the box in km\n",
        "    dateMin : minimum date to use for image search in year-month-day (e.g., 2020-08-01)\n",
        "    dateMax : maximum date to use for image search in year-month-day (e.g., 2020-08-31)\n",
        "    vMin : minimum value to select in the Sentinal image pixels (I think this should be close to 0)\n",
        "    vMax : maximum value to select in the Sentinal image pixels (I think this should be close to 3000)\n",
        "    rgb_filename : output filename for the RGB GeoTIFF image\n",
        "    nir_filename : output filename for the RGB GeoTIFF image\n",
        "    \n",
        "    Note: it's possible that the vMin and vMax values should be different for each band to make the image look nicer\n",
        "    \n",
        "    https://developers.google.com/earth-engine/datasets/catalog/COPERNICUS_S2_SR\n",
        "    '''\n",
        "\n",
        "\n",
        "    print('Downloading Sentinel S2 Surface Reflectance satellite images ... ')\n",
        "    \n",
        "    # define the area of interest, using the Earth Engines geometry object\n",
        "\n",
        "    pt = ee.Geometry.Point(lon,lat)\n",
        "    \n",
        "    aoi = ee.Geometry.buffer(pt,sze_km)\n",
        "\n",
        "    # get the image using Google's Earth Engine\n",
        "    db = ee.Image(ee.ImageCollection('COPERNICUS/S2_SR')\\\n",
        "                       .filterBounds(aoi)\\\n",
        "                       .filterDate(ee.Date(dateMin), ee.Date(dateMax))\\\n",
        "                       .filter(ee.Filter.lte('CLOUDY_PIXEL_PERCENTAGE', CLOUD_FILTER))\\\n",
        "                       .mosaic())\n",
        "    \n",
        "    # add the latitude and longitude\n",
        "    db = db.addBands(ee.Image.pixelLonLat())\n",
        "\n",
        "\n",
        "    # define the bands that I want to use.  B4 is red, B3 is green, B2 is blue, b8 is near IR, \n",
        "    # https://developers.google.com/earth-engine/datasets/catalog/COPERNICUS_S2_SR#bands\n",
        "    bands = ['B4', 'B3', 'B2','B8']\n",
        "\n",
        "    # export geotiff images, these go to Drive and then are downloaded locally\n",
        "    for selection in bands:\n",
        "        task = ee.batch.Export.image.toDrive(image=db.select(selection),\n",
        "                                     description=selection,\n",
        "                                     scale=30,\n",
        "                                     region=aoi,\n",
        "                                     fileNamePrefix=selection,\n",
        "                                     crs='EPSG:4326',\n",
        "                                     fileFormat='GeoTIFF')\n",
        "        task.start()\n",
        "\n",
        "        url = db.select(selection).getDownloadURL({\n",
        "            'scale': 30,\n",
        "            'crs': 'EPSG:4326',\n",
        "            'fileFormat': 'GeoTIFF',\n",
        "            'region': aoi})\n",
        "    \n",
        "        r = requests.get(url, stream=True)\n",
        "\n",
        "        filenameZip = temp_dir + selection+'.zip'\n",
        "        filenameTif = selection+'.tif'\n",
        "\n",
        "        # unzip and write the tif file, then remove the original zip file\n",
        "        with open(filenameZip, \"wb\") as fd:\n",
        "            for chunk in r.iter_content(chunk_size=1024):\n",
        "                fd.write(chunk)\n",
        "\n",
        "        zipdata = zipfile.ZipFile(filenameZip)\n",
        "        zipinfos = zipdata.infolist()\n",
        "\n",
        "        # iterate through each file (there should be only one)\n",
        "        for zipinfo in zipinfos:\n",
        "            zipinfo.filename = filenameTif\n",
        "            zipdata.extract(zipinfo,path=temp_dir)\n",
        "    \n",
        "        zipdata.close()\n",
        "        \n",
        "    # create a combined RGB geotiff image\n",
        "    # https://gis.stackexchange.com/questions/341809/merging-sentinel-2-rgb-bands-with-rasterio\n",
        "    print('Creating 3-band GeoTIFF image ... ')\n",
        "    \n",
        "    # open the images\n",
        "    B2 = rasterio.open(temp_dir +'B2.tif')\n",
        "    B3 = rasterio.open(temp_dir +'B3.tif')\n",
        "    B4 = rasterio.open(temp_dir +'B4.tif')\n",
        "    B8 = rasterio.open(temp_dir +'B8.tif')\n",
        "\n",
        "    # get the scaling\n",
        "    image = np.array([B2.read(1), B3.read(1), B4.read(1)]).transpose(1,2,0)\n",
        "    p2, p98 = np.percentile(image, (2,98))\n",
        "\n",
        "    # use the B3 image as a starting point so that I keep the same parameters\n",
        "    B3_geo = B3.profile\n",
        "    B3_geo.update({'count': 3})\n",
        "\n",
        "    with rasterio.open(rgb_filename, 'w', **B3_geo) as dest:\n",
        "        dest.write( (np.clip(B4.read(1), p2, p98) - p2)/(p98 - p2)*255, 1)\n",
        "        dest.write( (np.clip(B3.read(1), p2, p98) - p2)/(p98 - p2)*255, 2)\n",
        "        dest.write( (np.clip(B2.read(1), p2, p98) - p2)/(p98 - p2)*255, 3)\n",
        "\n",
        "    dest.close()\n",
        "\n",
        "    # Near IR replaces the blue channel\n",
        "    with rasterio.open(nir_filename, 'w', **B3_geo) as dest:\n",
        "        dest.write( (np.clip(B4.read(1), p2, p98) - p2)/(p98 - p2)*255, 1)\n",
        "        dest.write( (np.clip(B3.read(1), p2, p98) - p2)/(p98 - p2)*255, 2)\n",
        "        dest.write( (np.clip(B8.read(1), p2, p98) - p2)/(p98 - p2)*255, 3)\n",
        "\n",
        "    B2.close()\n",
        "    B3.close()\n",
        "    B4.close()\n",
        "    B8.close()\n",
        "    \n",
        "    # remove the intermediate files\n",
        "    for selection in bands:\n",
        "        os.remove(temp_dir +selection + '.tif')\n",
        "        os.remove(temp_dir +selection + '.zip')\n",
        "  \n"
      ],
      "metadata": {
        "id": "y9pcFV1wSsZ3"
      },
      "id": "y9pcFV1wSsZ3",
      "execution_count": 51,
      "outputs": []
    },
    {
      "cell_type": "code",
      "execution_count": 3,
      "id": "8396951f",
      "metadata": {
        "colab": {
          "base_uri": "https://localhost:8080/"
        },
        "id": "8396951f",
        "outputId": "39a005fd-1850-4dce-bd41-74e4b22594c4"
      },
      "outputs": [
        {
          "output_type": "stream",
          "name": "stdout",
          "text": [
            "To authorize access needed by Earth Engine, open the following URL in a web browser and follow the instructions. If the web browser does not start automatically, please manually browse the URL below.\n",
            "\n",
            "    https://code.earthengine.google.com/client-auth?scopes=https%3A//www.googleapis.com/auth/earthengine%20https%3A//www.googleapis.com/auth/devstorage.full_control&request_id=jI7CtqZZNcNrvgGMHQr-aImA_tzNZI1cFu-rMwGZliE&tc=5eYR_B5yW3GwgBtdiF1JqAdT5IcTPFbjNzWwNV_Zldw&cc=VvFqmIVMUpC7CMCvZY3qch9o-RDUG4LRFBgGvbQX71s\n",
            "\n",
            "The authorization workflow will generate a code, which you should paste in the box below. \n",
            "Enter verification code: 4/1AX4XfWj1xvNGWuhQ1NphU6cBWS4qbxzlol14MVTWi2JRxFkOWxqSw3VjXVE\n",
            "\n",
            "Successfully saved authorization token.\n"
          ]
        }
      ],
      "source": [
        "# Trigger the authentication flow.\n",
        "ee.Authenticate()\n",
        "\n",
        "# Initialize the library.\n",
        "ee.Initialize()"
      ]
    },
    {
      "cell_type": "code",
      "source": [
        "def get_image_data(longitude, latitude, buffer_size,\n",
        "                             output_rgb,output_grn, \n",
        "                            dateMin , dateMax ):\n",
        "   # download stacked tif files\n",
        "    _ = getSentinalS2SRImage(longitude, latitude, buffer_size,\n",
        "                             output_rgb+\".tif\",output_grn+\".tif\", \n",
        "                            dateMin , dateMax )\n",
        "\n",
        "    #convert from tif to png\n",
        "    for file in [output_rgb,output_grn]:\n",
        "        f,ax = plt.subplots(figsize=(15,15))\n",
        "\n",
        "        img = rasterio.open(file+\".tif\")\n",
        "\n",
        "        showRasterio(img.read(), ax = ax, transform=img.transform)\n",
        "\n",
        "        f.savefig(file+\".png\", bbox_inches='tight')\n",
        "\n",
        "        img.close()\n",
        "\n",
        "        os.remove(file + \".tif\")\n",
        "\n",
        "    \n"
      ],
      "metadata": {
        "id": "JP5prJJ5p7kh"
      },
      "id": "JP5prJJ5p7kh",
      "execution_count": 48,
      "outputs": []
    },
    {
      "cell_type": "code",
      "source": [
        "target_size_km = 50000\n",
        "for i_eruption in range(8,targets.shape[0]):\n",
        "    volc = targets.loc[i_eruption]\n",
        "    v_name = re.sub(r\"[,.]\",\"\",re.sub(r\"\\s+\", \"_\",volc[\"Volcano Name\"]))\n",
        "    print(v_name)\n",
        "    erupt_start_date = date(volc[\"Start Year\"],volc[\"Start Month\"],volc[\"Start Day\"])\n",
        "    erupt_end_date = date(volc[\"End Year\"],volc[\"End Month\"],volc[\"End Day\"])\n",
        "    next_start_date = erupt_start_date\n",
        "    next_end_date = erupt_start_date + timedelta(days=7)\n",
        "    while (next_end_date <= erupt_start_date + timedelta(days=7)):\n",
        "        volc_file_name = f'{OUTPUT_IMAGE_DIR}{volc[\"Volcano Number\"]:.0f}_{v_name}_{volc[\"Eruption Number\"]:.0f}_{next_start_date}'\n",
        "\n",
        "        print(i_eruption, volc_file_name)\n",
        "       \n",
        "        get_image_data(volc[\"Longitude\"], volc[\"Latitude\"], target_size_km,\n",
        "                             volc_file_name,volc_file_name+\"_GRN\", \n",
        "                            dateMin = next_start_date.isoformat(), dateMax=next_end_date.isoformat())\n",
        "        next_start_date = next_start_date + timedelta(days=7)\n",
        "        next_end_date = next_end_date + timedelta(days=7)\n",
        "       "
      ],
      "metadata": {
        "colab": {
          "base_uri": "https://localhost:8080/"
        },
        "id": "V3-iEGY8hezd",
        "outputId": "1faba685-b8f2-47de-95e7-2608866f903a"
      },
      "id": "V3-iEGY8hezd",
      "execution_count": null,
      "outputs": [
        {
          "output_type": "stream",
          "name": "stdout",
          "text": [
            "Kavachi\n",
            "8 /content/drive/My Drive/Volcano_datasets/Satellite_images/255060_Kavachi_22364_2020-09-02\n",
            "Downloading Sentinel S2 Surface Reflectance satellite images ... \n"
          ]
        }
      ]
    }
  ],
  "metadata": {
    "kernelspec": {
      "display_name": "Python 3 (ipykernel)",
      "language": "python",
      "name": "python3"
    },
    "language_info": {
      "codemirror_mode": {
        "name": "ipython",
        "version": 3
      },
      "file_extension": ".py",
      "mimetype": "text/x-python",
      "name": "python",
      "nbconvert_exporter": "python",
      "pygments_lexer": "ipython3",
      "version": "3.9.7"
    },
    "colab": {
      "name": "Volcano Download script",
      "provenance": [],
      "collapsed_sections": []
    }
  },
  "nbformat": 4,
  "nbformat_minor": 5
}