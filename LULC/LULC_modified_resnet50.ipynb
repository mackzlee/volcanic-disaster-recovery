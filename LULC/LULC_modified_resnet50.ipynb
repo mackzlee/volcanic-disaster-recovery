{
 "cells": [
  {
   "cell_type": "markdown",
   "metadata": {
    "id": "yIRetYxsRR55"
   },
   "source": [
    "# Land Cover Classification using Deep Learning Techniques and EuroSAT"
   ]
  },
  {
   "cell_type": "markdown",
   "metadata": {
    "id": "M6JsEhzJOcK7"
   },
   "source": [
    "## Mounting google drive for dataset access and saving models"
   ]
  },
  {
   "cell_type": "markdown",
   "metadata": {
    "id": "_IXnwZosOmWf"
   },
   "source": [
    "## Libraries"
   ]
  },
  {
   "cell_type": "code",
   "execution_count": 1,
   "metadata": {
    "execution": {
     "iopub.execute_input": "2021-09-06T08:32:47.006996Z",
     "iopub.status.busy": "2021-09-06T08:32:47.006507Z",
     "iopub.status.idle": "2021-09-06T08:32:53.465974Z",
     "shell.execute_reply": "2021-09-06T08:32:53.464926Z",
     "shell.execute_reply.started": "2021-09-06T08:32:47.006902Z"
    },
    "id": "LUNH5Hp5vCWd",
    "outputId": "81267cdc-13d7-4d85-aa70-6c308764ee8a"
   },
   "outputs": [
    {
     "name": "stdout",
     "output_type": "stream",
     "text": [
      "Requirement already satisfied: ipython-autotime in c:\\users\\anne\\anaconda3\\lib\\site-packages (0.3.1)\n",
      "Requirement already satisfied: ipython in c:\\users\\anne\\anaconda3\\lib\\site-packages (from ipython-autotime) (7.29.0)\n",
      "Requirement already satisfied: setuptools>=18.5 in c:\\users\\anne\\anaconda3\\lib\\site-packages (from ipython->ipython-autotime) (58.0.4)\n",
      "Requirement already satisfied: prompt-toolkit!=3.0.0,!=3.0.1,<3.1.0,>=2.0.0 in c:\\users\\anne\\anaconda3\\lib\\site-packages (from ipython->ipython-autotime) (3.0.20)\n",
      "Requirement already satisfied: traitlets>=4.2 in c:\\users\\anne\\anaconda3\\lib\\site-packages (from ipython->ipython-autotime) (5.1.0)\n",
      "Requirement already satisfied: jedi>=0.16 in c:\\users\\anne\\anaconda3\\lib\\site-packages (from ipython->ipython-autotime) (0.18.0)\n",
      "Requirement already satisfied: pickleshare in c:\\users\\anne\\anaconda3\\lib\\site-packages (from ipython->ipython-autotime) (0.7.5)\n",
      "Requirement already satisfied: backcall in c:\\users\\anne\\anaconda3\\lib\\site-packages (from ipython->ipython-autotime) (0.2.0)\n",
      "Requirement already satisfied: pygments in c:\\users\\anne\\anaconda3\\lib\\site-packages (from ipython->ipython-autotime) (2.10.0)\n",
      "Requirement already satisfied: colorama in c:\\users\\anne\\anaconda3\\lib\\site-packages (from ipython->ipython-autotime) (0.4.4)\n",
      "Requirement already satisfied: decorator in c:\\users\\anne\\anaconda3\\lib\\site-packages (from ipython->ipython-autotime) (5.1.0)\n",
      "Requirement already satisfied: matplotlib-inline in c:\\users\\anne\\anaconda3\\lib\\site-packages (from ipython->ipython-autotime) (0.1.2)\n",
      "Requirement already satisfied: parso<0.9.0,>=0.8.0 in c:\\users\\anne\\anaconda3\\lib\\site-packages (from jedi>=0.16->ipython->ipython-autotime) (0.8.2)\n",
      "Requirement already satisfied: wcwidth in c:\\users\\anne\\anaconda3\\lib\\site-packages (from prompt-toolkit!=3.0.0,!=3.0.1,<3.1.0,>=2.0.0->ipython->ipython-autotime) (0.2.5)\n",
      "time: 0 ns (started: 2022-07-18 17:00:04 -07:00)\n"
     ]
    }
   ],
   "source": [
    "!pip install ipython-autotime\n",
    "%load_ext autotime"
   ]
  },
  {
   "cell_type": "code",
   "execution_count": 2,
   "metadata": {
    "execution": {
     "iopub.execute_input": "2021-09-06T08:32:47.006996Z",
     "iopub.status.busy": "2021-09-06T08:32:47.006507Z",
     "iopub.status.idle": "2021-09-06T08:32:53.465974Z",
     "shell.execute_reply": "2021-09-06T08:32:53.464926Z",
     "shell.execute_reply.started": "2021-09-06T08:32:47.006902Z"
    },
    "id": "LUNH5Hp5vCWd",
    "outputId": "81267cdc-13d7-4d85-aa70-6c308764ee8a"
   },
   "outputs": [
    {
     "name": "stdout",
     "output_type": "stream",
     "text": [
      "Requirement already satisfied: torchvision in c:\\users\\anne\\anaconda3\\lib\\site-packages (0.13.0)\n",
      "Requirement already satisfied: typing-extensions in c:\\users\\anne\\anaconda3\\lib\\site-packages (from torchvision) (3.10.0.2)\n",
      "Requirement already satisfied: numpy in c:\\users\\anne\\anaconda3\\lib\\site-packages (from torchvision) (1.20.3)\n",
      "Requirement already satisfied: requests in c:\\users\\anne\\anaconda3\\lib\\site-packages (from torchvision) (2.26.0)\n",
      "Requirement already satisfied: pillow!=8.3.*,>=5.3.0 in c:\\users\\anne\\anaconda3\\lib\\site-packages (from torchvision) (8.4.0)\n",
      "Requirement already satisfied: torch==1.12.0 in c:\\users\\anne\\anaconda3\\lib\\site-packages (from torchvision) (1.12.0)\n",
      "Requirement already satisfied: certifi>=2017.4.17 in c:\\users\\anne\\anaconda3\\lib\\site-packages (from requests->torchvision) (2021.10.8)\n",
      "Requirement already satisfied: charset-normalizer~=2.0.0 in c:\\users\\anne\\anaconda3\\lib\\site-packages (from requests->torchvision) (2.0.4)\n",
      "Requirement already satisfied: urllib3<1.27,>=1.21.1 in c:\\users\\anne\\anaconda3\\lib\\site-packages (from requests->torchvision) (1.26.7)\n",
      "Requirement already satisfied: idna<4,>=2.5 in c:\\users\\anne\\anaconda3\\lib\\site-packages (from requests->torchvision) (3.2)\n",
      "time: 3.25 s (started: 2022-07-18 17:00:04 -07:00)\n"
     ]
    }
   ],
   "source": [
    "!pip install torchvision"
   ]
  },
  {
   "cell_type": "code",
   "execution_count": 3,
   "metadata": {
    "execution": {
     "iopub.execute_input": "2021-09-06T08:32:53.473359Z",
     "iopub.status.busy": "2021-09-06T08:32:53.473085Z",
     "iopub.status.idle": "2021-09-06T08:32:54.324547Z",
     "shell.execute_reply": "2021-09-06T08:32:54.322801Z",
     "shell.execute_reply.started": "2021-09-06T08:32:53.473330Z"
    },
    "id": "PeoZuzGnMqDX",
    "outputId": "d5a4f903-3458-4697-f98f-1a1aa4f72653"
   },
   "outputs": [
    {
     "name": "stdout",
     "output_type": "stream",
     "text": [
      "time: 3.25 s (started: 2022-07-18 17:00:07 -07:00)\n"
     ]
    }
   ],
   "source": [
    "import os\n",
    "import matplotlib.pyplot as plt\n",
    "import pandas as pd\n",
    "import numpy as np\n",
    "from PIL import Image\n",
    "from tqdm import tqdm\n",
    "from tqdm.notebook import tqdm\n",
    "import seaborn as sns\n",
    "import random\n",
    "\n",
    "\n",
    "from sklearn.metrics import confusion_matrix\n",
    "from sklearn import model_selection\n",
    "from sklearn.model_selection import train_test_split\n",
    "\n",
    "\n",
    "import torch\n",
    "import torchvision.models as models\n",
    "import torch.nn as nn\n",
    "from torch.utils.data import DataLoader, Dataset, random_split\n",
    "from torchvision.transforms import transforms\n",
    "from torchvision.utils import make_grid\n",
    "import torch.nn.functional as F\n",
    "\n",
    "import matplotlib\n",
    "matplotlib.rcParams['axes.grid'] = False"
   ]
  },
  {
   "cell_type": "markdown",
   "metadata": {
    "id": "K-P8BijwRxi4"
   },
   "source": [
    "## Config"
   ]
  },
  {
   "cell_type": "code",
   "execution_count": 4,
   "metadata": {
    "execution": {
     "iopub.execute_input": "2021-09-06T08:32:54.326401Z",
     "iopub.status.busy": "2021-09-06T08:32:54.326133Z",
     "iopub.status.idle": "2021-09-06T08:32:54.338144Z",
     "shell.execute_reply": "2021-09-06T08:32:54.337112Z",
     "shell.execute_reply.started": "2021-09-06T08:32:54.326375Z"
    },
    "id": "ROWWNdbwRf-m",
    "outputId": "cd84a4ae-6142-44d5-fc45-468fbe7a865b"
   },
   "outputs": [
    {
     "name": "stdout",
     "output_type": "stream",
     "text": [
      "time: 0 ns (started: 2022-07-18 17:00:11 -07:00)\n"
     ]
    }
   ],
   "source": [
    "ROOT_PATH = './'\n",
    "BASE_PATH = '../data/EuroSat_RGB/2750/'\n",
    "FULL_DATA_DF = os.path.join(ROOT_PATH, 'dataset_label.csv')\n",
    "\n",
    "IDX_CLASS_LABELS = {\n",
    "    0: 'AnnualCrop',\n",
    "    1: 'Forest', \n",
    "    2: 'HerbaceousVegetation',\n",
    "    3: 'Highway',\n",
    "    4: 'Industrial',\n",
    "    5: 'Pasture',\n",
    "    6: 'PermanentCrop',\n",
    "    7: 'Residential',\n",
    "    8: 'River',\n",
    "    9: 'SeaLake'\n",
    "}\n",
    "CLASSES = ['AnnualCrop', 'Forest', 'HerbaceousVegetation', 'Highway', 'Industrial', 'Pasture','PermanentCrop','Residential','River', 'SeaLake']\n",
    "CLASS_IDX_LABELS = dict()\n",
    "for key, val in IDX_CLASS_LABELS.items():\n",
    "  CLASS_IDX_LABELS[val] = key\n",
    "\n",
    "NUM_CLASSES = len(IDX_CLASS_LABELS.items())\n",
    "torch.manual_seed(1021)\n",
    "TEST_SIZE = 0.25\n",
    "\n",
    "approach = \"Resnet\""
   ]
  },
  {
   "cell_type": "markdown",
   "metadata": {
    "id": "SXfpIeszVnIH"
   },
   "source": [
    "## Utils"
   ]
  },
  {
   "cell_type": "code",
   "execution_count": 5,
   "metadata": {
    "execution": {
     "iopub.execute_input": "2021-09-06T08:32:54.340099Z",
     "iopub.status.busy": "2021-09-06T08:32:54.339582Z",
     "iopub.status.idle": "2021-09-06T08:32:54.347962Z",
     "shell.execute_reply": "2021-09-06T08:32:54.347083Z",
     "shell.execute_reply.started": "2021-09-06T08:32:54.340064Z"
    },
    "id": "GzZU-zxpV4Jv",
    "outputId": "84101384-9c61-4b6e-ff8c-af2950ef505b"
   },
   "outputs": [
    {
     "name": "stdout",
     "output_type": "stream",
     "text": [
      "time: 0 ns (started: 2022-07-18 17:00:11 -07:00)\n"
     ]
    }
   ],
   "source": [
    "## Give idx of each class name\n",
    "def encode_label(label):\n",
    "    idx = CLASS_IDX_LABELS[label] \n",
    "    return idx\n",
    "\n",
    "## Take in idx and return the class name\n",
    "def decode_target(target, text_labels=True):\n",
    "    result = []\n",
    "    if text_labels:\n",
    "        return IDX_CLASS_LABELS[target]\n",
    "    else:\n",
    "        return target\n",
    "\n",
    "## Show batches of images\n",
    "def show_batch(dl):\n",
    "    for images, labels in dl:\n",
    "        fig, ax = plt.subplots(figsize=(16, 8))\n",
    "        ax.set_xticks([]); ax.set_yticks([])\n",
    "        ax.imshow(make_grid(images, nrow=16).permute(1, 2, 0))\n",
    "        break"
   ]
  },
  {
   "cell_type": "code",
   "execution_count": 6,
   "metadata": {
    "execution": {
     "iopub.execute_input": "2021-09-06T08:32:54.349930Z",
     "iopub.status.busy": "2021-09-06T08:32:54.349261Z",
     "iopub.status.idle": "2021-09-06T08:32:54.362893Z",
     "shell.execute_reply": "2021-09-06T08:32:54.361697Z",
     "shell.execute_reply.started": "2021-09-06T08:32:54.349892Z"
    },
    "id": "L-ZkBdO5VQ0P",
    "outputId": "71216fed-d20f-4f43-e425-5fb6030ac1ab"
   },
   "outputs": [
    {
     "name": "stdout",
     "output_type": "stream",
     "text": [
      "1\n",
      "Forest\n",
      "HerbaceousVegetation\n",
      "time: 0 ns (started: 2022-07-18 17:00:11 -07:00)\n"
     ]
    }
   ],
   "source": [
    "## Example for decoding and encoding\n",
    "print(encode_label('Forest'))\n",
    "print(decode_target(1))\n",
    "print(decode_target(2, text_labels=True))"
   ]
  },
  {
   "cell_type": "markdown",
   "metadata": {
    "id": "Q5wPFaZiZOOY"
   },
   "source": [
    "## Pre-Processing data folders to train and test\n",
    "Run this code cells only if you don't have the required dataframe"
   ]
  },
  {
   "cell_type": "code",
   "execution_count": 7,
   "metadata": {
    "execution": {
     "iopub.execute_input": "2021-09-06T08:32:54.365033Z",
     "iopub.status.busy": "2021-09-06T08:32:54.364456Z",
     "iopub.status.idle": "2021-09-06T08:32:54.386283Z",
     "shell.execute_reply": "2021-09-06T08:32:54.385429Z",
     "shell.execute_reply.started": "2021-09-06T08:32:54.364995Z"
    },
    "id": "MEPwz31nZRxF",
    "outputId": "96cbefd7-83a0-48f4-cf7a-7cf327d44f31"
   },
   "outputs": [
    {
     "name": "stdout",
     "output_type": "stream",
     "text": [
      "Total number of images in the dataset: ['AnnualCrop', 'Forest', 'HerbaceousVegetation', 'Highway', 'Industrial', 'Pasture', 'PermanentCrop', 'Residential', 'River', 'SeaLake']\n",
      "time: 16 ms (started: 2022-07-18 17:00:11 -07:00)\n"
     ]
    }
   ],
   "source": [
    "print(f\"Total number of images in the dataset: {os.listdir(BASE_PATH)}\")"
   ]
  },
  {
   "cell_type": "code",
   "execution_count": 8,
   "metadata": {
    "execution": {
     "iopub.execute_input": "2021-09-06T08:32:54.387796Z",
     "iopub.status.busy": "2021-09-06T08:32:54.387447Z",
     "iopub.status.idle": "2021-09-06T08:34:06.605600Z",
     "shell.execute_reply": "2021-09-06T08:34:06.604701Z",
     "shell.execute_reply.started": "2021-09-06T08:32:54.387760Z"
    },
    "id": "mYP-kgYIfFwv",
    "outputId": "7648ccfa-9941-475b-8087-76cd3c4b586e"
   },
   "outputs": [
    {
     "name": "stdout",
     "output_type": "stream",
     "text": [
      "Empty DataFrame\n",
      "Columns: [image_id, label]\n",
      "Index: []\n",
      "../data/EuroSat_RGB/2750/\n",
      "Processing label: AnnualCrop\n",
      "Processing label: Forest\n",
      "Processing label: HerbaceousVegetation\n",
      "Processing label: Highway\n",
      "Processing label: Industrial\n",
      "Processing label: Pasture\n",
      "Processing label: PermanentCrop\n",
      "Processing label: Residential\n",
      "Processing label: River\n",
      "Processing label: SeaLake\n",
      "AnnualCrop: 3000\n",
      "Forest: 3000\n",
      "HerbaceousVegetation: 3000\n",
      "Highway: 2500\n",
      "Industrial: 2500\n",
      "Pasture: 2000\n",
      "PermanentCrop: 2500\n",
      "Residential: 3000\n",
      "River: 2500\n",
      "SeaLake: 3000\n",
      "Total: 27000\n",
      "time: 35.8 s (started: 2022-07-18 17:00:11 -07:00)\n"
     ]
    }
   ],
   "source": [
    "def read_data(data_directory = \"data/\",label_filter=[]):\n",
    "    \"\"\"\n",
    "    Reads the data from the files, creates labels by file name\n",
    "\n",
    "    Parameters: \n",
    "        data_dir (string): The name of a directory in which image data is located\n",
    "        label_filters (list or array): Data labels to load, should match sub-folder names\n",
    "                                     - default load all subdirectories\n",
    "        \n",
    "    Output: \n",
    "        Tupel of lists (images, labels) where the former (images) is a list of matrix representations of the \n",
    "        scaled image data and the latter (labels) is a list of strings of the corresponding label of each \n",
    "        entry in the former (images) based on the sub-folder the image was loaded from. \n",
    "    \"\"\"\n",
    "    images = []\n",
    "    labels = []\n",
    "    loaded = {}\n",
    "    \n",
    "    df = pd.DataFrame(columns = ['image_id', 'label'])\n",
    "    print(df)\n",
    "    \n",
    "    filter_labels = ( len(label_filter) >0) # if we didn't pass in anything in the filter read everything\n",
    "\n",
    "    #Crawl the data directory files and sub-directories...\n",
    "        \n",
    "    print(data_directory)\n",
    "    for dir_name, sub_dir_list, file_list in os.walk(data_directory):\n",
    "\n",
    "            #Ignore anything in the actual directory itself (all images are in the sub-directories).\n",
    "            if dir_name == data_directory:\n",
    "                continue\n",
    "\n",
    "            #The label will match the sub-folder name (root data folder ignored above.)\n",
    "            label = os.path.basename(dir_name)\n",
    "            \n",
    "            if not filter_labels and not label in label_filter:\n",
    "                label_filter.append(label)\n",
    "            \n",
    "            if label in label_filter: # don't process directory if not in filter\n",
    "                  \n",
    "                print(f'Processing label: {label}')\n",
    "\n",
    "                for file_name in file_list:\n",
    "\n",
    "\n",
    "                    #Add label to loaded file dictinoary if it's not there already\n",
    "                    #(To keep track of how may files of this label have been loaded.)\n",
    "                    if label not in loaded: \n",
    "                         loaded[label] = 0\n",
    "\n",
    "                    #Start actual loading process.\n",
    "                    file_path = os.path.join(dir_name, file_name)\n",
    "\n",
    "                    df =df.append({'image_id': file_path, 'label' : label},ignore_index=True)\n",
    "                    # open in with structure to avoid memory leaks\n",
    "                    #with Image.open(file_path) as f:\n",
    "                        # copy impage into np array\n",
    "                     #   image = np.array(f)\n",
    "\n",
    "                        # append to output\n",
    "                      #  images.append(image)\n",
    "\n",
    "                        # set label to be the index of the label string in the label_filter list\n",
    "                       # label_index = label_filter.index(label)\n",
    "                        #labels.append(label_index)\n",
    "\n",
    "                    loaded[label] += 1 \n",
    "\n",
    "    #Print a summary of what's been loaded by label.\n",
    "    for label in loaded: \n",
    "        print('%s: %s' % (label, loaded[label]))\n",
    "    print('Total: %d' % sum(list(loaded.values())))\n",
    "\n",
    "    return(df)\n",
    "\n",
    "from os import walk\n",
    "\n",
    "i = 0\n",
    "DATA_DF = read_data(BASE_PATH)"
   ]
  },
  {
   "cell_type": "code",
   "execution_count": 9,
   "metadata": {
    "execution": {
     "iopub.execute_input": "2021-09-06T08:32:54.387796Z",
     "iopub.status.busy": "2021-09-06T08:32:54.387447Z",
     "iopub.status.idle": "2021-09-06T08:34:06.605600Z",
     "shell.execute_reply": "2021-09-06T08:34:06.604701Z",
     "shell.execute_reply.started": "2021-09-06T08:32:54.387760Z"
    },
    "id": "mYP-kgYIfFwv",
    "outputId": "7648ccfa-9941-475b-8087-76cd3c4b586e"
   },
   "outputs": [
    {
     "name": "stdout",
     "output_type": "stream",
     "text": [
      "./dataset_label.csv\n"
     ]
    },
    {
     "data": {
      "text/html": [
       "<div>\n",
       "<style scoped>\n",
       "    .dataframe tbody tr th:only-of-type {\n",
       "        vertical-align: middle;\n",
       "    }\n",
       "\n",
       "    .dataframe tbody tr th {\n",
       "        vertical-align: top;\n",
       "    }\n",
       "\n",
       "    .dataframe thead th {\n",
       "        text-align: right;\n",
       "    }\n",
       "</style>\n",
       "<table border=\"1\" class=\"dataframe\">\n",
       "  <thead>\n",
       "    <tr style=\"text-align: right;\">\n",
       "      <th></th>\n",
       "      <th>image_id</th>\n",
       "      <th>label</th>\n",
       "    </tr>\n",
       "  </thead>\n",
       "  <tbody>\n",
       "    <tr>\n",
       "      <th>0</th>\n",
       "      <td>../data/EuroSat_RGB/2750/AnnualCrop\\AnnualCrop...</td>\n",
       "      <td>AnnualCrop</td>\n",
       "    </tr>\n",
       "    <tr>\n",
       "      <th>1</th>\n",
       "      <td>../data/EuroSat_RGB/2750/AnnualCrop\\AnnualCrop...</td>\n",
       "      <td>AnnualCrop</td>\n",
       "    </tr>\n",
       "    <tr>\n",
       "      <th>2</th>\n",
       "      <td>../data/EuroSat_RGB/2750/AnnualCrop\\AnnualCrop...</td>\n",
       "      <td>AnnualCrop</td>\n",
       "    </tr>\n",
       "    <tr>\n",
       "      <th>3</th>\n",
       "      <td>../data/EuroSat_RGB/2750/AnnualCrop\\AnnualCrop...</td>\n",
       "      <td>AnnualCrop</td>\n",
       "    </tr>\n",
       "    <tr>\n",
       "      <th>4</th>\n",
       "      <td>../data/EuroSat_RGB/2750/AnnualCrop\\AnnualCrop...</td>\n",
       "      <td>AnnualCrop</td>\n",
       "    </tr>\n",
       "  </tbody>\n",
       "</table>\n",
       "</div>"
      ],
      "text/plain": [
       "                                            image_id       label\n",
       "0  ../data/EuroSat_RGB/2750/AnnualCrop\\AnnualCrop...  AnnualCrop\n",
       "1  ../data/EuroSat_RGB/2750/AnnualCrop\\AnnualCrop...  AnnualCrop\n",
       "2  ../data/EuroSat_RGB/2750/AnnualCrop\\AnnualCrop...  AnnualCrop\n",
       "3  ../data/EuroSat_RGB/2750/AnnualCrop\\AnnualCrop...  AnnualCrop\n",
       "4  ../data/EuroSat_RGB/2750/AnnualCrop\\AnnualCrop...  AnnualCrop"
      ]
     },
     "execution_count": 9,
     "metadata": {},
     "output_type": "execute_result"
    },
    {
     "name": "stdout",
     "output_type": "stream",
     "text": [
      "time: 62 ms (started: 2022-07-18 17:00:47 -07:00)\n"
     ]
    }
   ],
   "source": [
    "# for (dirpath, dirname, filename) in walk(BASE_PATH):\n",
    "#   for each_file in filename:\n",
    "\n",
    "#for each_file in os.listdir(BASE_PATH):\n",
    "#    DATA_DF.loc[i] = [each_file, each_file.split('_')[0]]\n",
    "#    i += 1\n",
    "#print(i)\n",
    "\n",
    "print(FULL_DATA_DF)\n",
    "DATA_DF.to_csv(FULL_DATA_DF, index=False)\n",
    "DATA_DF.head()"
   ]
  },
  {
   "cell_type": "code",
   "execution_count": 10,
   "metadata": {
    "execution": {
     "iopub.execute_input": "2021-09-06T08:34:06.608969Z",
     "iopub.status.busy": "2021-09-06T08:34:06.608705Z",
     "iopub.status.idle": "2021-09-06T08:34:06.620810Z",
     "shell.execute_reply": "2021-09-06T08:34:06.619563Z",
     "shell.execute_reply.started": "2021-09-06T08:34:06.608943Z"
    },
    "id": "ni-cUMtdjfTb",
    "outputId": "cb6c9527-7ced-4966-c16e-e41a3193314d"
   },
   "outputs": [
    {
     "name": "stdout",
     "output_type": "stream",
     "text": [
      "Uniques values for labels are...\n",
      "1 : AnnualCrop\n",
      "2 : Forest\n",
      "3 : HerbaceousVegetation\n",
      "4 : Highway\n",
      "5 : Industrial\n",
      "6 : Pasture\n",
      "7 : PermanentCrop\n",
      "8 : Residential\n",
      "9 : River\n",
      "10 : SeaLake\n",
      "time: 0 ns (started: 2022-07-18 17:00:47 -07:00)\n"
     ]
    }
   ],
   "source": [
    "print(f\"Uniques values for labels are...\")\n",
    "for ind, each in enumerate(DATA_DF.label.unique()):\n",
    "  print(ind+1, \":\", each)"
   ]
  },
  {
   "cell_type": "markdown",
   "metadata": {
    "id": "ezKUB_xtxZeM"
   },
   "source": [
    "## Processing data folders to train and test\n"
   ]
  },
  {
   "cell_type": "code",
   "execution_count": 11,
   "metadata": {
    "execution": {
     "iopub.execute_input": "2021-09-06T08:34:06.623852Z",
     "iopub.status.busy": "2021-09-06T08:34:06.623412Z",
     "iopub.status.idle": "2021-09-06T08:34:06.655668Z",
     "shell.execute_reply": "2021-09-06T08:34:06.654719Z",
     "shell.execute_reply.started": "2021-09-06T08:34:06.623813Z"
    },
    "id": "k3gWsPSLoXfW",
    "outputId": "ad3c4f0b-7b51-468d-c4f8-d7b04691f0dc"
   },
   "outputs": [
    {
     "name": "stdout",
     "output_type": "stream",
     "text": [
      "(27000, 2)\n",
      "time: 46 ms (started: 2022-07-18 17:00:47 -07:00)\n"
     ]
    }
   ],
   "source": [
    "DATA_DF = pd.read_csv(FULL_DATA_DF)\n",
    "print(DATA_DF.shape)\n",
    "DATA_DF = DATA_DF.sample(frac = 1, random_state=48) \n",
    "TRAIN_DF = DATA_DF[:-int(len(DATA_DF)*TEST_SIZE)]\n",
    "TEST_DF = DATA_DF[-int(len(DATA_DF)*TEST_SIZE) :]"
   ]
  },
  {
   "cell_type": "code",
   "execution_count": 12,
   "metadata": {
    "execution": {
     "iopub.execute_input": "2021-09-06T08:34:06.657390Z",
     "iopub.status.busy": "2021-09-06T08:34:06.657036Z",
     "iopub.status.idle": "2021-09-06T08:34:06.669671Z",
     "shell.execute_reply": "2021-09-06T08:34:06.668676Z",
     "shell.execute_reply.started": "2021-09-06T08:34:06.657344Z"
    },
    "id": "ZbE1gr-wj5bp",
    "outputId": "5eeae50a-b004-4daf-bb1d-33eabde73e9b"
   },
   "outputs": [
    {
     "data": {
      "text/html": [
       "<div>\n",
       "<style scoped>\n",
       "    .dataframe tbody tr th:only-of-type {\n",
       "        vertical-align: middle;\n",
       "    }\n",
       "\n",
       "    .dataframe tbody tr th {\n",
       "        vertical-align: top;\n",
       "    }\n",
       "\n",
       "    .dataframe thead th {\n",
       "        text-align: right;\n",
       "    }\n",
       "</style>\n",
       "<table border=\"1\" class=\"dataframe\">\n",
       "  <thead>\n",
       "    <tr style=\"text-align: right;\">\n",
       "      <th></th>\n",
       "      <th>index</th>\n",
       "      <th>image_id</th>\n",
       "      <th>label</th>\n",
       "    </tr>\n",
       "  </thead>\n",
       "  <tbody>\n",
       "    <tr>\n",
       "      <th>0</th>\n",
       "      <td>19127</td>\n",
       "      <td>../data/EuroSat_RGB/2750/Residential\\Residenti...</td>\n",
       "      <td>Residential</td>\n",
       "    </tr>\n",
       "    <tr>\n",
       "      <th>1</th>\n",
       "      <td>3197</td>\n",
       "      <td>../data/EuroSat_RGB/2750/Forest\\Forest_1176.jpg</td>\n",
       "      <td>Forest</td>\n",
       "    </tr>\n",
       "    <tr>\n",
       "      <th>2</th>\n",
       "      <td>24557</td>\n",
       "      <td>../data/EuroSat_RGB/2750/SeaLake\\SeaLake_150.jpg</td>\n",
       "      <td>SeaLake</td>\n",
       "    </tr>\n",
       "    <tr>\n",
       "      <th>3</th>\n",
       "      <td>17042</td>\n",
       "      <td>../data/EuroSat_RGB/2750/PermanentCrop\\Permane...</td>\n",
       "      <td>PermanentCrop</td>\n",
       "    </tr>\n",
       "    <tr>\n",
       "      <th>4</th>\n",
       "      <td>3697</td>\n",
       "      <td>../data/EuroSat_RGB/2750/Forest\\Forest_1626.jpg</td>\n",
       "      <td>Forest</td>\n",
       "    </tr>\n",
       "  </tbody>\n",
       "</table>\n",
       "</div>"
      ],
      "text/plain": [
       "   index                                           image_id          label\n",
       "0  19127  ../data/EuroSat_RGB/2750/Residential\\Residenti...    Residential\n",
       "1   3197    ../data/EuroSat_RGB/2750/Forest\\Forest_1176.jpg         Forest\n",
       "2  24557   ../data/EuroSat_RGB/2750/SeaLake\\SeaLake_150.jpg        SeaLake\n",
       "3  17042  ../data/EuroSat_RGB/2750/PermanentCrop\\Permane...  PermanentCrop\n",
       "4   3697    ../data/EuroSat_RGB/2750/Forest\\Forest_1626.jpg         Forest"
      ]
     },
     "execution_count": 12,
     "metadata": {},
     "output_type": "execute_result"
    },
    {
     "name": "stdout",
     "output_type": "stream",
     "text": [
      "time: 0 ns (started: 2022-07-18 17:00:47 -07:00)\n"
     ]
    }
   ],
   "source": [
    "TRAIN_DF.reset_index(inplace = True) \n",
    "TRAIN_DF.head()"
   ]
  },
  {
   "cell_type": "code",
   "execution_count": 13,
   "metadata": {
    "execution": {
     "iopub.execute_input": "2021-09-06T08:34:06.672097Z",
     "iopub.status.busy": "2021-09-06T08:34:06.671296Z",
     "iopub.status.idle": "2021-09-06T08:34:06.687489Z",
     "shell.execute_reply": "2021-09-06T08:34:06.686680Z",
     "shell.execute_reply.started": "2021-09-06T08:34:06.672058Z"
    },
    "id": "Wl0zLSL5j5en",
    "outputId": "9afd846d-bcb9-4343-a233-970480d15c80"
   },
   "outputs": [
    {
     "data": {
      "text/html": [
       "<div>\n",
       "<style scoped>\n",
       "    .dataframe tbody tr th:only-of-type {\n",
       "        vertical-align: middle;\n",
       "    }\n",
       "\n",
       "    .dataframe tbody tr th {\n",
       "        vertical-align: top;\n",
       "    }\n",
       "\n",
       "    .dataframe thead th {\n",
       "        text-align: right;\n",
       "    }\n",
       "</style>\n",
       "<table border=\"1\" class=\"dataframe\">\n",
       "  <thead>\n",
       "    <tr style=\"text-align: right;\">\n",
       "      <th></th>\n",
       "      <th>index</th>\n",
       "      <th>image_id</th>\n",
       "      <th>label</th>\n",
       "    </tr>\n",
       "  </thead>\n",
       "  <tbody>\n",
       "    <tr>\n",
       "      <th>0</th>\n",
       "      <td>6839</td>\n",
       "      <td>../data/EuroSat_RGB/2750/HerbaceousVegetation\\...</td>\n",
       "      <td>HerbaceousVegetation</td>\n",
       "    </tr>\n",
       "    <tr>\n",
       "      <th>1</th>\n",
       "      <td>14751</td>\n",
       "      <td>../data/EuroSat_RGB/2750/Pasture\\Pasture_1675.jpg</td>\n",
       "      <td>Pasture</td>\n",
       "    </tr>\n",
       "    <tr>\n",
       "      <th>2</th>\n",
       "      <td>8651</td>\n",
       "      <td>../data/EuroSat_RGB/2750/HerbaceousVegetation\\...</td>\n",
       "      <td>HerbaceousVegetation</td>\n",
       "    </tr>\n",
       "    <tr>\n",
       "      <th>3</th>\n",
       "      <td>17692</td>\n",
       "      <td>../data/EuroSat_RGB/2750/PermanentCrop\\Permane...</td>\n",
       "      <td>PermanentCrop</td>\n",
       "    </tr>\n",
       "    <tr>\n",
       "      <th>4</th>\n",
       "      <td>19476</td>\n",
       "      <td>../data/EuroSat_RGB/2750/Residential\\Residenti...</td>\n",
       "      <td>Residential</td>\n",
       "    </tr>\n",
       "  </tbody>\n",
       "</table>\n",
       "</div>"
      ],
      "text/plain": [
       "   index                                           image_id  \\\n",
       "0   6839  ../data/EuroSat_RGB/2750/HerbaceousVegetation\\...   \n",
       "1  14751  ../data/EuroSat_RGB/2750/Pasture\\Pasture_1675.jpg   \n",
       "2   8651  ../data/EuroSat_RGB/2750/HerbaceousVegetation\\...   \n",
       "3  17692  ../data/EuroSat_RGB/2750/PermanentCrop\\Permane...   \n",
       "4  19476  ../data/EuroSat_RGB/2750/Residential\\Residenti...   \n",
       "\n",
       "                  label  \n",
       "0  HerbaceousVegetation  \n",
       "1               Pasture  \n",
       "2  HerbaceousVegetation  \n",
       "3         PermanentCrop  \n",
       "4           Residential  "
      ]
     },
     "execution_count": 13,
     "metadata": {},
     "output_type": "execute_result"
    },
    {
     "name": "stdout",
     "output_type": "stream",
     "text": [
      "time: 0 ns (started: 2022-07-18 17:00:47 -07:00)\n"
     ]
    }
   ],
   "source": [
    "TEST_DF.reset_index(inplace = True) \n",
    "TEST_DF.head()"
   ]
  },
  {
   "cell_type": "code",
   "execution_count": 14,
   "metadata": {
    "execution": {
     "iopub.execute_input": "2021-09-06T08:34:06.689160Z",
     "iopub.status.busy": "2021-09-06T08:34:06.688651Z",
     "iopub.status.idle": "2021-09-06T08:34:06.695778Z",
     "shell.execute_reply": "2021-09-06T08:34:06.694924Z",
     "shell.execute_reply.started": "2021-09-06T08:34:06.689120Z"
    },
    "id": "3o5pPRbHyz0z",
    "outputId": "13c828e3-c882-4968-ece9-a3bfdacf7b5b"
   },
   "outputs": [
    {
     "data": {
      "text/plain": [
       "(20250, 6750)"
      ]
     },
     "execution_count": 14,
     "metadata": {},
     "output_type": "execute_result"
    },
    {
     "name": "stdout",
     "output_type": "stream",
     "text": [
      "time: 0 ns (started: 2022-07-18 17:00:47 -07:00)\n"
     ]
    }
   ],
   "source": [
    "len(TRAIN_DF.index), len(TEST_DF.index)"
   ]
  },
  {
   "cell_type": "markdown",
   "metadata": {
    "id": "MBjklv4PW2gz"
   },
   "source": [
    "## Creating Dataset and Dataloaders\n",
    "\n",
    "Now we will Create custom dataset by extending pytorch Dataset class. We also add provision for adding transformers for data augmentation."
   ]
  },
  {
   "cell_type": "code",
   "execution_count": null,
   "metadata": {
    "execution": {
     "iopub.execute_input": "2021-09-06T08:34:06.698019Z",
     "iopub.status.busy": "2021-09-06T08:34:06.697346Z",
     "iopub.status.idle": "2021-09-06T08:34:06.708740Z",
     "shell.execute_reply": "2021-09-06T08:34:06.707844Z",
     "shell.execute_reply.started": "2021-09-06T08:34:06.697965Z"
    },
    "id": "26XiMqvvWSkV",
    "outputId": "31e408cd-1e05-405c-a359-7b6ada4caa0c"
   },
   "outputs": [],
   "source": [
    "class EuroSAT(Dataset):\n",
    "    def __init__(self, df, dirc, transform=None):\n",
    "        self.train_dir = dirc\n",
    "        self.train_df = df\n",
    "        self.transform = transform\n",
    "        \n",
    "    def __len__(self):\n",
    "        return len(self.train_df)\n",
    "    \n",
    "    def __getitem__(self, idx):\n",
    "        row = self.train_df.loc[idx]\n",
    "        img_id, label = row['image_id'], row['label']\n",
    "        img = Image.open(img_id)\n",
    "        if self.transform:\n",
    "            img = self.transform(img)\n",
    "        return img, encode_label(label)"
   ]
  },
  {
   "cell_type": "markdown",
   "metadata": {
    "id": "0FPnAaTjkPeY"
   },
   "source": [
    "### Transformations and Datasets"
   ]
  },
  {
   "cell_type": "code",
   "execution_count": 16,
   "metadata": {
    "execution": {
     "iopub.execute_input": "2021-09-06T08:34:06.711706Z",
     "iopub.status.busy": "2021-09-06T08:34:06.710581Z",
     "iopub.status.idle": "2021-09-06T08:34:06.720700Z",
     "shell.execute_reply": "2021-09-06T08:34:06.719232Z",
     "shell.execute_reply.started": "2021-09-06T08:34:06.711661Z"
    },
    "id": "B0FOgtFikF3f",
    "outputId": "c5d05bf2-7fbe-4305-c8ec-5042976f8035"
   },
   "outputs": [
    {
     "name": "stdout",
     "output_type": "stream",
     "text": [
      "time: 0 ns (started: 2022-07-18 17:00:47 -07:00)\n"
     ]
    }
   ],
   "source": [
    "## Dataset and transformations\n",
    "train_data_transform = transforms.Compose([\n",
    "                                transforms.Resize(size=(224, 224)),\n",
    "#                                 transforms.RandomHorizontalFlip(p=0.5),\n",
    "#                                 transforms.RandomRotation(20),\n",
    "#                                 transforms.RandomVerticalFlip(p=0.5),\n",
    "                                transforms.ToTensor(),\n",
    "                                ])\n",
    "\n",
    "test_data_transform = transforms.Compose([\n",
    "                                transforms.Resize(size=(224, 224)),\n",
    "                                transforms.ToTensor(),\n",
    "                                ])"
   ]
  },
  {
   "cell_type": "code",
   "execution_count": 17,
   "metadata": {
    "execution": {
     "iopub.execute_input": "2021-09-06T08:34:06.723423Z",
     "iopub.status.busy": "2021-09-06T08:34:06.723024Z",
     "iopub.status.idle": "2021-09-06T08:34:06.729346Z",
     "shell.execute_reply": "2021-09-06T08:34:06.728442Z",
     "shell.execute_reply.started": "2021-09-06T08:34:06.723348Z"
    },
    "id": "ts4SYyrrns5i",
    "outputId": "d792b533-e2b1-4dd1-df9a-b3a254ba1016"
   },
   "outputs": [
    {
     "name": "stdout",
     "output_type": "stream",
     "text": [
      "20250 6750\n",
      "time: 0 ns (started: 2022-07-18 17:00:47 -07:00)\n"
     ]
    }
   ],
   "source": [
    "train_ds = EuroSAT(TRAIN_DF, BASE_PATH, train_data_transform)\n",
    "test_ds = EuroSAT(TEST_DF, BASE_PATH, test_data_transform)\n",
    "print(len(train_ds), len(test_ds))"
   ]
  },
  {
   "cell_type": "code",
   "execution_count": null,
   "metadata": {
    "execution": {
     "iopub.execute_input": "2021-09-06T08:34:06.731503Z",
     "iopub.status.busy": "2021-09-06T08:34:06.730862Z",
     "iopub.status.idle": "2021-09-06T08:34:10.293682Z",
     "shell.execute_reply": "2021-09-06T08:34:10.292844Z",
     "shell.execute_reply.started": "2021-09-06T08:34:06.731463Z"
    },
    "id": "1tnMa3_gkF_h",
    "outputId": "1ebfe15b-9ecb-4bb1-c732-7582f22f9352"
   },
   "outputs": [],
   "source": [
    "## Data loaders and showing batch of data\n",
    "batch_size = 64\n",
    "train_dl = DataLoader(train_ds, batch_size, shuffle=True, num_workers=2, pin_memory=True)\n",
    "test_dl = DataLoader(test_ds, batch_size, shuffle=False, num_workers=2, pin_memory=True)\n",
    "show_batch(train_dl)"
   ]
  },
  {
   "cell_type": "markdown",
   "metadata": {
    "id": "KJgN9N71kGCF"
   },
   "source": [
    "## Model"
   ]
  },
  {
   "cell_type": "code",
   "execution_count": null,
   "metadata": {
    "execution": {
     "iopub.execute_input": "2021-09-06T08:34:10.295221Z",
     "iopub.status.busy": "2021-09-06T08:34:10.294876Z",
     "iopub.status.idle": "2021-09-06T08:34:10.309335Z",
     "shell.execute_reply": "2021-09-06T08:34:10.308421Z",
     "shell.execute_reply.started": "2021-09-06T08:34:10.295181Z"
    },
    "id": "QFies6eQkGF5",
    "outputId": "35f786d8-f002-42e0-918b-f997444cc6a5"
   },
   "outputs": [],
   "source": [
    "def accuracy(outputs, labels):\n",
    "    _, preds = torch.max(outputs, dim = 1)\n",
    "    return torch.tensor(torch.sum(preds==labels).item() / len(preds))\n",
    "\n",
    "class MulticlassClassifierBase(nn.Module):\n",
    "    def training_step(self, batch):\n",
    "        img, label = batch\n",
    "        out = self(img)\n",
    "        loss = criterion(out, label)\n",
    "        accu = accuracy(out, label)\n",
    "        return accu ,loss\n",
    "\n",
    "    def validation_step(self, batch):\n",
    "        img, label = batch\n",
    "        out = self(img)\n",
    "        loss = criterion(out, label)\n",
    "        accu = accuracy(out, label)\n",
    "        return {\"val_loss\": loss.detach(), \"val_acc\": accu}\n",
    "    \n",
    "    def validation_epoch_ends(self, outputs):\n",
    "        batch_loss = [x['val_loss'] for x in outputs]\n",
    "        epoch_loss = torch.stack(batch_loss).mean()\n",
    "        batch_acc = [x['val_acc'] for x in outputs]\n",
    "        epoch_acc = torch.stack(batch_acc).mean()\n",
    "        return {\"val_loss\":epoch_loss.item(), \"val_acc\":epoch_acc.item()}\n",
    "    \n",
    "    def epoch_end(self, epoch, result):\n",
    "        print(\"Epoch [{}],train_accu: {:.4f}, learning_rate: {:.4f}, train_loss: {:.4f}, val_loss: {:.4f}, val_acc: {:.4f}\".format(\n",
    "            epoch,result['train_accu'], result['lrs'][-1], result['train_loss'], result['val_loss'], result['val_acc']))"
   ]
  },
  {
   "cell_type": "code",
   "execution_count": null,
   "metadata": {
    "execution": {
     "iopub.execute_input": "2021-09-06T08:34:10.311352Z",
     "iopub.status.busy": "2021-09-06T08:34:10.310746Z",
     "iopub.status.idle": "2021-09-06T08:34:10.323189Z",
     "shell.execute_reply": "2021-09-06T08:34:10.322242Z",
     "shell.execute_reply.started": "2021-09-06T08:34:10.311300Z"
    },
    "id": "9td8QTUmnO1W",
    "outputId": "6407796e-41e6-4a74-ae93-99018a5b64bd"
   },
   "outputs": [],
   "source": [
    "class LULC_Model(MulticlassClassifierBase):\n",
    "    def __init__(self):\n",
    "        super().__init__()\n",
    "        self.network = models.wide_resnet50_2(pretrained=True)\n",
    "        n_inputs = self.network.fc.in_features\n",
    "        self.network.fc = nn.Sequential(\n",
    "                              nn.Linear(n_inputs, 256),\n",
    "                              nn.ReLU(),\n",
    "                              nn.Dropout(0.5),\n",
    "                              nn.Linear(256, NUM_CLASSES),\n",
    "                              nn.LogSoftmax(dim=1)\n",
    "                                )\n",
    "    def forward(self, xb):\n",
    "        return self.network(xb)\n",
    "    \n",
    "    def freeze(self):\n",
    "        for param in self.network.parameters():\n",
    "            param.require_grad=False\n",
    "        for param in self.network.fc.parameters():\n",
    "            param.require_grad=True\n",
    "    def unfreeze(self):\n",
    "        for param in self.network.parameters():\n",
    "            param.require_grad=True"
   ]
  },
  {
   "cell_type": "code",
   "execution_count": null,
   "metadata": {
    "execution": {
     "iopub.execute_input": "2021-09-06T08:34:10.325082Z",
     "iopub.status.busy": "2021-09-06T08:34:10.324528Z",
     "iopub.status.idle": "2021-09-06T08:34:11.628533Z",
     "shell.execute_reply": "2021-09-06T08:34:11.627689Z",
     "shell.execute_reply.started": "2021-09-06T08:34:10.325045Z"
    },
    "id": "b-GfOlVIsw-f",
    "outputId": "048c2f50-75fc-4329-fcf0-5435d3e11d86"
   },
   "outputs": [],
   "source": [
    "model = LULC_Model()"
   ]
  },
  {
   "cell_type": "code",
   "execution_count": null,
   "metadata": {
    "execution": {
     "iopub.execute_input": "2021-09-06T08:34:11.630114Z",
     "iopub.status.busy": "2021-09-06T08:34:11.629768Z",
     "iopub.status.idle": "2021-09-06T08:34:39.163969Z",
     "shell.execute_reply": "2021-09-06T08:34:39.163044Z",
     "shell.execute_reply.started": "2021-09-06T08:34:11.630085Z"
    },
    "id": "4K4t7WT_sxBj",
    "outputId": "9515d308-81d3-4835-8034-607ae408c78e"
   },
   "outputs": [],
   "source": [
    "## Running through the data loader => Model => Output\n",
    "def try_batch(dl):\n",
    "    for images, labels in dl:  \n",
    "        print(images.shape)\n",
    "        out = model(images)\n",
    "        print(out.shape)\n",
    "        print(out[0])\n",
    "        break\n",
    "        \n",
    "try_batch(train_dl)"
   ]
  },
  {
   "cell_type": "markdown",
   "metadata": {
    "id": "fHSK5twXsxEg"
   },
   "source": [
    "## Training and Evaluating"
   ]
  },
  {
   "cell_type": "code",
   "execution_count": null,
   "metadata": {
    "execution": {
     "iopub.execute_input": "2021-09-06T08:34:39.165849Z",
     "iopub.status.busy": "2021-09-06T08:34:39.165502Z",
     "iopub.status.idle": "2021-09-06T08:34:39.184545Z",
     "shell.execute_reply": "2021-09-06T08:34:39.183361Z",
     "shell.execute_reply.started": "2021-09-06T08:34:39.165809Z"
    },
    "id": "JA3xFeIhuvX7",
    "outputId": "e4b52282-ea55-403d-816a-7ebcf791ba31"
   },
   "outputs": [],
   "source": [
    "@torch.no_grad()\n",
    "def evaluate(model, valid_loader):\n",
    "    model.eval()\n",
    "    outputs = [model.validation_step(batch) for batch in valid_loader]\n",
    "    return model.validation_epoch_ends(outputs)\n",
    "\n",
    "def get_lr(optimizer):\n",
    "    for param_group in optimizer.param_groups:\n",
    "        return param_group['lr']\n",
    "    \n",
    "def fit(epochs, max_lr,  model, train_loader, valid_loader, weight_decay=0,\\\n",
    "                grad_clip=None,opt_func=torch.optim.SGD, max_epochs_stop=3):\n",
    "  \n",
    "    history = []\n",
    "    valid_loss_min = np.Inf\n",
    "    valid_acc_max = 0\n",
    "    model_file_name = 'lulc.pth'\n",
    "    model_file_name2 = 'lulc_max_acc.pth'\n",
    "    epochs_no_improve =  0\n",
    "    optimizer = opt_func(model.parameters(), lr=max_lr, weight_decay=weight_decay)\n",
    "    scheduler = torch.optim.lr_scheduler.ReduceLROnPlateau(optimizer, 'min', patience=2, factor=0.1)\n",
    "                         \n",
    "    for epoch in range(epochs):\n",
    "        model.train()\n",
    "        train_loss = []\n",
    "        train_accu = []\n",
    "        lrs = []\n",
    "        for batch in tqdm(train_loader):\n",
    "            \n",
    "            accu, loss = model.training_step(batch)\n",
    "            train_loss.append(loss)\n",
    "            train_accu.append(accu)\n",
    "            loss.backward()\n",
    "            ## Gradient Clipping\n",
    "            if grad_clip:\n",
    "                nn.utils.clip_grad_value_(model.parameters(), grad_clip)\n",
    "            \n",
    "            optimizer.step()\n",
    "            optimizer.zero_grad()\n",
    "            \n",
    "            lrs.append(get_lr(optimizer))\n",
    "            \n",
    "            \n",
    "            \n",
    "        result = evaluate(model, valid_loader)\n",
    "        scheduler.step(result['val_loss'])\n",
    "        ########### Early Stopping ##############                                         \n",
    "        valid_loss = result['val_loss']\n",
    "        valid_acc = result['val_acc']\n",
    "        if valid_acc > valid_acc_max:\n",
    "            torch.save(model.state_dict(), model_file_name2)\n",
    "            valid_acc_max = valid_acc\n",
    "        if valid_loss<valid_loss_min:\n",
    "            torch.save(model.state_dict(), model_file_name)\n",
    "            valid_loss_min = valid_loss                                  \n",
    "            epochs_no_improve = 0          \n",
    "        else:\n",
    "            epochs_no_improve += 1\n",
    "            if epochs_no_improve > max_epochs_stop:\n",
    "                result[\"train_loss\"] = torch.stack(train_loss).mean().item()\n",
    "                result[\"train_accu\"] = torch.stack(train_accu).mean().item()\n",
    "                result[\"lrs\"] = lrs\n",
    "                model.epoch_end(epoch, result)\n",
    "                history.append(result)\n",
    "                print(\"Early Stopping............................\")\n",
    "                return history                                \n",
    "                                                 \n",
    "        result[\"train_loss\"] = torch.stack(train_loss).mean().item()\n",
    "        result[\"train_accu\"] = torch.stack(train_accu).mean().item()\n",
    "        result[\"lrs\"] = lrs\n",
    "        model.epoch_end(epoch, result)\n",
    "        history.append(result)\n",
    "    print(\"VAL LOSS MIN {}\".format(valid_loss_min))\n",
    "    print(\"VAL ACC MAX {}\".format(valid_acc_max))\n",
    "    return history"
   ]
  },
  {
   "cell_type": "markdown",
   "metadata": {
    "id": "_bFUezyPv_Va"
   },
   "source": [
    "## Initializing Device also Loading Data and Model to device¶\n"
   ]
  },
  {
   "cell_type": "code",
   "execution_count": null,
   "metadata": {
    "execution": {
     "iopub.execute_input": "2021-09-06T08:34:39.186580Z",
     "iopub.status.busy": "2021-09-06T08:34:39.186192Z",
     "iopub.status.idle": "2021-09-06T08:34:39.202511Z",
     "shell.execute_reply": "2021-09-06T08:34:39.201417Z",
     "shell.execute_reply.started": "2021-09-06T08:34:39.186543Z"
    },
    "id": "71drgKGav_YH",
    "outputId": "fb9f060f-6493-43d1-f71e-4823ef7ecbeb"
   },
   "outputs": [],
   "source": [
    "def get_device():\n",
    "    print(torch.cuda.is_available())\n",
    "    if torch.cuda.is_available():\n",
    "        return torch.device('cuda')\n",
    "    else:\n",
    "        return torch.device('cpu')\n",
    "        \n",
    "def to_device(data, device):\n",
    "    if isinstance(data, (list, tuple)):\n",
    "        return [to_device(x, device) for x in data]\n",
    "    return data.to(device, non_blocking=True)\n",
    "\n",
    "class DeviceDataLoader():\n",
    "    def __init__(self, dl, device):\n",
    "        self.dl = dl\n",
    "        self.device = device\n",
    "        \n",
    "    def __iter__(self):\n",
    "        for b in self.dl:\n",
    "            yield to_device(b, self.device)\n",
    "            \n",
    "    def __len__(self):\n",
    "        return len(self.dl)"
   ]
  },
  {
   "cell_type": "code",
   "execution_count": null,
   "metadata": {
    "execution": {
     "iopub.execute_input": "2021-09-06T08:34:39.204532Z",
     "iopub.status.busy": "2021-09-06T08:34:39.204142Z",
     "iopub.status.idle": "2021-09-06T08:34:41.608741Z",
     "shell.execute_reply": "2021-09-06T08:34:41.607790Z",
     "shell.execute_reply.started": "2021-09-06T08:34:39.204495Z"
    },
    "id": "Tg9Zqb6pwJ3w",
    "outputId": "d40ac311-e17e-4e97-96d7-c3b427aead97"
   },
   "outputs": [],
   "source": [
    "device = get_device()\n",
    "## Loading data to devide\n",
    "train_dl = DeviceDataLoader(train_dl, device)\n",
    "test_dl = DeviceDataLoader(test_dl, device)\n",
    "## Loading model to device\n",
    "model = to_device(LULC_Model(), device)\n",
    "## lets try passing a batch to model again\n",
    "try_batch(train_dl)"
   ]
  },
  {
   "cell_type": "code",
   "execution_count": null,
   "metadata": {
    "execution": {
     "iopub.execute_input": "2021-09-06T08:34:41.610744Z",
     "iopub.status.busy": "2021-09-06T08:34:41.610371Z",
     "iopub.status.idle": "2021-09-06T08:34:41.844778Z",
     "shell.execute_reply": "2021-09-06T08:34:41.843725Z",
     "shell.execute_reply.started": "2021-09-06T08:34:41.610701Z"
    },
    "id": "71NKR6kfwdjt",
    "outputId": "28fa5868-f259-437f-a270-12dc842fd20b"
   },
   "outputs": [],
   "source": [
    "torch.cuda.empty_cache()"
   ]
  },
  {
   "cell_type": "markdown",
   "metadata": {
    "id": "xjHrpjjiwdmz"
   },
   "source": [
    "## Training"
   ]
  },
  {
   "cell_type": "code",
   "execution_count": null,
   "metadata": {
    "execution": {
     "iopub.execute_input": "2021-09-06T08:34:41.847316Z",
     "iopub.status.busy": "2021-09-06T08:34:41.846691Z",
     "iopub.status.idle": "2021-09-06T08:35:06.681967Z",
     "shell.execute_reply": "2021-09-06T08:35:06.680940Z",
     "shell.execute_reply.started": "2021-09-06T08:34:41.847274Z"
    },
    "id": "EaYTr3Zcwdpo",
    "outputId": "6dc7d6f3-2f2e-4044-9a0a-87f21300f884"
   },
   "outputs": [],
   "source": [
    "## Hyper Parameters\n",
    "max_epochs_stop = 5\n",
    "max_lr = 1e-4\n",
    "grad_clip = 0.1\n",
    "weight_decay = 0\n",
    "batch_size = 64\n",
    "criterion = nn.CrossEntropyLoss()\n",
    "epochs = 25\n",
    "opt_func = torch.optim.Adam\n",
    "## Evaluating with non-trained model\n",
    "evaluate(model, test_dl)"
   ]
  },
  {
   "cell_type": "code",
   "execution_count": null,
   "metadata": {
    "execution": {
     "iopub.execute_input": "2021-09-06T08:35:06.686227Z",
     "iopub.status.busy": "2021-09-06T08:35:06.685960Z",
     "iopub.status.idle": "2021-09-06T09:54:55.051920Z",
     "shell.execute_reply": "2021-09-06T09:54:55.050504Z",
     "shell.execute_reply.started": "2021-09-06T08:35:06.686199Z"
    },
    "id": "qJcc1Ps6wv3H",
    "outputId": "7465ff7d-46cc-4d9c-bda0-536b4434f264"
   },
   "outputs": [],
   "source": [
    "## Freezing except last layer\n",
    "model.freeze()\n",
    "## Training\n",
    "history = fit(epochs, max_lr, model, train_dl, test_dl, weight_decay, grad_clip, opt_func, max_epochs_stop)"
   ]
  },
  {
   "cell_type": "markdown",
   "metadata": {
    "id": "sBtU_iTcw6gP"
   },
   "source": [
    "## Reports"
   ]
  },
  {
   "cell_type": "markdown",
   "metadata": {
    "id": "ISrA3IXyxQlQ"
   },
   "source": [
    "### Training Reports"
   ]
  },
  {
   "cell_type": "code",
   "execution_count": null,
   "metadata": {
    "execution": {
     "iopub.execute_input": "2021-09-06T09:54:55.059559Z",
     "iopub.status.busy": "2021-09-06T09:54:55.057322Z",
     "iopub.status.idle": "2021-09-06T09:54:55.374886Z",
     "shell.execute_reply": "2021-09-06T09:54:55.374120Z",
     "shell.execute_reply.started": "2021-09-06T09:54:55.059482Z"
    },
    "id": "9-rVoqj0wv6y",
    "outputId": "c026bff6-b6cf-4d53-9f45-5050d6f80929"
   },
   "outputs": [],
   "source": [
    "def plot_losses(history):\n",
    "    train_losses = [x.get('train_loss') for x in history]\n",
    "    val_losses = [x['val_loss'] for x in history]\n",
    "    plt.plot(train_losses, '-bx')\n",
    "    plt.plot(val_losses, '-rx')\n",
    "    plt.xlabel('epoch')\n",
    "    plt.ylabel('loss')\n",
    "    plt.legend(['Training', 'Validation'])\n",
    "    plt.title('Loss vs. No. of epochs');\n",
    "    \n",
    "plot_losses(history)"
   ]
  },
  {
   "cell_type": "code",
   "execution_count": null,
   "metadata": {
    "execution": {
     "iopub.execute_input": "2021-09-06T09:54:55.380365Z",
     "iopub.status.busy": "2021-09-06T09:54:55.378448Z",
     "iopub.status.idle": "2021-09-06T09:54:55.562458Z",
     "shell.execute_reply": "2021-09-06T09:54:55.561601Z",
     "shell.execute_reply.started": "2021-09-06T09:54:55.380325Z"
    },
    "id": "5V3D4z6pwv0x",
    "outputId": "1f7e14eb-7e55-414a-91fd-fb78a83ea8a1"
   },
   "outputs": [],
   "source": [
    "def plot_accuracy(history):\n",
    "        \n",
    "    train_accu = [x.get('train_accu') for x in history]\n",
    "    val_accu = [x['val_acc'] for x in history]\n",
    "    plt.plot(train_accu, '-bx')\n",
    "    plt.plot(val_accu, '-rx')\n",
    "    plt.xlabel('epoch')\n",
    "    plt.ylabel('Accuracy')\n",
    "    plt.legend(['Training', 'Validation'])\n",
    "    plt.title('Accuracy vs. No. of epochs');\n",
    "plot_accuracy(history)"
   ]
  },
  {
   "cell_type": "code",
   "execution_count": null,
   "metadata": {
    "execution": {
     "iopub.execute_input": "2021-09-06T09:54:55.564202Z",
     "iopub.status.busy": "2021-09-06T09:54:55.563701Z",
     "iopub.status.idle": "2021-09-06T09:54:55.695820Z",
     "shell.execute_reply": "2021-09-06T09:54:55.694900Z",
     "shell.execute_reply.started": "2021-09-06T09:54:55.564162Z"
    },
    "id": "hQjCv2XRw_M5",
    "outputId": "613944e5-3f8f-47c9-ec2b-02b0cbe779ce"
   },
   "outputs": [],
   "source": [
    "def plot_lrs(history):\n",
    "    lrs = np.concatenate([x.get('lrs', []) for x in history])\n",
    "    plt.plot(lrs)\n",
    "    plt.xlabel('Batch no.')\n",
    "    plt.ylabel('Learning rate')\n",
    "    plt.title('Learning Rate vs. Batch no.');\n",
    "    \n",
    "plot_lrs(history)"
   ]
  },
  {
   "cell_type": "markdown",
   "metadata": {
    "id": "o-NoeFJRwh4y"
   },
   "source": [
    "## Evaluation on test dataset"
   ]
  },
  {
   "cell_type": "code",
   "execution_count": null,
   "metadata": {
    "execution": {
     "iopub.execute_input": "2021-09-06T09:54:55.697549Z",
     "iopub.status.busy": "2021-09-06T09:54:55.697211Z",
     "iopub.status.idle": "2021-09-06T09:54:57.260876Z",
     "shell.execute_reply": "2021-09-06T09:54:57.259819Z",
     "shell.execute_reply.started": "2021-09-06T09:54:55.697513Z"
    },
    "id": "0Fj0vW6l_AUI",
    "outputId": "ea0a1e97-59b9-4dcf-9082-a99f19876008"
   },
   "outputs": [],
   "source": [
    "## Evaluation with best validation accuracy model\n",
    "model = LULC_Model()\n",
    "model.load_state_dict(torch.load(\"./lulc_max_acc.pth\"))\n",
    "model.eval()\n",
    "model = to_device(model, device)"
   ]
  },
  {
   "cell_type": "code",
   "execution_count": null,
   "metadata": {
    "execution": {
     "iopub.execute_input": "2021-09-06T09:54:57.262647Z",
     "iopub.status.busy": "2021-09-06T09:54:57.262287Z",
     "iopub.status.idle": "2021-09-06T09:54:57.269607Z",
     "shell.execute_reply": "2021-09-06T09:54:57.268764Z",
     "shell.execute_reply.started": "2021-09-06T09:54:57.262608Z"
    },
    "id": "CZGjbH7v1qnZ",
    "outputId": "e437b052-9317-4660-8a92-90fa6c7bc4a4"
   },
   "outputs": [],
   "source": [
    "@torch.no_grad()\n",
    "def predict_dl(dl, model):\n",
    "    torch.cuda.empty_cache()\n",
    "    batch_pred, labels = [], []\n",
    "    for xb, label in tqdm(dl):\n",
    "        probs = model(xb)\n",
    "        _, pred = torch.max(probs.cpu().detach(), dim=1)\n",
    "        batch_pred.append(pred.cpu().detach())     \n",
    "        labels.append(label)   \n",
    "    return [x for x in batch_pred], \\\n",
    "            [x for x in labels]"
   ]
  },
  {
   "cell_type": "code",
   "execution_count": null,
   "metadata": {
    "execution": {
     "iopub.execute_input": "2021-09-06T09:54:57.271511Z",
     "iopub.status.busy": "2021-09-06T09:54:57.270899Z",
     "iopub.status.idle": "2021-09-06T09:54:57.281819Z",
     "shell.execute_reply": "2021-09-06T09:54:57.280833Z",
     "shell.execute_reply.started": "2021-09-06T09:54:57.271472Z"
    },
    "id": "NJJT9yrS4CRo",
    "outputId": "c705ce35-51ca-45ba-eedd-646f23016582"
   },
   "outputs": [],
   "source": [
    "device = get_device()\n",
    "## Loading data to devide\n",
    "batch_size =1\n",
    "test_dl = DataLoader(test_ds, batch_size, shuffle=False, num_workers=2, pin_memory=True)\n",
    "test_dl = DeviceDataLoader(test_dl, device)"
   ]
  },
  {
   "cell_type": "code",
   "execution_count": null,
   "metadata": {
    "execution": {
     "iopub.execute_input": "2021-09-06T09:54:57.283738Z",
     "iopub.status.busy": "2021-09-06T09:54:57.283259Z",
     "iopub.status.idle": "2021-09-06T09:57:45.443636Z",
     "shell.execute_reply": "2021-09-06T09:57:45.442733Z",
     "shell.execute_reply.started": "2021-09-06T09:54:57.283594Z"
    }
   },
   "outputs": [],
   "source": [
    "predictions, labels = predict_dl(test_dl, model)\n",
    "preds = [x.item() for x in predictions]\n",
    "labs = [x.item() for x in labels]"
   ]
  },
  {
   "cell_type": "code",
   "execution_count": null,
   "metadata": {
    "execution": {
     "iopub.execute_input": "2021-09-06T10:11:48.007125Z",
     "iopub.status.busy": "2021-09-06T10:11:48.006784Z",
     "iopub.status.idle": "2021-09-06T10:11:48.037886Z",
     "shell.execute_reply": "2021-09-06T10:11:48.036894Z",
     "shell.execute_reply.started": "2021-09-06T10:11:48.007093Z"
    }
   },
   "outputs": [],
   "source": [
    "from sklearn.metrics import confusion_matrix, accuracy_score\n",
    "cm = confusion_matrix(labs, preds)\n",
    "cm = cm / cm.astype(np.float).sum(axis=1)\n",
    "cm = np.round(cm, 4) * 100\n",
    "acc = accuracy_score(labs, preds)\n",
    "print(f'''Accuracy of test data is: {acc*100:.2f} %''' )"
   ]
  },
  {
   "cell_type": "code",
   "execution_count": null,
   "metadata": {
    "execution": {
     "iopub.execute_input": "2021-09-06T10:11:48.136381Z",
     "iopub.status.busy": "2021-09-06T10:11:48.136081Z",
     "iopub.status.idle": "2021-09-06T10:11:48.759156Z",
     "shell.execute_reply": "2021-09-06T10:11:48.758273Z",
     "shell.execute_reply.started": "2021-09-06T10:11:48.136347Z"
    }
   },
   "outputs": [],
   "source": [
    "plt.figure(figsize = (15,8))\n",
    "ax = sns.heatmap(cm, annot=True, fmt='g');\n",
    "ax.set_title(f'Confusion Matrix for {approach} Approach');\n",
    "ax.set_xlabel('Predicted')\n",
    "ax.set_ylabel('Actual');\n",
    "plt.yticks(rotation=30) \n",
    "plt.xticks(rotation=30) \n",
    "## For the Tick Labels, the labels should be in Alphabetical order\n",
    "ax.xaxis.set_ticklabels(CLASSES)\n",
    "ax.yaxis.set_ticklabels(CLASSES)\n",
    "plt.show()"
   ]
  },
  {
   "cell_type": "markdown",
   "metadata": {
    "id": "4Skuild2_MN8"
   },
   "source": [
    "### Prediction Reports"
   ]
  },
  {
   "cell_type": "code",
   "execution_count": null,
   "metadata": {
    "execution": {
     "iopub.execute_input": "2021-09-06T09:57:46.260648Z",
     "iopub.status.busy": "2021-09-06T09:57:46.260068Z",
     "iopub.status.idle": "2021-09-06T09:57:47.975505Z",
     "shell.execute_reply": "2021-09-06T09:57:47.974732Z",
     "shell.execute_reply.started": "2021-09-06T09:57:46.260605Z"
    }
   },
   "outputs": [],
   "source": [
    "### Predict Single Images\n",
    "def predict_single(image):\n",
    "    xb = image.unsqueeze(0)\n",
    "    xb = to_device(xb, device)\n",
    "    preds = model(xb)\n",
    "    _, prediction = torch.max(preds.cpu().detach(), dim=1)\n",
    "    return decode_target(int(prediction), text_labels=True)\n",
    "\n",
    "def plot_samples(img_dir, rows=3, cols=3):\n",
    "    plt.figure()\n",
    "    f, axs = plt.subplots(rows, cols, figsize=(16, 18))\n",
    "    k = 120\n",
    "    for i in range(rows):\n",
    "        for j in range(cols):\n",
    "            predicted = predict_single(test_ds[k][0])\n",
    "            actual = decode_target(test_ds[k][1], text_labels=True)\n",
    "            text = f\"Actual: {actual} \\n Predicted: {predicted}\"\n",
    "            axs[i, j].title.set_text(text)\n",
    "            axs[i, j].imshow(test_ds[k][0].permute(1, 2, 0))\n",
    "            \n",
    "            k += 1\n",
    "\n",
    "plot_samples(BASE_PATH)"
   ]
  },
  {
   "cell_type": "markdown",
   "metadata": {},
   "source": [
    "## Evaluation on overall dataset"
   ]
  },
  {
   "cell_type": "code",
   "execution_count": null,
   "metadata": {
    "execution": {
     "iopub.execute_input": "2021-09-06T10:15:29.157502Z",
     "iopub.status.busy": "2021-09-06T10:15:29.157139Z",
     "iopub.status.idle": "2021-09-06T10:15:29.165231Z",
     "shell.execute_reply": "2021-09-06T10:15:29.163094Z",
     "shell.execute_reply.started": "2021-09-06T10:15:29.157469Z"
    }
   },
   "outputs": [],
   "source": [
    "device = get_device()\n",
    "## Loading data to devide\n",
    "batch_size =1\n",
    "test_ds = EuroSAT(DATA_DF, BASE_PATH, train_data_transform)\n",
    "test_dl = DataLoader(test_ds, batch_size, shuffle=False, num_workers=2, pin_memory=True)\n",
    "test_dl = DeviceDataLoader(test_dl, device)"
   ]
  },
  {
   "cell_type": "code",
   "execution_count": null,
   "metadata": {
    "execution": {
     "iopub.execute_input": "2021-09-06T10:15:43.586908Z",
     "iopub.status.busy": "2021-09-06T10:15:43.586578Z",
     "iopub.status.idle": "2021-09-06T10:26:55.404512Z",
     "shell.execute_reply": "2021-09-06T10:26:55.403422Z",
     "shell.execute_reply.started": "2021-09-06T10:15:43.586871Z"
    }
   },
   "outputs": [],
   "source": [
    "predictions, labels = predict_dl(test_dl, model)\n",
    "preds = [x.item() for x in predictions]\n",
    "labs = [x.item() for x in labels]"
   ]
  },
  {
   "cell_type": "code",
   "execution_count": null,
   "metadata": {
    "execution": {
     "iopub.execute_input": "2021-09-06T10:27:05.478901Z",
     "iopub.status.busy": "2021-09-06T10:27:05.478582Z",
     "iopub.status.idle": "2021-09-06T10:27:05.576193Z",
     "shell.execute_reply": "2021-09-06T10:27:05.575287Z",
     "shell.execute_reply.started": "2021-09-06T10:27:05.478871Z"
    }
   },
   "outputs": [],
   "source": [
    "from sklearn.metrics import confusion_matrix, accuracy_score\n",
    "cm = confusion_matrix(labs, preds)\n",
    "cm = cm / cm.astype(np.float).sum(axis=1)\n",
    "cm = np.round(cm, 4) * 100\n",
    "acc = accuracy_score(labs, preds)\n",
    "print(f'''Accuracy of overall data is: {acc*100:.2f} %''' )"
   ]
  },
  {
   "cell_type": "code",
   "execution_count": null,
   "metadata": {
    "execution": {
     "iopub.execute_input": "2021-09-06T10:27:09.711065Z",
     "iopub.status.busy": "2021-09-06T10:27:09.710699Z",
     "iopub.status.idle": "2021-09-06T10:27:10.348620Z",
     "shell.execute_reply": "2021-09-06T10:27:10.347521Z",
     "shell.execute_reply.started": "2021-09-06T10:27:09.711031Z"
    }
   },
   "outputs": [],
   "source": [
    "plt.figure(figsize = (15,8))\n",
    "ax = sns.heatmap(cm, annot=True, fmt='g');\n",
    "ax.set_title(f'Confusion Matrix for {approach} Approach');\n",
    "ax.set_xlabel('Predicted')\n",
    "ax.set_ylabel('Actual');\n",
    "plt.yticks(rotation=30) \n",
    "plt.xticks(rotation=30) \n",
    "## For the Tick Labels, the labels should be in Alphabetical order\n",
    "ax.xaxis.set_ticklabels(CLASSES)\n",
    "ax.yaxis.set_ticklabels(CLASSES)\n",
    "plt.show()"
   ]
  },
  {
   "cell_type": "markdown",
   "metadata": {},
   "source": []
  }
 ],
 "metadata": {
  "kernelspec": {
   "display_name": "Python 3 (ipykernel)",
   "language": "python",
   "name": "python3"
  },
  "language_info": {
   "codemirror_mode": {
    "name": "ipython",
    "version": 3
   },
   "file_extension": ".py",
   "mimetype": "text/x-python",
   "name": "python",
   "nbconvert_exporter": "python",
   "pygments_lexer": "ipython3",
   "version": "3.9.7"
  }
 },
 "nbformat": 4,
 "nbformat_minor": 4
}
