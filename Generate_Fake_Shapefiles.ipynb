{
 "cells": [
  {
   "cell_type": "code",
   "execution_count": 1,
   "metadata": {
    "colab": {
     "base_uri": "https://localhost:8080/"
    },
    "id": "Qcqtkdebe3oE",
    "outputId": "3519d493-8cea-45f0-fcea-1ec765ade0b2"
   },
   "outputs": [
    {
     "name": "stdout",
     "output_type": "stream",
     "text": [
      "Looking in indexes: https://pypi.org/simple, https://us-python.pkg.dev/colab-wheels/public/simple/\n",
      "Collecting geopandas\n",
      "  Downloading geopandas-0.10.2-py2.py3-none-any.whl (1.0 MB)\n",
      "\u001b[K     |████████████████████████████████| 1.0 MB 5.1 MB/s \n",
      "\u001b[?25hRequirement already satisfied: shapely>=1.6 in /usr/local/lib/python3.7/dist-packages (from geopandas) (1.8.2)\n",
      "Collecting fiona>=1.8\n",
      "  Downloading Fiona-1.8.21-cp37-cp37m-manylinux2014_x86_64.whl (16.7 MB)\n",
      "\u001b[K     |████████████████████████████████| 16.7 MB 10.9 MB/s \n",
      "\u001b[?25hRequirement already satisfied: pandas>=0.25.0 in /usr/local/lib/python3.7/dist-packages (from geopandas) (1.3.5)\n",
      "Collecting pyproj>=2.2.0\n",
      "  Downloading pyproj-3.2.1-cp37-cp37m-manylinux2010_x86_64.whl (6.3 MB)\n",
      "\u001b[K     |████████████████████████████████| 6.3 MB 36.5 MB/s \n",
      "\u001b[?25hRequirement already satisfied: attrs>=17 in /usr/local/lib/python3.7/dist-packages (from fiona>=1.8->geopandas) (21.4.0)\n",
      "Collecting cligj>=0.5\n",
      "  Downloading cligj-0.7.2-py3-none-any.whl (7.1 kB)\n",
      "Requirement already satisfied: certifi in /usr/local/lib/python3.7/dist-packages (from fiona>=1.8->geopandas) (2022.6.15)\n",
      "Requirement already satisfied: setuptools in /usr/local/lib/python3.7/dist-packages (from fiona>=1.8->geopandas) (57.4.0)\n",
      "Collecting munch\n",
      "  Downloading munch-2.5.0-py2.py3-none-any.whl (10 kB)\n",
      "Collecting click-plugins>=1.0\n",
      "  Downloading click_plugins-1.1.1-py2.py3-none-any.whl (7.5 kB)\n",
      "Requirement already satisfied: six>=1.7 in /usr/local/lib/python3.7/dist-packages (from fiona>=1.8->geopandas) (1.15.0)\n",
      "Requirement already satisfied: click>=4.0 in /usr/local/lib/python3.7/dist-packages (from fiona>=1.8->geopandas) (7.1.2)\n",
      "Requirement already satisfied: python-dateutil>=2.7.3 in /usr/local/lib/python3.7/dist-packages (from pandas>=0.25.0->geopandas) (2.8.2)\n",
      "Requirement already satisfied: pytz>=2017.3 in /usr/local/lib/python3.7/dist-packages (from pandas>=0.25.0->geopandas) (2022.1)\n",
      "Requirement already satisfied: numpy>=1.17.3 in /usr/local/lib/python3.7/dist-packages (from pandas>=0.25.0->geopandas) (1.21.6)\n",
      "Installing collected packages: munch, cligj, click-plugins, pyproj, fiona, geopandas\n",
      "Successfully installed click-plugins-1.1.1 cligj-0.7.2 fiona-1.8.21 geopandas-0.10.2 munch-2.5.0 pyproj-3.2.1\n"
     ]
    }
   ],
   "source": [
    "import ee\n",
    "\n",
    "import pandas as pd\n",
    "import re\n",
    "import matplotlib.pyplot as plt\n",
    "%matplotlib inline\n",
    "\n",
    "from datetime import date\n",
    "from datetime import timedelta\n",
    "import zipfile\n",
    "import os\n",
    "import requests\n",
    "\n",
    "import numpy as np\n",
    "\n",
    "import geopy.distance\n",
    "!pip install geopandas\n",
    "import geopandas  as gpd\n",
    "from shapely.geometry import Point, LineString, Polygon\n",
    "\n",
    "\n",
    "# Import specific function 'from_epsg' from fiona module\n",
    "from fiona.crs import from_epsg"
   ]
  },
  {
   "cell_type": "code",
   "execution_count": 12,
   "metadata": {
    "colab": {
     "base_uri": "https://localhost:8080/"
    },
    "id": "EBILFuHUfKw9",
    "outputId": "a2380b4b-c24c-4320-812a-bc865a7aa263"
   },
   "outputs": [
    {
     "name": "stdout",
     "output_type": "stream",
     "text": [
      "Mounted at /content/drive\n"
     ]
    }
   ],
   "source": [
    "# connect to google drive\n",
    "from google.colab import drive  \n",
    "\n",
    "# drive roots\n",
    "DRIVE_MOUNT = '/content/drive'\n",
    "drive.mount(DRIVE_MOUNT, force_remount=True)\n",
    "\n",
    "# set up project directories\n",
    "PROJECT_DIR = DRIVE_MOUNT + \"/My Drive/Volcano_datasets/\"\n",
    "TMP_DIR = PROJECT_DIR + \"TempDIR/\"\n",
    "targets = pd.read_excel(PROJECT_DIR + \"Sample Eruptions.xlsx\")\n",
    "\n",
    "OUTPUT_SHAPE_DIR = PROJECT_DIR+\"output_damage_shapes/\""
   ]
  },
  {
   "cell_type": "code",
   "execution_count": 25,
   "metadata": {
    "colab": {
     "base_uri": "https://localhost:8080/"
    },
    "id": "tVNV1qOqhEHs",
    "outputId": "8d9d398d-6396-4e7e-abd7-884e140bd6c8"
   },
   "outputs": [
    {
     "name": "stdout",
     "output_type": "stream",
     "text": [
      "                                             geometry              Volc_Name  \\\n",
      "0   POLYGON ((130.21700 30.44502, 130.21823 30.449...       Kuchinoerabujima   \n",
      "1   POLYGON ((130.21700 30.45285, 130.21939 30.454...       Kuchinoerabujima   \n",
      "2   POLYGON ((120.99300 14.01059, 120.99358 14.005...                   Taal   \n",
      "3   POLYGON ((120.99300 14.04334, 120.99486 14.012...                   Taal   \n",
      "4   POLYGON ((-91.55000 -0.36779, -91.54864 -0.362...             Fernandina   \n",
      "5   POLYGON ((-91.55000 -0.34811, -91.54233 -0.326...             Fernandina   \n",
      "6   POLYGON ((-85.32400 10.83611, -85.32329 10.833...     Rincon_de_la_Vieja   \n",
      "7   POLYGON ((-85.32400 10.84845, -85.32112 10.846...     Rincon_de_la_Vieja   \n",
      "8   POLYGON ((130.30500 30.80108, 130.30603 30.798...                  Kikai   \n",
      "9   POLYGON ((130.30500 30.82634, 130.31122 30.823...                  Kikai   \n",
      "10  POLYGON ((123.50800 -8.26762, 123.50855 -8.270...              Lewotolok   \n",
      "11  POLYGON ((123.50800 -8.27371, 123.51009 -8.262...              Lewotolok   \n",
      "12  POLYGON ((-155.28700 19.42553, -155.28694 19.4...                Kilauea   \n",
      "13  POLYGON ((-155.28700 19.44403, -155.28572 19.4...                Kilauea   \n",
      "14  POLYGON ((112.95000 -7.93899, 112.95068 -7.938...        Tengger_Caldera   \n",
      "15  POLYGON ((112.95000 -7.93839, 112.95290 -7.925...        Tengger_Caldera   \n",
      "16  POLYGON ((-61.18000 13.33219, -61.17931 13.333...   Soufriere_St_Vincent   \n",
      "17  POLYGON ((-61.18000 13.35942, -61.17484 13.358...   Soufriere_St_Vincent   \n",
      "18  POLYGON ((-87.00400 12.70499, -87.00268 12.709...          San_Cristobal   \n",
      "19  POLYGON ((-87.00400 12.72918, -87.00264 12.709...          San_Cristobal   \n",
      "20  POLYGON ((110.44600 -7.53347, 110.44674 -7.535...                 Merapi   \n",
      "21  POLYGON ((110.44600 -7.53704, 110.44912 -7.522...                 Merapi   \n",
      "22  POLYGON ((55.70800 -21.23695, 55.70942 -21.236...  Fournaise_Piton_de_la   \n",
      "23  POLYGON ((55.70800 -21.22923, 55.71522 -21.205...  Fournaise_Piton_de_la   \n",
      "24  POLYGON ((55.70800 -21.24383, 55.70853 -21.241...  Fournaise_Piton_de_la   \n",
      "25  POLYGON ((55.70800 -21.21824, 55.70949 -21.236...  Fournaise_Piton_de_la   \n",
      "26  POLYGON ((-88.26900 13.43870, -88.26886 13.434...             San_Miguel   \n",
      "27  POLYGON ((-88.26900 13.44924, -88.26268 13.469...             San_Miguel   \n",
      "28  POLYGON ((153.20000 48.09472, 153.20130 48.096...          Sarychev_Peak   \n",
      "29  POLYGON ((153.20000 48.10576, 153.20000 48.092...          Sarychev_Peak   \n",
      "30  POLYGON ((157.97900 -8.98771, 157.97922 -8.989...                Kavachi   \n",
      "31  POLYGON ((157.97900 -8.95609, 157.98575 -8.952...                Kavachi   \n",
      "32  POLYGON ((124.73700 1.11706, 124.73823 1.11901...                Soputan   \n",
      "33  POLYGON ((124.73700 1.15193, 124.74205 1.14085...                Soputan   \n",
      "34  POLYGON ((159.44300 54.05644, 159.44306 54.049...               Karymsky   \n",
      "35  POLYGON ((159.44300 54.08711, 159.45625 54.093...               Karymsky   \n",
      "36  POLYGON ((130.30500 30.79827, 130.30533 30.794...                  Kikai   \n",
      "37  POLYGON ((130.30500 30.79953, 130.31353 30.834...                  Kikai   \n",
      "38  POLYGON ((-169.94400 52.82587, -169.94171 52.8...              Cleveland   \n",
      "39  POLYGON ((-169.94400 52.84216, -169.93944 52.8...              Cleveland   \n",
      "40  POLYGON ((-71.18300 -37.84975, -71.18274 -37.8...                Copahue   \n",
      "41  POLYGON ((-71.18300 -37.84455, -71.17886 -37.8...                Copahue   \n",
      "42  POLYGON ((-83.76700 10.02798, -83.76681 10.026...              Turrialba   \n",
      "43  POLYGON ((-83.76700 10.04291, -83.76347 10.044...              Turrialba   \n",
      "44  POLYGON ((114.05600 -8.11193, 114.05656 -8.115...                  Raung   \n",
      "45  POLYGON ((114.05600 -8.11145, 114.06359 -8.076...                  Raung   \n",
      "46  POLYGON ((-86.84000 12.60794, -86.83860 12.613...                 Telica   \n",
      "47  POLYGON ((-86.84000 12.62889, -86.83787 12.617...                 Telica   \n",
      "48  POLYGON ((130.21700 30.44793, 130.21770 30.446...       Kuchinoerabujima   \n",
      "49  POLYGON ((130.21700 30.45760, 130.21802 30.448...       Kuchinoerabujima   \n",
      "50  POLYGON ((98.39200 3.17040, 98.39300 3.17571, ...               Sinabung   \n",
      "51  POLYGON ((98.39200 3.19346, 98.39981 3.21450, ...               Sinabung   \n",
      "52  POLYGON ((157.97900 -8.98867, 157.98048 -8.982...                Kavachi   \n",
      "53  POLYGON ((157.97900 -8.95916, 157.98571 -8.953...                Kavachi   \n",
      "\n",
      "    Volc_Num  Erupt_Num    Est_Date  layer  \n",
      "0   282050.0    22345.0  2020-01-11    1.0  \n",
      "1   282050.0    22345.0  2020-01-11    5.0  \n",
      "2   273070.0    22344.0  2020-01-12    1.0  \n",
      "3   273070.0    22344.0  2020-01-12    5.0  \n",
      "4   353010.0    22347.0  2020-01-12    1.0  \n",
      "5   353010.0    22347.0  2020-01-12    5.0  \n",
      "6   345020.0    22346.0  2020-01-30    1.0  \n",
      "7   345020.0    22346.0  2020-01-30    5.0  \n",
      "8   282060.0    22374.0  2020-10-06    1.0  \n",
      "9   282060.0    22374.0  2020-10-06    5.0  \n",
      "10  264230.0    22373.0  2020-11-27    1.0  \n",
      "11  264230.0    22373.0  2020-11-27    5.0  \n",
      "12  332010.0    22380.0  2020-12-20    1.0  \n",
      "13  332010.0    22380.0  2020-12-20    5.0  \n",
      "14  263310.0    22382.0  2020-12-26    1.0  \n",
      "15  263310.0    22382.0  2020-12-26    5.0  \n",
      "16  360150.0    22385.0  2020-12-27    1.0  \n",
      "17  360150.0    22385.0  2020-12-27    5.0  \n",
      "18  344020.0    22394.0  2020-12-27    1.0  \n",
      "19  344020.0    22394.0  2020-12-27    5.0  \n",
      "20  263250.0    22381.0  2020-12-31    1.0  \n",
      "21  263250.0    22381.0  2020-12-31    5.0  \n",
      "22  233020.0    22371.0  2020-12-07    1.0  \n",
      "23  233020.0    22371.0  2020-12-07    5.0  \n",
      "24  233020.0    22343.0  2020-02-10    1.0  \n",
      "25  233020.0    22343.0  2020-02-10    5.0  \n",
      "26  343100.0    22355.0  2020-02-22    1.0  \n",
      "27  343100.0    22355.0  2020-02-22    5.0  \n",
      "28  290240.0    22384.0  2020-02-29    1.0  \n",
      "29  290240.0    22384.0  2020-02-29    5.0  \n",
      "30  255060.0    22357.0  2020-03-16    1.0  \n",
      "31  255060.0    22357.0  2020-03-16    5.0  \n",
      "32  266030.0    22354.0  2020-03-23    1.0  \n",
      "33  266030.0    22354.0  2020-03-23    5.0  \n",
      "34  300130.0    22360.0  2020-04-01    1.0  \n",
      "35  300130.0    22360.0  2020-04-01    5.0  \n",
      "36  282060.0    22359.0  2020-04-29    1.0  \n",
      "37  282060.0    22359.0  2020-04-29    5.0  \n",
      "38  311240.0    22361.0  2020-06-01    1.0  \n",
      "39  311240.0    22361.0  2020-06-01    5.0  \n",
      "40  357090.0    22376.0  2020-06-16    1.0  \n",
      "41  357090.0    22376.0  2020-06-16    5.0  \n",
      "42  345070.0    22369.0  2020-06-18    1.0  \n",
      "43  345070.0    22369.0  2020-06-18    5.0  \n",
      "44  263340.0    22367.0  2020-07-16    1.0  \n",
      "45  263340.0    22367.0  2020-07-16    5.0  \n",
      "46  344040.0    22368.0  2020-07-20    1.0  \n",
      "47  344040.0    22368.0  2020-07-20    5.0  \n",
      "48  282050.0    22391.0  2020-08-29    1.0  \n",
      "49  282050.0    22391.0  2020-08-29    5.0  \n",
      "50  261080.0    22365.0  2020-08-08    1.0  \n",
      "51  261080.0    22365.0  2020-08-08    5.0  \n",
      "52  255060.0    22364.0  2020-09-02    1.0  \n",
      "53  255060.0    22364.0  2020-09-02    5.0  \n"
     ]
    }
   ],
   "source": [
    "distances = [1,5]\n",
    "newdata = gpd.GeoDataFrame()\n",
    "id = 0\n",
    "for ivol in range(targets.shape[0]):\n",
    "  volc = targets.iloc[ivol]\n",
    "  vloc = Point( volc[\"Longitude\"],volc[\"Latitude\"])\n",
    "  v_name = re.sub(r\"[,.]\",\"\",re.sub(r\"\\s+\", \"_\",volc[\"Volcano Name\"]))\n",
    "  erupt_start_date = date(volc[\"Start Year\"].astype(int),\n",
    "                            volc[\"Start Month\"].astype(int),\n",
    "                            volc[\"Start Day\"].astype(int))\n",
    "  \n",
    "  for dist in distances:\n",
    "    pts = []\n",
    "    for bearing in range(0,350,10):\n",
    "      pt =  geopy.distance.distance(kilometers=dist * np.random.rand())\\\n",
    "                   .destination((volc[\"Latitude\"], volc[\"Longitude\"]), bearing=bearing)[:2]\n",
    "      pts.append([pt[1],pt[0]])\n",
    "    poly = Polygon(pts)\n",
    "    newdata.loc[id,'geometry'] = poly\n",
    "    newdata.loc[id,\"Volc_Name\"] = v_name\n",
    "    newdata.loc[id,\"Volc_Num\"] = volc[\"Volcano Number\"]\n",
    "    newdata.loc[id,\"Erupt_Num\"] = volc[\"Eruption Number\"]\n",
    "    newdata.loc[id,\"Est_Date\"] = erupt_start_date.isoformat()\n",
    "    newdata.loc[id,\"layer\"] = dist\n",
    "    id = id +1\n",
    "    \n",
    "print(newdata)\n",
    "newdata.set_crs('EPSG:3857')\n",
    "output_file = f'{OUTPUT_SHAPE_DIR}/all_data.shp'\n",
    "newdata.to_file(output_file)"
   ]
  },
  {
   "cell_type": "code",
   "execution_count": null,
   "metadata": {
    "id": "EV1jN6lYkowv"
   },
   "outputs": [],
   "source": []
  }
 ],
 "metadata": {
  "colab": {
   "collapsed_sections": [],
   "name": "Generate Shapefiles.ipynb",
   "provenance": []
  },
  "kernelspec": {
   "display_name": "Python 3 (ipykernel)",
   "language": "python",
   "name": "python3"
  },
  "language_info": {
   "codemirror_mode": {
    "name": "ipython",
    "version": 3
   },
   "file_extension": ".py",
   "mimetype": "text/x-python",
   "name": "python",
   "nbconvert_exporter": "python",
   "pygments_lexer": "ipython3",
   "version": "3.9.7"
  }
 },
 "nbformat": 4,
 "nbformat_minor": 1
}
